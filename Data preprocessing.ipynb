{
 "cells": [
  {
   "cell_type": "code",
   "execution_count": 1,
   "id": "30804930",
   "metadata": {},
   "outputs": [],
   "source": [
    "import pandas as pd\n",
    "import re"
   ]
  },
  {
   "cell_type": "code",
   "execution_count": 2,
   "id": "d2e6a7b7",
   "metadata": {},
   "outputs": [],
   "source": [
    "jsonData = pd.read_json('Coflein_Export2.json')"
   ]
  },
  {
   "cell_type": "code",
   "execution_count": 56,
   "id": "270a9502",
   "metadata": {},
   "outputs": [
    {
     "data": {
      "text/html": [
       "<div>\n",
       "<style scoped>\n",
       "    .dataframe tbody tr th:only-of-type {\n",
       "        vertical-align: middle;\n",
       "    }\n",
       "\n",
       "    .dataframe tbody tr th {\n",
       "        vertical-align: top;\n",
       "    }\n",
       "\n",
       "    .dataframe thead th {\n",
       "        text-align: right;\n",
       "    }\n",
       "</style>\n",
       "<table border=\"1\" class=\"dataframe\">\n",
       "  <thead>\n",
       "    <tr style=\"text-align: right;\">\n",
       "      <th></th>\n",
       "      <th>index</th>\n",
       "      <th>resourceinstance</th>\n",
       "      <th>tiles</th>\n",
       "    </tr>\n",
       "  </thead>\n",
       "  <tbody>\n",
       "    <tr>\n",
       "      <th>0</th>\n",
       "      <td>row_0</td>\n",
       "      <td>{'graph_id': '60120f3c-9ff2-11ea-a530-000d3a86...</td>\n",
       "      <td>[{'data': {'60120f6e-9ff2-11ea-a530-000d3a86d7...</td>\n",
       "    </tr>\n",
       "    <tr>\n",
       "      <th>1</th>\n",
       "      <td>row_1</td>\n",
       "      <td>{'graph_id': '60120f3c-9ff2-11ea-a530-000d3a86...</td>\n",
       "      <td>[{'data': {'60120f6e-9ff2-11ea-a530-000d3a86d7...</td>\n",
       "    </tr>\n",
       "    <tr>\n",
       "      <th>2</th>\n",
       "      <td>row_2</td>\n",
       "      <td>{'graph_id': '60120f3c-9ff2-11ea-a530-000d3a86...</td>\n",
       "      <td>[{'data': {'0b5446f8-a00c-11ea-a530-000d3a86d7...</td>\n",
       "    </tr>\n",
       "    <tr>\n",
       "      <th>3</th>\n",
       "      <td>row_3</td>\n",
       "      <td>{'graph_id': '60120f3c-9ff2-11ea-a530-000d3a86...</td>\n",
       "      <td>[{'data': {'60120f58-9ff2-11ea-a530-000d3a86d7...</td>\n",
       "    </tr>\n",
       "    <tr>\n",
       "      <th>4</th>\n",
       "      <td>row_4</td>\n",
       "      <td>{'graph_id': '60120f3c-9ff2-11ea-a530-000d3a86...</td>\n",
       "      <td>[{'data': {'60120f61-9ff2-11ea-a530-000d3a86d7...</td>\n",
       "    </tr>\n",
       "    <tr>\n",
       "      <th>...</th>\n",
       "      <td>...</td>\n",
       "      <td>...</td>\n",
       "      <td>...</td>\n",
       "    </tr>\n",
       "    <tr>\n",
       "      <th>119714</th>\n",
       "      <td>row_119714</td>\n",
       "      <td>{'graph_id': '60120f3c-9ff2-11ea-a530-000d3a86...</td>\n",
       "      <td>[{'data': {'60120f4f-9ff2-11ea-a530-000d3a86d7...</td>\n",
       "    </tr>\n",
       "    <tr>\n",
       "      <th>119715</th>\n",
       "      <td>row_119715</td>\n",
       "      <td>{'graph_id': '60120f3c-9ff2-11ea-a530-000d3a86...</td>\n",
       "      <td>[{'data': {'60120f4c-9ff2-11ea-a530-000d3a86d7...</td>\n",
       "    </tr>\n",
       "    <tr>\n",
       "      <th>119716</th>\n",
       "      <td>row_119716</td>\n",
       "      <td>{'graph_id': '60120f3c-9ff2-11ea-a530-000d3a86...</td>\n",
       "      <td>[{'data': {'60120f4c-9ff2-11ea-a530-000d3a86d7...</td>\n",
       "    </tr>\n",
       "    <tr>\n",
       "      <th>119717</th>\n",
       "      <td>row_119717</td>\n",
       "      <td>{'graph_id': '60120f3c-9ff2-11ea-a530-000d3a86...</td>\n",
       "      <td>[{'data': {'60120f4c-9ff2-11ea-a530-000d3a86d7...</td>\n",
       "    </tr>\n",
       "    <tr>\n",
       "      <th>119718</th>\n",
       "      <td>row_119718</td>\n",
       "      <td>{'graph_id': '60120f3c-9ff2-11ea-a530-000d3a86...</td>\n",
       "      <td>[{'data': {'60120f4c-9ff2-11ea-a530-000d3a86d7...</td>\n",
       "    </tr>\n",
       "  </tbody>\n",
       "</table>\n",
       "<p>119719 rows × 3 columns</p>\n",
       "</div>"
      ],
      "text/plain": [
       "             index                                   resourceinstance  \\\n",
       "0            row_0  {'graph_id': '60120f3c-9ff2-11ea-a530-000d3a86...   \n",
       "1            row_1  {'graph_id': '60120f3c-9ff2-11ea-a530-000d3a86...   \n",
       "2            row_2  {'graph_id': '60120f3c-9ff2-11ea-a530-000d3a86...   \n",
       "3            row_3  {'graph_id': '60120f3c-9ff2-11ea-a530-000d3a86...   \n",
       "4            row_4  {'graph_id': '60120f3c-9ff2-11ea-a530-000d3a86...   \n",
       "...            ...                                                ...   \n",
       "119714  row_119714  {'graph_id': '60120f3c-9ff2-11ea-a530-000d3a86...   \n",
       "119715  row_119715  {'graph_id': '60120f3c-9ff2-11ea-a530-000d3a86...   \n",
       "119716  row_119716  {'graph_id': '60120f3c-9ff2-11ea-a530-000d3a86...   \n",
       "119717  row_119717  {'graph_id': '60120f3c-9ff2-11ea-a530-000d3a86...   \n",
       "119718  row_119718  {'graph_id': '60120f3c-9ff2-11ea-a530-000d3a86...   \n",
       "\n",
       "                                                    tiles  \n",
       "0       [{'data': {'60120f6e-9ff2-11ea-a530-000d3a86d7...  \n",
       "1       [{'data': {'60120f6e-9ff2-11ea-a530-000d3a86d7...  \n",
       "2       [{'data': {'0b5446f8-a00c-11ea-a530-000d3a86d7...  \n",
       "3       [{'data': {'60120f58-9ff2-11ea-a530-000d3a86d7...  \n",
       "4       [{'data': {'60120f61-9ff2-11ea-a530-000d3a86d7...  \n",
       "...                                                   ...  \n",
       "119714  [{'data': {'60120f4f-9ff2-11ea-a530-000d3a86d7...  \n",
       "119715  [{'data': {'60120f4c-9ff2-11ea-a530-000d3a86d7...  \n",
       "119716  [{'data': {'60120f4c-9ff2-11ea-a530-000d3a86d7...  \n",
       "119717  [{'data': {'60120f4c-9ff2-11ea-a530-000d3a86d7...  \n",
       "119718  [{'data': {'60120f4c-9ff2-11ea-a530-000d3a86d7...  \n",
       "\n",
       "[119719 rows x 3 columns]"
      ]
     },
     "execution_count": 56,
     "metadata": {},
     "output_type": "execute_result"
    }
   ],
   "source": [
    "data = jsonData.T\n",
    "data.reset_index()"
   ]
  },
  {
   "cell_type": "code",
   "execution_count": 4,
   "id": "33478c59",
   "metadata": {},
   "outputs": [
    {
     "data": {
      "text/plain": [
       "{'graph_id': '60120f3c-9ff2-11ea-a530-000d3a86d704',\n",
       " 'legacyid': '544526',\n",
       " 'resourceinstanceid': '87e70f76-48b4-4010-a1a8-fd7078f1afe4'}"
      ]
     },
     "execution_count": 4,
     "metadata": {},
     "output_type": "execute_result"
    }
   ],
   "source": [
    "data.resourceinstance[119714]"
   ]
  },
  {
   "cell_type": "code",
   "execution_count": 5,
   "id": "2e6d2504",
   "metadata": {},
   "outputs": [],
   "source": [
    "import json\n",
    "\n",
    "for x in data.tiles:\n",
    "    x = str(x)\n",
    "    try:\n",
    "        y = json.loads(x)\n",
    "        print(\"something worked\")\n",
    "        print(x)\n",
    "    except:\n",
    "        pass"
   ]
  },
  {
   "cell_type": "markdown",
   "id": "a4432f55",
   "metadata": {},
   "source": [
    "None of the rows are in good json format"
   ]
  },
  {
   "cell_type": "code",
   "execution_count": 6,
   "id": "c2d63c21",
   "metadata": {},
   "outputs": [],
   "source": [
    "def cleanHtmlTags(sent):\n",
    "    sent = re.sub(\"(<[/]*[A-z]{1,2}>)\", \"\", sent)\n",
    "    sent = re.sub(\"<a\\s+href=[\\W\\w]+?>\", \"\", sent)\n",
    "    sent = re.sub(\"\\&#\\d{2};\", \"\", sent)\n",
    "    sent = re.sub(\"&nbsp\", \"\", sent)\n",
    "    sent = re.sub(\"\\\\\\\\n\", \"\", sent)\n",
    "    sent = re.sub(\";\", \"\", sent)\n",
    "    return sent"
   ]
  },
  {
   "cell_type": "code",
   "execution_count": 7,
   "id": "ce10c827",
   "metadata": {},
   "outputs": [],
   "source": [
    "def validText(sent):\n",
    "    if len(sent.split(\" \")) > 5:\n",
    "        return True\n",
    "    else:\n",
    "        return False"
   ]
  },
  {
   "cell_type": "code",
   "execution_count": 57,
   "id": "9a68b87d",
   "metadata": {},
   "outputs": [],
   "source": [
    "#regex 1: \\{\\'data\\'\\:\\s+\\{\\'[A-z0-9\\-]{34,38}\\':\\s*\\'([\\W\\w]+?)\\\\n\\'\\,\n",
    "\n",
    "exp1 = \"\\{\\'data\\'\\:\\s+\\{\\'[A-z0-9\\-]{34,44}\\':\\s*\\'([\\W\\w]+?)\\'\"\n",
    "exp2 = \"\\{\\'data\\'\\:\\s+\\{\\'[A-z0-9\\-]{34,44}\\':\\s*None,\\s+'[A-z0-9\\-]{34,44}'\\:\\s+[\\\"\\']([\\W\\w]+?)[\\\"\\'],\"\n",
    "\n",
    "cleanedD = []\n",
    "dataPresent = []\n",
    "d = 0\n",
    "i = 0\n",
    "for x in data.tiles:\n",
    "    x = cleanHtmlTags(str(x))\n",
    "    \n",
    "    #find text\n",
    "    y = re.findall(exp1, x)\n",
    "    y = [sent for sent in y if validText(sent)]\n",
    "    if len(y) == 0:\n",
    "        y = re.findall(exp2, x)\n",
    "        y = [sent for sent in y if validText(sent)]\n",
    "        if len(y) == 0:\n",
    "            dataPresent.append(False)\n",
    "            d=1\n",
    "    \n",
    "    if d==0:\n",
    "        dataPresent.append(True)\n",
    "        cleanedD.append(' '.join(y))\n",
    "    i += 1\n",
    "    d=0"
   ]
  },
  {
   "cell_type": "code",
   "execution_count": 40,
   "id": "bf9746d5",
   "metadata": {},
   "outputs": [
    {
     "data": {
      "text/plain": [
       "119719"
      ]
     },
     "execution_count": 40,
     "metadata": {},
     "output_type": "execute_result"
    }
   ],
   "source": [
    "len(dataPresent)"
   ]
  },
  {
   "cell_type": "code",
   "execution_count": 51,
   "id": "a089a409",
   "metadata": {},
   "outputs": [],
   "source": [
    "a=[\"sdhjsdh\",\"738738783\"]"
   ]
  },
  {
   "cell_type": "code",
   "execution_count": 52,
   "id": "32aa2ba0",
   "metadata": {},
   "outputs": [
    {
     "name": "stdout",
     "output_type": "stream",
     "text": [
      "sdhjsdh 738738783\n"
     ]
    }
   ],
   "source": [
    "print(' '.join(a))"
   ]
  },
  {
   "cell_type": "code",
   "execution_count": 41,
   "id": "227560cb",
   "metadata": {},
   "outputs": [
    {
     "data": {
      "text/plain": [
       "119719"
      ]
     },
     "execution_count": 41,
     "metadata": {},
     "output_type": "execute_result"
    }
   ],
   "source": [
    "len(data.tiles)"
   ]
  },
  {
   "cell_type": "code",
   "execution_count": 58,
   "id": "afb7ff50",
   "metadata": {},
   "outputs": [],
   "source": [
    "data[\"isDataPresent\"] = dataPresent"
   ]
  },
  {
   "cell_type": "code",
   "execution_count": 59,
   "id": "8e6f67b7",
   "metadata": {},
   "outputs": [],
   "source": [
    "noData = data[data.isDataPresent==False]"
   ]
  },
  {
   "cell_type": "code",
   "execution_count": 60,
   "id": "4d234464",
   "metadata": {},
   "outputs": [
    {
     "data": {
      "text/plain": [
       "[{'data': {'60120f4c-9ff2-11ea-a530-000d3a86d704': 'Carew Cheriton Village',\n",
       "   '60120f6f-9ff2-11ea-a530-000d3a86d704': '30307785-4739-466f-9941-f85256fc9919'},\n",
       "  'nodegroup_id': '60120f4c-9ff2-11ea-a530-000d3a86d704',\n",
       "  'parenttile_id': None,\n",
       "  'provisionaledits': None,\n",
       "  'resourceinstance_id': '8f2fb739-0bb1-4471-8a4d-2a5fa634e655',\n",
       "  'sortorder': 0,\n",
       "  'tileid': 'cacd719a-c92e-4698-a604-e03cb6fa7bb5'},\n",
       " {'data': {},\n",
       "  'nodegroup_id': '60120f64-9ff2-11ea-a530-000d3a86d704',\n",
       "  'parenttile_id': None,\n",
       "  'provisionaledits': None,\n",
       "  'resourceinstance_id': '8f2fb739-0bb1-4471-8a4d-2a5fa634e655',\n",
       "  'sortorder': 0,\n",
       "  'tileid': 'bdf018a5-704e-4bc6-8b76-ea1d708e9359'},\n",
       " {'data': {'60120f3d-9ff2-11ea-a530-000d3a86d704': 'c00b7cea-098d-4425-95a9-789e20c17e7d'},\n",
       "  'nodegroup_id': '60120f3d-9ff2-11ea-a530-000d3a86d704',\n",
       "  'parenttile_id': 'bdf018a5-704e-4bc6-8b76-ea1d708e9359',\n",
       "  'provisionaledits': None,\n",
       "  'resourceinstance_id': '8f2fb739-0bb1-4471-8a4d-2a5fa634e655',\n",
       "  'sortorder': 0,\n",
       "  'tileid': '28d34b9e-8813-4479-9f7a-c8e2ec2e3a32'},\n",
       " {'data': {'60120f61-9ff2-11ea-a530-000d3a86d704': 'b4300699-b025-41d4-9cdc-08ceed011702'},\n",
       "  'nodegroup_id': '60120f61-9ff2-11ea-a530-000d3a86d704',\n",
       "  'parenttile_id': 'bdf018a5-704e-4bc6-8b76-ea1d708e9359',\n",
       "  'provisionaledits': None,\n",
       "  'resourceinstance_id': '8f2fb739-0bb1-4471-8a4d-2a5fa634e655',\n",
       "  'sortorder': 0,\n",
       "  'tileid': '0ff6fa1b-3a0d-4cd8-8fa1-2f68575fce74'},\n",
       " {'data': {'60120f46-9ff2-11ea-a530-000d3a86d704': '708edd86-7521-4037-b2fb-840d3ff51884'},\n",
       "  'nodegroup_id': '60120f46-9ff2-11ea-a530-000d3a86d704',\n",
       "  'parenttile_id': 'bdf018a5-704e-4bc6-8b76-ea1d708e9359',\n",
       "  'provisionaledits': None,\n",
       "  'resourceinstance_id': '8f2fb739-0bb1-4471-8a4d-2a5fa634e655',\n",
       "  'sortorder': 0,\n",
       "  'tileid': 'f2982045-c55f-4f8c-850c-cd9be19927d0'},\n",
       " {'data': {'60120f4f-9ff2-11ea-a530-000d3a86d704': 307154.0},\n",
       "  'nodegroup_id': '60120f4f-9ff2-11ea-a530-000d3a86d704',\n",
       "  'parenttile_id': None,\n",
       "  'provisionaledits': None,\n",
       "  'resourceinstance_id': '8f2fb739-0bb1-4471-8a4d-2a5fa634e655',\n",
       "  'sortorder': 0,\n",
       "  'tileid': '582ad04f-d951-4522-8111-72a6f776d262'},\n",
       " {'data': {},\n",
       "  'nodegroup_id': '60120f40-9ff2-11ea-a530-000d3a86d704',\n",
       "  'parenttile_id': None,\n",
       "  'provisionaledits': None,\n",
       "  'resourceinstance_id': '8f2fb739-0bb1-4471-8a4d-2a5fa634e655',\n",
       "  'sortorder': 0,\n",
       "  'tileid': 'b664e600-309d-4dac-a6fb-29c173915cef'},\n",
       " {'data': {'60120f6a-9ff2-11ea-a530-000d3a86d704': None,\n",
       "   '60120f77-9ff2-11ea-a530-000d3a86d704': {'features': [{'geometry': {'coordinates': [-4.8298322,\n",
       "        51.689825],\n",
       "       'type': 'Point'},\n",
       "      'id': '29b54925-f1d5-4397-b8ab-06f009deaa0d',\n",
       "      'properties': {},\n",
       "      'type': 'Feature'}],\n",
       "    'type': 'FeatureCollection'}},\n",
       "  'nodegroup_id': '60120f6a-9ff2-11ea-a530-000d3a86d704',\n",
       "  'parenttile_id': 'b664e600-309d-4dac-a6fb-29c173915cef',\n",
       "  'provisionaledits': None,\n",
       "  'resourceinstance_id': '8f2fb739-0bb1-4471-8a4d-2a5fa634e655',\n",
       "  'sortorder': 0,\n",
       "  'tileid': 'd9010de2-d2b7-4ed6-8099-e2d6d2b9094a'},\n",
       " {'data': {'60120f67-9ff2-11ea-a530-000d3a86d704': None,\n",
       "   '60120f79-9ff2-11ea-a530-000d3a86d704': 'SN0450002800'},\n",
       "  'nodegroup_id': '60120f67-9ff2-11ea-a530-000d3a86d704',\n",
       "  'parenttile_id': 'b664e600-309d-4dac-a6fb-29c173915cef',\n",
       "  'provisionaledits': None,\n",
       "  'resourceinstance_id': '8f2fb739-0bb1-4471-8a4d-2a5fa634e655',\n",
       "  'sortorder': 0,\n",
       "  'tileid': '6f61af01-42ab-42d7-9f43-51e1c96971c4'},\n",
       " {'data': {'084fae54-9ff6-11ea-a530-000d3a86d704': 'SN0402',\n",
       "   '20bd6de6-9ff6-11ea-a530-000d3a86d704': 'SN00SW',\n",
       "   '688529e4-9ff5-11ea-a530-000d3a86d704': None,\n",
       "   'ad6df3ec-9ff5-11ea-a530-000d3a86d704': '46e49d76-4b22-4c20-9ed9-ae45b5516369'},\n",
       "  'nodegroup_id': '688529e4-9ff5-11ea-a530-000d3a86d704',\n",
       "  'parenttile_id': None,\n",
       "  'provisionaledits': None,\n",
       "  'resourceinstance_id': '8f2fb739-0bb1-4471-8a4d-2a5fa634e655',\n",
       "  'sortorder': 0,\n",
       "  'tileid': 'e9742a0c-a10f-4bfc-9f6f-f7b3e59d71e8'},\n",
       " {'data': {'0b5446f8-a00c-11ea-a530-000d3a86d704': None,\n",
       "   '5e5d39f4-a00c-11ea-a530-000d3a86d704': '2002-11-25',\n",
       "   '83277d3a-a00c-11ea-a530-000d3a86d704': 'DWT',\n",
       "   'a0788be0-a00c-11ea-a530-000d3a86d704': '2010-02-24',\n",
       "   'c9a63b84-a00c-11ea-a530-000d3a86d704': 'RC_WALES'},\n",
       "  'nodegroup_id': '0b5446f8-a00c-11ea-a530-000d3a86d704',\n",
       "  'parenttile_id': None,\n",
       "  'provisionaledits': None,\n",
       "  'resourceinstance_id': '8f2fb739-0bb1-4471-8a4d-2a5fa634e655',\n",
       "  'sortorder': 0,\n",
       "  'tileid': '780a277d-8d1f-4a45-87d7-7bc6908e0a28'},\n",
       " {'data': {'60120f49-9ff2-11ea-a530-000d3a86d704': '2863108c-0b26-47aa-be95-a1c639863ad6',\n",
       "   '60120f71-9ff2-11ea-a530-000d3a86d704': None,\n",
       "   '60120f72-9ff2-11ea-a530-000d3a86d704': '078fdac7-cb0c-4ab6-b252-0db193d97a9c',\n",
       "   '60120f78-9ff2-11ea-a530-000d3a86d704': '54496ff2-4693-4138-ba03-277eff940f11'},\n",
       "  'nodegroup_id': '60120f49-9ff2-11ea-a530-000d3a86d704',\n",
       "  'parenttile_id': None,\n",
       "  'provisionaledits': None,\n",
       "  'resourceinstance_id': '8f2fb739-0bb1-4471-8a4d-2a5fa634e655',\n",
       "  'sortorder': 0,\n",
       "  'tileid': '8775d359-70ef-4d47-ba29-cb5fd33d9ac6'},\n",
       " {'data': {'60120f55-9ff2-11ea-a530-000d3a86d704': '2b55ed79-8bf3-43a1-a5da-3b05e6f52c0a',\n",
       "   '60120f76-9ff2-11ea-a530-000d3a86d704': '54496ff2-4693-4138-ba03-277eff940f11'},\n",
       "  'nodegroup_id': '60120f55-9ff2-11ea-a530-000d3a86d704',\n",
       "  'parenttile_id': None,\n",
       "  'provisionaledits': None,\n",
       "  'resourceinstance_id': '8f2fb739-0bb1-4471-8a4d-2a5fa634e655',\n",
       "  'sortorder': 0,\n",
       "  'tileid': 'dc3d97ea-fbf1-45e2-a149-f3c8c2fe7b17'},\n",
       " {'data': {'46bf8db2-a005-11ea-a530-000d3a86d704': '54496ff2-4693-4138-ba03-277eff940f11',\n",
       "   '60120f5b-9ff2-11ea-a530-000d3a86d704': '365e001f-8588-4aeb-8886-21f1753a7fd0'},\n",
       "  'nodegroup_id': '60120f5b-9ff2-11ea-a530-000d3a86d704',\n",
       "  'parenttile_id': None,\n",
       "  'provisionaledits': None,\n",
       "  'resourceinstance_id': '8f2fb739-0bb1-4471-8a4d-2a5fa634e655',\n",
       "  'sortorder': 0,\n",
       "  'tileid': '3b83151a-0ec2-4901-a131-661b6a432b1e'},\n",
       " {'data': {'60120f58-9ff2-11ea-a530-000d3a86d704': '7e820b1d-61ed-4ac0-8e69-ae5ea7e6d39e',\n",
       "   '92cc3b9c-a005-11ea-a530-000d3a86d704': '54496ff2-4693-4138-ba03-277eff940f11',\n",
       "   'af6d3fd4-a006-11ea-a530-000d3a86d704': '078fdac7-cb0c-4ab6-b252-0db193d97a9c'},\n",
       "  'nodegroup_id': '60120f58-9ff2-11ea-a530-000d3a86d704',\n",
       "  'parenttile_id': None,\n",
       "  'provisionaledits': None,\n",
       "  'resourceinstance_id': '8f2fb739-0bb1-4471-8a4d-2a5fa634e655',\n",
       "  'sortorder': 0,\n",
       "  'tileid': '585fb48b-ffa8-427e-853d-d2baa61be93c'},\n",
       " {'data': {'60120f58-9ff2-11ea-a530-000d3a86d704': '54e3049d-7b6f-45cb-839d-df6db4b47c37',\n",
       "   '92cc3b9c-a005-11ea-a530-000d3a86d704': '54496ff2-4693-4138-ba03-277eff940f11',\n",
       "   'af6d3fd4-a006-11ea-a530-000d3a86d704': '078fdac7-cb0c-4ab6-b252-0db193d97a9c'},\n",
       "  'nodegroup_id': '60120f58-9ff2-11ea-a530-000d3a86d704',\n",
       "  'parenttile_id': None,\n",
       "  'provisionaledits': None,\n",
       "  'resourceinstance_id': '8f2fb739-0bb1-4471-8a4d-2a5fa634e655',\n",
       "  'sortorder': 0,\n",
       "  'tileid': '5f991de1-c621-4db7-ae45-e41ca4428c81'}]"
      ]
     },
     "execution_count": 60,
     "metadata": {},
     "output_type": "execute_result"
    }
   ],
   "source": [
    "noData.tiles[2]"
   ]
  },
  {
   "cell_type": "code",
   "execution_count": 61,
   "id": "b08e7186",
   "metadata": {},
   "outputs": [
    {
     "data": {
      "text/plain": [
       "10533"
      ]
     },
     "execution_count": 61,
     "metadata": {},
     "output_type": "execute_result"
    }
   ],
   "source": [
    "len(noData)"
   ]
  },
  {
   "cell_type": "code",
   "execution_count": 62,
   "id": "2c295936",
   "metadata": {},
   "outputs": [],
   "source": [
    "data = data.drop(data[data.isDataPresent==False].index)"
   ]
  },
  {
   "cell_type": "code",
   "execution_count": 63,
   "id": "023bdf4f",
   "metadata": {},
   "outputs": [
    {
     "data": {
      "text/html": [
       "<div>\n",
       "<style scoped>\n",
       "    .dataframe tbody tr th:only-of-type {\n",
       "        vertical-align: middle;\n",
       "    }\n",
       "\n",
       "    .dataframe tbody tr th {\n",
       "        vertical-align: top;\n",
       "    }\n",
       "\n",
       "    .dataframe thead th {\n",
       "        text-align: right;\n",
       "    }\n",
       "</style>\n",
       "<table border=\"1\" class=\"dataframe\">\n",
       "  <thead>\n",
       "    <tr style=\"text-align: right;\">\n",
       "      <th></th>\n",
       "      <th>resourceinstance</th>\n",
       "      <th>tiles</th>\n",
       "      <th>isDataPresent</th>\n",
       "    </tr>\n",
       "  </thead>\n",
       "  <tbody>\n",
       "    <tr>\n",
       "      <th>row_0</th>\n",
       "      <td>{'graph_id': '60120f3c-9ff2-11ea-a530-000d3a86...</td>\n",
       "      <td>[{'data': {'60120f6e-9ff2-11ea-a530-000d3a86d7...</td>\n",
       "      <td>True</td>\n",
       "    </tr>\n",
       "    <tr>\n",
       "      <th>row_1</th>\n",
       "      <td>{'graph_id': '60120f3c-9ff2-11ea-a530-000d3a86...</td>\n",
       "      <td>[{'data': {'60120f6e-9ff2-11ea-a530-000d3a86d7...</td>\n",
       "      <td>True</td>\n",
       "    </tr>\n",
       "    <tr>\n",
       "      <th>row_2</th>\n",
       "      <td>{'graph_id': '60120f3c-9ff2-11ea-a530-000d3a86...</td>\n",
       "      <td>[{'data': {'0b5446f8-a00c-11ea-a530-000d3a86d7...</td>\n",
       "      <td>True</td>\n",
       "    </tr>\n",
       "    <tr>\n",
       "      <th>row_3</th>\n",
       "      <td>{'graph_id': '60120f3c-9ff2-11ea-a530-000d3a86...</td>\n",
       "      <td>[{'data': {'60120f58-9ff2-11ea-a530-000d3a86d7...</td>\n",
       "      <td>True</td>\n",
       "    </tr>\n",
       "    <tr>\n",
       "      <th>row_4</th>\n",
       "      <td>{'graph_id': '60120f3c-9ff2-11ea-a530-000d3a86...</td>\n",
       "      <td>[{'data': {'60120f61-9ff2-11ea-a530-000d3a86d7...</td>\n",
       "      <td>True</td>\n",
       "    </tr>\n",
       "  </tbody>\n",
       "</table>\n",
       "</div>"
      ],
      "text/plain": [
       "                                        resourceinstance  \\\n",
       "row_0  {'graph_id': '60120f3c-9ff2-11ea-a530-000d3a86...   \n",
       "row_1  {'graph_id': '60120f3c-9ff2-11ea-a530-000d3a86...   \n",
       "row_2  {'graph_id': '60120f3c-9ff2-11ea-a530-000d3a86...   \n",
       "row_3  {'graph_id': '60120f3c-9ff2-11ea-a530-000d3a86...   \n",
       "row_4  {'graph_id': '60120f3c-9ff2-11ea-a530-000d3a86...   \n",
       "\n",
       "                                                   tiles  isDataPresent  \n",
       "row_0  [{'data': {'60120f6e-9ff2-11ea-a530-000d3a86d7...           True  \n",
       "row_1  [{'data': {'60120f6e-9ff2-11ea-a530-000d3a86d7...           True  \n",
       "row_2  [{'data': {'0b5446f8-a00c-11ea-a530-000d3a86d7...           True  \n",
       "row_3  [{'data': {'60120f58-9ff2-11ea-a530-000d3a86d7...           True  \n",
       "row_4  [{'data': {'60120f61-9ff2-11ea-a530-000d3a86d7...           True  "
      ]
     },
     "execution_count": 63,
     "metadata": {},
     "output_type": "execute_result"
    }
   ],
   "source": [
    "data.head()"
   ]
  },
  {
   "cell_type": "code",
   "execution_count": 64,
   "id": "6e0de5d3",
   "metadata": {},
   "outputs": [
    {
     "name": "stdout",
     "output_type": "stream",
     "text": [
      "<class 'pandas.core.frame.DataFrame'>\n",
      "Index: 109186 entries, row_0 to row_119718\n",
      "Data columns (total 3 columns):\n",
      " #   Column            Non-Null Count   Dtype \n",
      "---  ------            --------------   ----- \n",
      " 0   resourceinstance  109186 non-null  object\n",
      " 1   tiles             109186 non-null  object\n",
      " 2   isDataPresent     109186 non-null  bool  \n",
      "dtypes: bool(1), object(2)\n",
      "memory usage: 2.6+ MB\n"
     ]
    }
   ],
   "source": [
    "data.info()"
   ]
  },
  {
   "cell_type": "code",
   "execution_count": 65,
   "id": "a9ec4426",
   "metadata": {},
   "outputs": [
    {
     "data": {
      "text/plain": [
       "109186"
      ]
     },
     "execution_count": 65,
     "metadata": {},
     "output_type": "execute_result"
    }
   ],
   "source": [
    "len(cleanedD)"
   ]
  },
  {
   "cell_type": "code",
   "execution_count": 66,
   "id": "1d9bb9ce",
   "metadata": {},
   "outputs": [],
   "source": [
    "data[\"cleanData\"] = cleanedD"
   ]
  },
  {
   "cell_type": "code",
   "execution_count": 70,
   "id": "e8c766d7",
   "metadata": {},
   "outputs": [
    {
     "data": {
      "text/html": [
       "<div>\n",
       "<style scoped>\n",
       "    .dataframe tbody tr th:only-of-type {\n",
       "        vertical-align: middle;\n",
       "    }\n",
       "\n",
       "    .dataframe tbody tr th {\n",
       "        vertical-align: top;\n",
       "    }\n",
       "\n",
       "    .dataframe thead th {\n",
       "        text-align: right;\n",
       "    }\n",
       "</style>\n",
       "<table border=\"1\" class=\"dataframe\">\n",
       "  <thead>\n",
       "    <tr style=\"text-align: right;\">\n",
       "      <th></th>\n",
       "      <th>resourceinstance</th>\n",
       "      <th>tiles</th>\n",
       "      <th>isDataPresent</th>\n",
       "      <th>cleanData</th>\n",
       "    </tr>\n",
       "  </thead>\n",
       "  <tbody>\n",
       "    <tr>\n",
       "      <th>row_0</th>\n",
       "      <td>{'graph_id': '60120f3c-9ff2-11ea-a530-000d3a86...</td>\n",
       "      <td>[{'data': {'60120f6e-9ff2-11ea-a530-000d3a86d7...</td>\n",
       "      <td>True</td>\n",
       "      <td>The Caerphilly Palace opened in 1904 initially...</td>\n",
       "    </tr>\n",
       "    <tr>\n",
       "      <th>row_1</th>\n",
       "      <td>{'graph_id': '60120f3c-9ff2-11ea-a530-000d3a86...</td>\n",
       "      <td>[{'data': {'60120f6e-9ff2-11ea-a530-000d3a86d7...</td>\n",
       "      <td>True</td>\n",
       "      <td>From Entertaining South Wales:The independent ...</td>\n",
       "    </tr>\n",
       "    <tr>\n",
       "      <th>row_2</th>\n",
       "      <td>{'graph_id': '60120f3c-9ff2-11ea-a530-000d3a86...</td>\n",
       "      <td>[{'data': {'0b5446f8-a00c-11ea-a530-000d3a86d7...</td>\n",
       "      <td>True</td>\n",
       "      <td>Usk Castle is a substantial masonry castle dat...</td>\n",
       "    </tr>\n",
       "    <tr>\n",
       "      <th>row_3</th>\n",
       "      <td>{'graph_id': '60120f3c-9ff2-11ea-a530-000d3a86...</td>\n",
       "      <td>[{'data': {'60120f58-9ff2-11ea-a530-000d3a86d7...</td>\n",
       "      <td>True</td>\n",
       "      <td>Gwndwn Baptist Chapel (Gwndwn New Chapel), Pen...</td>\n",
       "    </tr>\n",
       "    <tr>\n",
       "      <th>row_4</th>\n",
       "      <td>{'graph_id': '60120f3c-9ff2-11ea-a530-000d3a86...</td>\n",
       "      <td>[{'data': {'60120f61-9ff2-11ea-a530-000d3a86d7...</td>\n",
       "      <td>True</td>\n",
       "      <td>The church of St Meilig retains some 13th-14th...</td>\n",
       "    </tr>\n",
       "  </tbody>\n",
       "</table>\n",
       "</div>"
      ],
      "text/plain": [
       "                                        resourceinstance  \\\n",
       "row_0  {'graph_id': '60120f3c-9ff2-11ea-a530-000d3a86...   \n",
       "row_1  {'graph_id': '60120f3c-9ff2-11ea-a530-000d3a86...   \n",
       "row_2  {'graph_id': '60120f3c-9ff2-11ea-a530-000d3a86...   \n",
       "row_3  {'graph_id': '60120f3c-9ff2-11ea-a530-000d3a86...   \n",
       "row_4  {'graph_id': '60120f3c-9ff2-11ea-a530-000d3a86...   \n",
       "\n",
       "                                                   tiles  isDataPresent  \\\n",
       "row_0  [{'data': {'60120f6e-9ff2-11ea-a530-000d3a86d7...           True   \n",
       "row_1  [{'data': {'60120f6e-9ff2-11ea-a530-000d3a86d7...           True   \n",
       "row_2  [{'data': {'0b5446f8-a00c-11ea-a530-000d3a86d7...           True   \n",
       "row_3  [{'data': {'60120f58-9ff2-11ea-a530-000d3a86d7...           True   \n",
       "row_4  [{'data': {'60120f61-9ff2-11ea-a530-000d3a86d7...           True   \n",
       "\n",
       "                                               cleanData  \n",
       "row_0  The Caerphilly Palace opened in 1904 initially...  \n",
       "row_1  From Entertaining South Wales:The independent ...  \n",
       "row_2  Usk Castle is a substantial masonry castle dat...  \n",
       "row_3  Gwndwn Baptist Chapel (Gwndwn New Chapel), Pen...  \n",
       "row_4  The church of St Meilig retains some 13th-14th...  "
      ]
     },
     "execution_count": 70,
     "metadata": {},
     "output_type": "execute_result"
    }
   ],
   "source": [
    "data.head()"
   ]
  },
  {
   "cell_type": "code",
   "execution_count": 71,
   "id": "cdbdcef9",
   "metadata": {},
   "outputs": [],
   "source": [
    "data = data.drop(['resourceinstance', 'tiles', 'isDataPresent'], axis=1)"
   ]
  },
  {
   "cell_type": "code",
   "execution_count": 72,
   "id": "52848928",
   "metadata": {},
   "outputs": [
    {
     "data": {
      "text/html": [
       "<div>\n",
       "<style scoped>\n",
       "    .dataframe tbody tr th:only-of-type {\n",
       "        vertical-align: middle;\n",
       "    }\n",
       "\n",
       "    .dataframe tbody tr th {\n",
       "        vertical-align: top;\n",
       "    }\n",
       "\n",
       "    .dataframe thead th {\n",
       "        text-align: right;\n",
       "    }\n",
       "</style>\n",
       "<table border=\"1\" class=\"dataframe\">\n",
       "  <thead>\n",
       "    <tr style=\"text-align: right;\">\n",
       "      <th></th>\n",
       "      <th>cleanData</th>\n",
       "    </tr>\n",
       "  </thead>\n",
       "  <tbody>\n",
       "    <tr>\n",
       "      <th>row_0</th>\n",
       "      <td>The Caerphilly Palace opened in 1904 initially...</td>\n",
       "    </tr>\n",
       "    <tr>\n",
       "      <th>row_1</th>\n",
       "      <td>From Entertaining South Wales:The independent ...</td>\n",
       "    </tr>\n",
       "    <tr>\n",
       "      <th>row_2</th>\n",
       "      <td>Usk Castle is a substantial masonry castle dat...</td>\n",
       "    </tr>\n",
       "    <tr>\n",
       "      <th>row_3</th>\n",
       "      <td>Gwndwn Baptist Chapel (Gwndwn New Chapel), Pen...</td>\n",
       "    </tr>\n",
       "    <tr>\n",
       "      <th>row_4</th>\n",
       "      <td>The church of St Meilig retains some 13th-14th...</td>\n",
       "    </tr>\n",
       "  </tbody>\n",
       "</table>\n",
       "</div>"
      ],
      "text/plain": [
       "                                               cleanData\n",
       "row_0  The Caerphilly Palace opened in 1904 initially...\n",
       "row_1  From Entertaining South Wales:The independent ...\n",
       "row_2  Usk Castle is a substantial masonry castle dat...\n",
       "row_3  Gwndwn Baptist Chapel (Gwndwn New Chapel), Pen...\n",
       "row_4  The church of St Meilig retains some 13th-14th..."
      ]
     },
     "execution_count": 72,
     "metadata": {},
     "output_type": "execute_result"
    }
   ],
   "source": [
    "data.head()"
   ]
  },
  {
   "cell_type": "code",
   "execution_count": 74,
   "id": "909b17c6",
   "metadata": {},
   "outputs": [],
   "source": [
    "data = data.rename(columns={'cleanData': 'text'})\n",
    "data = data.reset_index()"
   ]
  },
  {
   "cell_type": "code",
   "execution_count": 77,
   "id": "5c6e5894",
   "metadata": {},
   "outputs": [],
   "source": [
    "data = data.drop(['index'], axis=1)"
   ]
  },
  {
   "cell_type": "code",
   "execution_count": 78,
   "id": "91415302",
   "metadata": {},
   "outputs": [
    {
     "data": {
      "text/html": [
       "<div>\n",
       "<style scoped>\n",
       "    .dataframe tbody tr th:only-of-type {\n",
       "        vertical-align: middle;\n",
       "    }\n",
       "\n",
       "    .dataframe tbody tr th {\n",
       "        vertical-align: top;\n",
       "    }\n",
       "\n",
       "    .dataframe thead th {\n",
       "        text-align: right;\n",
       "    }\n",
       "</style>\n",
       "<table border=\"1\" class=\"dataframe\">\n",
       "  <thead>\n",
       "    <tr style=\"text-align: right;\">\n",
       "      <th></th>\n",
       "      <th>text</th>\n",
       "    </tr>\n",
       "  </thead>\n",
       "  <tbody>\n",
       "    <tr>\n",
       "      <th>0</th>\n",
       "      <td>The Caerphilly Palace opened in 1904 initially...</td>\n",
       "    </tr>\n",
       "    <tr>\n",
       "      <th>1</th>\n",
       "      <td>From Entertaining South Wales:The independent ...</td>\n",
       "    </tr>\n",
       "    <tr>\n",
       "      <th>2</th>\n",
       "      <td>Usk Castle is a substantial masonry castle dat...</td>\n",
       "    </tr>\n",
       "    <tr>\n",
       "      <th>3</th>\n",
       "      <td>Gwndwn Baptist Chapel (Gwndwn New Chapel), Pen...</td>\n",
       "    </tr>\n",
       "    <tr>\n",
       "      <th>4</th>\n",
       "      <td>The church of St Meilig retains some 13th-14th...</td>\n",
       "    </tr>\n",
       "  </tbody>\n",
       "</table>\n",
       "</div>"
      ],
      "text/plain": [
       "                                                text\n",
       "0  The Caerphilly Palace opened in 1904 initially...\n",
       "1  From Entertaining South Wales:The independent ...\n",
       "2  Usk Castle is a substantial masonry castle dat...\n",
       "3  Gwndwn Baptist Chapel (Gwndwn New Chapel), Pen...\n",
       "4  The church of St Meilig retains some 13th-14th..."
      ]
     },
     "execution_count": 78,
     "metadata": {},
     "output_type": "execute_result"
    }
   ],
   "source": [
    "data.head()"
   ]
  },
  {
   "cell_type": "code",
   "execution_count": 80,
   "id": "52953c1c",
   "metadata": {},
   "outputs": [],
   "source": [
    "import pickle as pkl\n",
    "\n",
    "with open('preprocessedData.pickle', 'wb') as f:\n",
    "    pkl.dump(data, f)"
   ]
  },
  {
   "cell_type": "code",
   "execution_count": null,
   "id": "f4c5209d",
   "metadata": {},
   "outputs": [],
   "source": []
  }
 ],
 "metadata": {
  "kernelspec": {
   "display_name": "Python 3",
   "language": "python",
   "name": "python3"
  },
  "language_info": {
   "codemirror_mode": {
    "name": "ipython",
    "version": 3
   },
   "file_extension": ".py",
   "mimetype": "text/x-python",
   "name": "python",
   "nbconvert_exporter": "python",
   "pygments_lexer": "ipython3",
   "version": "3.9.10"
  },
  "vscode": {
   "interpreter": {
    "hash": "b0fa6594d8f4cbf19f97940f81e996739fb7646882a419484c72d19e05852a7e"
   }
  }
 },
 "nbformat": 4,
 "nbformat_minor": 5
}
