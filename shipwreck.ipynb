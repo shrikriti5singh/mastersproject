{
 "cells": [
  {
   "cell_type": "code",
   "execution_count": 3,
   "id": "49e31d8a",
   "metadata": {},
   "outputs": [
    {
     "name": "stderr",
     "output_type": "stream",
     "text": [
      "[nltk_data] Downloading package stopwords to\n",
      "[nltk_data]     /Users/shrikritisingh/nltk_data...\n",
      "[nltk_data]   Package stopwords is already up-to-date!\n"
     ]
    }
   ],
   "source": [
    "import pandas as pd\n",
    "import re\n",
    "import nltk\n",
    "from bs4 import BeautifulSoup #for cleaning html\n",
    "import pickle as pkl\n",
    "import nltk\n",
    "from nltk.corpus import stopwords\n",
    "nltk.download('stopwords')\n",
    "stops = stopwords.words(\"english\")"
   ]
  },
  {
   "cell_type": "code",
   "execution_count": 2,
   "id": "d1dd86b8",
   "metadata": {},
   "outputs": [],
   "source": [
    "data = pd.read_json('Coflein_Export2.json')"
   ]
  },
  {
   "cell_type": "code",
   "execution_count": 3,
   "id": "9b765936",
   "metadata": {},
   "outputs": [
    {
     "data": {
      "text/html": [
       "<div>\n",
       "<style scoped>\n",
       "    .dataframe tbody tr th:only-of-type {\n",
       "        vertical-align: middle;\n",
       "    }\n",
       "\n",
       "    .dataframe tbody tr th {\n",
       "        vertical-align: top;\n",
       "    }\n",
       "\n",
       "    .dataframe thead th {\n",
       "        text-align: right;\n",
       "    }\n",
       "</style>\n",
       "<table border=\"1\" class=\"dataframe\">\n",
       "  <thead>\n",
       "    <tr style=\"text-align: right;\">\n",
       "      <th></th>\n",
       "      <th>row_0</th>\n",
       "      <th>row_1</th>\n",
       "      <th>row_2</th>\n",
       "      <th>row_3</th>\n",
       "      <th>row_4</th>\n",
       "      <th>row_5</th>\n",
       "      <th>row_6</th>\n",
       "      <th>row_7</th>\n",
       "      <th>row_8</th>\n",
       "      <th>row_9</th>\n",
       "      <th>...</th>\n",
       "      <th>row_119709</th>\n",
       "      <th>row_119710</th>\n",
       "      <th>row_119711</th>\n",
       "      <th>row_119712</th>\n",
       "      <th>row_119713</th>\n",
       "      <th>row_119714</th>\n",
       "      <th>row_119715</th>\n",
       "      <th>row_119716</th>\n",
       "      <th>row_119717</th>\n",
       "      <th>row_119718</th>\n",
       "    </tr>\n",
       "  </thead>\n",
       "  <tbody>\n",
       "    <tr>\n",
       "      <th>resourceinstance</th>\n",
       "      <td>{'graph_id': '60120f3c-9ff2-11ea-a530-000d3a86...</td>\n",
       "      <td>{'graph_id': '60120f3c-9ff2-11ea-a530-000d3a86...</td>\n",
       "      <td>{'graph_id': '60120f3c-9ff2-11ea-a530-000d3a86...</td>\n",
       "      <td>{'graph_id': '60120f3c-9ff2-11ea-a530-000d3a86...</td>\n",
       "      <td>{'graph_id': '60120f3c-9ff2-11ea-a530-000d3a86...</td>\n",
       "      <td>{'graph_id': '60120f3c-9ff2-11ea-a530-000d3a86...</td>\n",
       "      <td>{'graph_id': '60120f3c-9ff2-11ea-a530-000d3a86...</td>\n",
       "      <td>{'graph_id': '60120f3c-9ff2-11ea-a530-000d3a86...</td>\n",
       "      <td>{'graph_id': '60120f3c-9ff2-11ea-a530-000d3a86...</td>\n",
       "      <td>{'graph_id': '60120f3c-9ff2-11ea-a530-000d3a86...</td>\n",
       "      <td>...</td>\n",
       "      <td>{'graph_id': '60120f3c-9ff2-11ea-a530-000d3a86...</td>\n",
       "      <td>{'graph_id': '60120f3c-9ff2-11ea-a530-000d3a86...</td>\n",
       "      <td>{'graph_id': '60120f3c-9ff2-11ea-a530-000d3a86...</td>\n",
       "      <td>{'graph_id': '60120f3c-9ff2-11ea-a530-000d3a86...</td>\n",
       "      <td>{'graph_id': '60120f3c-9ff2-11ea-a530-000d3a86...</td>\n",
       "      <td>{'graph_id': '60120f3c-9ff2-11ea-a530-000d3a86...</td>\n",
       "      <td>{'graph_id': '60120f3c-9ff2-11ea-a530-000d3a86...</td>\n",
       "      <td>{'graph_id': '60120f3c-9ff2-11ea-a530-000d3a86...</td>\n",
       "      <td>{'graph_id': '60120f3c-9ff2-11ea-a530-000d3a86...</td>\n",
       "      <td>{'graph_id': '60120f3c-9ff2-11ea-a530-000d3a86...</td>\n",
       "    </tr>\n",
       "    <tr>\n",
       "      <th>tiles</th>\n",
       "      <td>[{'data': {'60120f6e-9ff2-11ea-a530-000d3a86d7...</td>\n",
       "      <td>[{'data': {'60120f6e-9ff2-11ea-a530-000d3a86d7...</td>\n",
       "      <td>[{'data': {'0b5446f8-a00c-11ea-a530-000d3a86d7...</td>\n",
       "      <td>[{'data': {'60120f58-9ff2-11ea-a530-000d3a86d7...</td>\n",
       "      <td>[{'data': {'60120f61-9ff2-11ea-a530-000d3a86d7...</td>\n",
       "      <td>[{'data': {'60120f6e-9ff2-11ea-a530-000d3a86d7...</td>\n",
       "      <td>[{'data': {'60120f58-9ff2-11ea-a530-000d3a86d7...</td>\n",
       "      <td>[{'data': {'60120f6e-9ff2-11ea-a530-000d3a86d7...</td>\n",
       "      <td>[{'data': {'60120f43-9ff2-11ea-a530-000d3a86d7...</td>\n",
       "      <td>[{'data': {'0b5446f8-a00c-11ea-a530-000d3a86d7...</td>\n",
       "      <td>...</td>\n",
       "      <td>[{'data': {'60120f4f-9ff2-11ea-a530-000d3a86d7...</td>\n",
       "      <td>[{'data': {'60120f4f-9ff2-11ea-a530-000d3a86d7...</td>\n",
       "      <td>[{'data': {'60120f4f-9ff2-11ea-a530-000d3a86d7...</td>\n",
       "      <td>[{'data': {'60120f4f-9ff2-11ea-a530-000d3a86d7...</td>\n",
       "      <td>[{'data': {'60120f4f-9ff2-11ea-a530-000d3a86d7...</td>\n",
       "      <td>[{'data': {'60120f4f-9ff2-11ea-a530-000d3a86d7...</td>\n",
       "      <td>[{'data': {'60120f4c-9ff2-11ea-a530-000d3a86d7...</td>\n",
       "      <td>[{'data': {'60120f4c-9ff2-11ea-a530-000d3a86d7...</td>\n",
       "      <td>[{'data': {'60120f4c-9ff2-11ea-a530-000d3a86d7...</td>\n",
       "      <td>[{'data': {'60120f4c-9ff2-11ea-a530-000d3a86d7...</td>\n",
       "    </tr>\n",
       "  </tbody>\n",
       "</table>\n",
       "<p>2 rows × 119719 columns</p>\n",
       "</div>"
      ],
      "text/plain": [
       "                                                              row_0  \\\n",
       "resourceinstance  {'graph_id': '60120f3c-9ff2-11ea-a530-000d3a86...   \n",
       "tiles             [{'data': {'60120f6e-9ff2-11ea-a530-000d3a86d7...   \n",
       "\n",
       "                                                              row_1  \\\n",
       "resourceinstance  {'graph_id': '60120f3c-9ff2-11ea-a530-000d3a86...   \n",
       "tiles             [{'data': {'60120f6e-9ff2-11ea-a530-000d3a86d7...   \n",
       "\n",
       "                                                              row_2  \\\n",
       "resourceinstance  {'graph_id': '60120f3c-9ff2-11ea-a530-000d3a86...   \n",
       "tiles             [{'data': {'0b5446f8-a00c-11ea-a530-000d3a86d7...   \n",
       "\n",
       "                                                              row_3  \\\n",
       "resourceinstance  {'graph_id': '60120f3c-9ff2-11ea-a530-000d3a86...   \n",
       "tiles             [{'data': {'60120f58-9ff2-11ea-a530-000d3a86d7...   \n",
       "\n",
       "                                                              row_4  \\\n",
       "resourceinstance  {'graph_id': '60120f3c-9ff2-11ea-a530-000d3a86...   \n",
       "tiles             [{'data': {'60120f61-9ff2-11ea-a530-000d3a86d7...   \n",
       "\n",
       "                                                              row_5  \\\n",
       "resourceinstance  {'graph_id': '60120f3c-9ff2-11ea-a530-000d3a86...   \n",
       "tiles             [{'data': {'60120f6e-9ff2-11ea-a530-000d3a86d7...   \n",
       "\n",
       "                                                              row_6  \\\n",
       "resourceinstance  {'graph_id': '60120f3c-9ff2-11ea-a530-000d3a86...   \n",
       "tiles             [{'data': {'60120f58-9ff2-11ea-a530-000d3a86d7...   \n",
       "\n",
       "                                                              row_7  \\\n",
       "resourceinstance  {'graph_id': '60120f3c-9ff2-11ea-a530-000d3a86...   \n",
       "tiles             [{'data': {'60120f6e-9ff2-11ea-a530-000d3a86d7...   \n",
       "\n",
       "                                                              row_8  \\\n",
       "resourceinstance  {'graph_id': '60120f3c-9ff2-11ea-a530-000d3a86...   \n",
       "tiles             [{'data': {'60120f43-9ff2-11ea-a530-000d3a86d7...   \n",
       "\n",
       "                                                              row_9  ...  \\\n",
       "resourceinstance  {'graph_id': '60120f3c-9ff2-11ea-a530-000d3a86...  ...   \n",
       "tiles             [{'data': {'0b5446f8-a00c-11ea-a530-000d3a86d7...  ...   \n",
       "\n",
       "                                                         row_119709  \\\n",
       "resourceinstance  {'graph_id': '60120f3c-9ff2-11ea-a530-000d3a86...   \n",
       "tiles             [{'data': {'60120f4f-9ff2-11ea-a530-000d3a86d7...   \n",
       "\n",
       "                                                         row_119710  \\\n",
       "resourceinstance  {'graph_id': '60120f3c-9ff2-11ea-a530-000d3a86...   \n",
       "tiles             [{'data': {'60120f4f-9ff2-11ea-a530-000d3a86d7...   \n",
       "\n",
       "                                                         row_119711  \\\n",
       "resourceinstance  {'graph_id': '60120f3c-9ff2-11ea-a530-000d3a86...   \n",
       "tiles             [{'data': {'60120f4f-9ff2-11ea-a530-000d3a86d7...   \n",
       "\n",
       "                                                         row_119712  \\\n",
       "resourceinstance  {'graph_id': '60120f3c-9ff2-11ea-a530-000d3a86...   \n",
       "tiles             [{'data': {'60120f4f-9ff2-11ea-a530-000d3a86d7...   \n",
       "\n",
       "                                                         row_119713  \\\n",
       "resourceinstance  {'graph_id': '60120f3c-9ff2-11ea-a530-000d3a86...   \n",
       "tiles             [{'data': {'60120f4f-9ff2-11ea-a530-000d3a86d7...   \n",
       "\n",
       "                                                         row_119714  \\\n",
       "resourceinstance  {'graph_id': '60120f3c-9ff2-11ea-a530-000d3a86...   \n",
       "tiles             [{'data': {'60120f4f-9ff2-11ea-a530-000d3a86d7...   \n",
       "\n",
       "                                                         row_119715  \\\n",
       "resourceinstance  {'graph_id': '60120f3c-9ff2-11ea-a530-000d3a86...   \n",
       "tiles             [{'data': {'60120f4c-9ff2-11ea-a530-000d3a86d7...   \n",
       "\n",
       "                                                         row_119716  \\\n",
       "resourceinstance  {'graph_id': '60120f3c-9ff2-11ea-a530-000d3a86...   \n",
       "tiles             [{'data': {'60120f4c-9ff2-11ea-a530-000d3a86d7...   \n",
       "\n",
       "                                                         row_119717  \\\n",
       "resourceinstance  {'graph_id': '60120f3c-9ff2-11ea-a530-000d3a86...   \n",
       "tiles             [{'data': {'60120f4c-9ff2-11ea-a530-000d3a86d7...   \n",
       "\n",
       "                                                         row_119718  \n",
       "resourceinstance  {'graph_id': '60120f3c-9ff2-11ea-a530-000d3a86...  \n",
       "tiles             [{'data': {'60120f4c-9ff2-11ea-a530-000d3a86d7...  \n",
       "\n",
       "[2 rows x 119719 columns]"
      ]
     },
     "execution_count": 3,
     "metadata": {},
     "output_type": "execute_result"
    }
   ],
   "source": [
    "data.head()"
   ]
  },
  {
   "cell_type": "code",
   "execution_count": 4,
   "id": "2f1159e2",
   "metadata": {},
   "outputs": [],
   "source": [
    "tdata = data.T"
   ]
  },
  {
   "cell_type": "code",
   "execution_count": 5,
   "id": "8cbabbef",
   "metadata": {},
   "outputs": [
    {
     "data": {
      "text/html": [
       "<div>\n",
       "<style scoped>\n",
       "    .dataframe tbody tr th:only-of-type {\n",
       "        vertical-align: middle;\n",
       "    }\n",
       "\n",
       "    .dataframe tbody tr th {\n",
       "        vertical-align: top;\n",
       "    }\n",
       "\n",
       "    .dataframe thead th {\n",
       "        text-align: right;\n",
       "    }\n",
       "</style>\n",
       "<table border=\"1\" class=\"dataframe\">\n",
       "  <thead>\n",
       "    <tr style=\"text-align: right;\">\n",
       "      <th></th>\n",
       "      <th>resourceinstance</th>\n",
       "      <th>tiles</th>\n",
       "    </tr>\n",
       "  </thead>\n",
       "  <tbody>\n",
       "    <tr>\n",
       "      <th>row_0</th>\n",
       "      <td>{'graph_id': '60120f3c-9ff2-11ea-a530-000d3a86...</td>\n",
       "      <td>[{'data': {'60120f6e-9ff2-11ea-a530-000d3a86d7...</td>\n",
       "    </tr>\n",
       "    <tr>\n",
       "      <th>row_1</th>\n",
       "      <td>{'graph_id': '60120f3c-9ff2-11ea-a530-000d3a86...</td>\n",
       "      <td>[{'data': {'60120f6e-9ff2-11ea-a530-000d3a86d7...</td>\n",
       "    </tr>\n",
       "    <tr>\n",
       "      <th>row_2</th>\n",
       "      <td>{'graph_id': '60120f3c-9ff2-11ea-a530-000d3a86...</td>\n",
       "      <td>[{'data': {'0b5446f8-a00c-11ea-a530-000d3a86d7...</td>\n",
       "    </tr>\n",
       "    <tr>\n",
       "      <th>row_3</th>\n",
       "      <td>{'graph_id': '60120f3c-9ff2-11ea-a530-000d3a86...</td>\n",
       "      <td>[{'data': {'60120f58-9ff2-11ea-a530-000d3a86d7...</td>\n",
       "    </tr>\n",
       "    <tr>\n",
       "      <th>row_4</th>\n",
       "      <td>{'graph_id': '60120f3c-9ff2-11ea-a530-000d3a86...</td>\n",
       "      <td>[{'data': {'60120f61-9ff2-11ea-a530-000d3a86d7...</td>\n",
       "    </tr>\n",
       "  </tbody>\n",
       "</table>\n",
       "</div>"
      ],
      "text/plain": [
       "                                        resourceinstance  \\\n",
       "row_0  {'graph_id': '60120f3c-9ff2-11ea-a530-000d3a86...   \n",
       "row_1  {'graph_id': '60120f3c-9ff2-11ea-a530-000d3a86...   \n",
       "row_2  {'graph_id': '60120f3c-9ff2-11ea-a530-000d3a86...   \n",
       "row_3  {'graph_id': '60120f3c-9ff2-11ea-a530-000d3a86...   \n",
       "row_4  {'graph_id': '60120f3c-9ff2-11ea-a530-000d3a86...   \n",
       "\n",
       "                                                   tiles  \n",
       "row_0  [{'data': {'60120f6e-9ff2-11ea-a530-000d3a86d7...  \n",
       "row_1  [{'data': {'60120f6e-9ff2-11ea-a530-000d3a86d7...  \n",
       "row_2  [{'data': {'0b5446f8-a00c-11ea-a530-000d3a86d7...  \n",
       "row_3  [{'data': {'60120f58-9ff2-11ea-a530-000d3a86d7...  \n",
       "row_4  [{'data': {'60120f61-9ff2-11ea-a530-000d3a86d7...  "
      ]
     },
     "execution_count": 5,
     "metadata": {},
     "output_type": "execute_result"
    }
   ],
   "source": [
    "tdata.head()"
   ]
  },
  {
   "cell_type": "code",
   "execution_count": 15,
   "id": "b864ac89",
   "metadata": {},
   "outputs": [
    {
     "name": "stdout",
     "output_type": "stream",
     "text": [
      "<class 'pandas.core.frame.DataFrame'>\n",
      "Index: 119719 entries, row_0 to row_119718\n",
      "Data columns (total 2 columns):\n",
      " #   Column            Non-Null Count   Dtype \n",
      "---  ------            --------------   ----- \n",
      " 0   resourceinstance  119719 non-null  object\n",
      " 1   tiles             119719 non-null  object\n",
      "dtypes: object(2)\n",
      "memory usage: 6.8+ MB\n"
     ]
    }
   ],
   "source": [
    "tdata.info()"
   ]
  },
  {
   "cell_type": "code",
   "execution_count": 21,
   "id": "2727e79d",
   "metadata": {},
   "outputs": [
    {
     "data": {
      "text/plain": [
       "{'graph_id': '60120f3c-9ff2-11ea-a530-000d3a86d704',\n",
       " 'legacyid': '416697',\n",
       " 'resourceinstanceid': '1bbac7f4-6d70-4a6c-b0dc-e851e8720e9f'}"
      ]
     },
     "execution_count": 21,
     "metadata": {},
     "output_type": "execute_result"
    }
   ],
   "source": [
    "tdata.resourceinstance['row_0']"
   ]
  },
  {
   "cell_type": "code",
   "execution_count": 27,
   "id": "66bf5b69",
   "metadata": {},
   "outputs": [
    {
     "data": {
      "text/html": [
       "<div>\n",
       "<style scoped>\n",
       "    .dataframe tbody tr th:only-of-type {\n",
       "        vertical-align: middle;\n",
       "    }\n",
       "\n",
       "    .dataframe tbody tr th {\n",
       "        vertical-align: top;\n",
       "    }\n",
       "\n",
       "    .dataframe thead th {\n",
       "        text-align: right;\n",
       "    }\n",
       "</style>\n",
       "<table border=\"1\" class=\"dataframe\">\n",
       "  <thead>\n",
       "    <tr style=\"text-align: right;\">\n",
       "      <th></th>\n",
       "      <th>index</th>\n",
       "      <th>resourceinstance</th>\n",
       "      <th>tiles</th>\n",
       "    </tr>\n",
       "  </thead>\n",
       "  <tbody>\n",
       "    <tr>\n",
       "      <th>0</th>\n",
       "      <td>row_0</td>\n",
       "      <td>{'graph_id': '60120f3c-9ff2-11ea-a530-000d3a86...</td>\n",
       "      <td>[{'data': {'60120f6e-9ff2-11ea-a530-000d3a86d7...</td>\n",
       "    </tr>\n",
       "    <tr>\n",
       "      <th>1</th>\n",
       "      <td>row_1</td>\n",
       "      <td>{'graph_id': '60120f3c-9ff2-11ea-a530-000d3a86...</td>\n",
       "      <td>[{'data': {'60120f6e-9ff2-11ea-a530-000d3a86d7...</td>\n",
       "    </tr>\n",
       "    <tr>\n",
       "      <th>2</th>\n",
       "      <td>row_2</td>\n",
       "      <td>{'graph_id': '60120f3c-9ff2-11ea-a530-000d3a86...</td>\n",
       "      <td>[{'data': {'0b5446f8-a00c-11ea-a530-000d3a86d7...</td>\n",
       "    </tr>\n",
       "    <tr>\n",
       "      <th>3</th>\n",
       "      <td>row_3</td>\n",
       "      <td>{'graph_id': '60120f3c-9ff2-11ea-a530-000d3a86...</td>\n",
       "      <td>[{'data': {'60120f58-9ff2-11ea-a530-000d3a86d7...</td>\n",
       "    </tr>\n",
       "    <tr>\n",
       "      <th>4</th>\n",
       "      <td>row_4</td>\n",
       "      <td>{'graph_id': '60120f3c-9ff2-11ea-a530-000d3a86...</td>\n",
       "      <td>[{'data': {'60120f61-9ff2-11ea-a530-000d3a86d7...</td>\n",
       "    </tr>\n",
       "    <tr>\n",
       "      <th>...</th>\n",
       "      <td>...</td>\n",
       "      <td>...</td>\n",
       "      <td>...</td>\n",
       "    </tr>\n",
       "    <tr>\n",
       "      <th>119714</th>\n",
       "      <td>row_119714</td>\n",
       "      <td>{'graph_id': '60120f3c-9ff2-11ea-a530-000d3a86...</td>\n",
       "      <td>[{'data': {'60120f4f-9ff2-11ea-a530-000d3a86d7...</td>\n",
       "    </tr>\n",
       "    <tr>\n",
       "      <th>119715</th>\n",
       "      <td>row_119715</td>\n",
       "      <td>{'graph_id': '60120f3c-9ff2-11ea-a530-000d3a86...</td>\n",
       "      <td>[{'data': {'60120f4c-9ff2-11ea-a530-000d3a86d7...</td>\n",
       "    </tr>\n",
       "    <tr>\n",
       "      <th>119716</th>\n",
       "      <td>row_119716</td>\n",
       "      <td>{'graph_id': '60120f3c-9ff2-11ea-a530-000d3a86...</td>\n",
       "      <td>[{'data': {'60120f4c-9ff2-11ea-a530-000d3a86d7...</td>\n",
       "    </tr>\n",
       "    <tr>\n",
       "      <th>119717</th>\n",
       "      <td>row_119717</td>\n",
       "      <td>{'graph_id': '60120f3c-9ff2-11ea-a530-000d3a86...</td>\n",
       "      <td>[{'data': {'60120f4c-9ff2-11ea-a530-000d3a86d7...</td>\n",
       "    </tr>\n",
       "    <tr>\n",
       "      <th>119718</th>\n",
       "      <td>row_119718</td>\n",
       "      <td>{'graph_id': '60120f3c-9ff2-11ea-a530-000d3a86...</td>\n",
       "      <td>[{'data': {'60120f4c-9ff2-11ea-a530-000d3a86d7...</td>\n",
       "    </tr>\n",
       "  </tbody>\n",
       "</table>\n",
       "<p>119719 rows × 3 columns</p>\n",
       "</div>"
      ],
      "text/plain": [
       "             index                                   resourceinstance  \\\n",
       "0            row_0  {'graph_id': '60120f3c-9ff2-11ea-a530-000d3a86...   \n",
       "1            row_1  {'graph_id': '60120f3c-9ff2-11ea-a530-000d3a86...   \n",
       "2            row_2  {'graph_id': '60120f3c-9ff2-11ea-a530-000d3a86...   \n",
       "3            row_3  {'graph_id': '60120f3c-9ff2-11ea-a530-000d3a86...   \n",
       "4            row_4  {'graph_id': '60120f3c-9ff2-11ea-a530-000d3a86...   \n",
       "...            ...                                                ...   \n",
       "119714  row_119714  {'graph_id': '60120f3c-9ff2-11ea-a530-000d3a86...   \n",
       "119715  row_119715  {'graph_id': '60120f3c-9ff2-11ea-a530-000d3a86...   \n",
       "119716  row_119716  {'graph_id': '60120f3c-9ff2-11ea-a530-000d3a86...   \n",
       "119717  row_119717  {'graph_id': '60120f3c-9ff2-11ea-a530-000d3a86...   \n",
       "119718  row_119718  {'graph_id': '60120f3c-9ff2-11ea-a530-000d3a86...   \n",
       "\n",
       "                                                    tiles  \n",
       "0       [{'data': {'60120f6e-9ff2-11ea-a530-000d3a86d7...  \n",
       "1       [{'data': {'60120f6e-9ff2-11ea-a530-000d3a86d7...  \n",
       "2       [{'data': {'0b5446f8-a00c-11ea-a530-000d3a86d7...  \n",
       "3       [{'data': {'60120f58-9ff2-11ea-a530-000d3a86d7...  \n",
       "4       [{'data': {'60120f61-9ff2-11ea-a530-000d3a86d7...  \n",
       "...                                                   ...  \n",
       "119714  [{'data': {'60120f4f-9ff2-11ea-a530-000d3a86d7...  \n",
       "119715  [{'data': {'60120f4c-9ff2-11ea-a530-000d3a86d7...  \n",
       "119716  [{'data': {'60120f4c-9ff2-11ea-a530-000d3a86d7...  \n",
       "119717  [{'data': {'60120f4c-9ff2-11ea-a530-000d3a86d7...  \n",
       "119718  [{'data': {'60120f4c-9ff2-11ea-a530-000d3a86d7...  \n",
       "\n",
       "[119719 rows x 3 columns]"
      ]
     },
     "execution_count": 27,
     "metadata": {},
     "output_type": "execute_result"
    }
   ],
   "source": [
    "tdata.reset_index()"
   ]
  },
  {
   "cell_type": "code",
   "execution_count": 29,
   "id": "fcdec332",
   "metadata": {},
   "outputs": [
    {
     "data": {
      "text/plain": [
       "Index(['resourceinstance', 'tiles'], dtype='object')"
      ]
     },
     "execution_count": 29,
     "metadata": {},
     "output_type": "execute_result"
    }
   ],
   "source": [
    "tdata.columns"
   ]
  },
  {
   "cell_type": "code",
   "execution_count": 32,
   "id": "c3f5fd6a",
   "metadata": {},
   "outputs": [
    {
     "data": {
      "text/plain": [
       "row_0    [{'data': {'60120f6e-9ff2-11ea-a530-000d3a86d7...\n",
       "row_1    [{'data': {'60120f6e-9ff2-11ea-a530-000d3a86d7...\n",
       "row_2    [{'data': {'0b5446f8-a00c-11ea-a530-000d3a86d7...\n",
       "Name: tiles, dtype: object"
      ]
     },
     "execution_count": 32,
     "metadata": {},
     "output_type": "execute_result"
    }
   ],
   "source": [
    "tdata.tiles[0:3]"
   ]
  },
  {
   "cell_type": "code",
   "execution_count": 10,
   "id": "d6381da0",
   "metadata": {},
   "outputs": [],
   "source": [
    "a = tdata.tiles['row_1']"
   ]
  },
  {
   "cell_type": "markdown",
   "id": "88354c4c",
   "metadata": {},
   "source": [
    "The Caerphilly Palace opened in 1904 initially as a skating rink. The building was sold in 1910 to George H. Pitt who converted the Palace into Pitt's Picture Palace with seating for 1,500 people. The conversion work was carried out by Mr W. Branch of Abersychan with electric installations by Messr Crossley of Cardiff.\n",
    "\n",
    "The Palace used to run variety turns in between films and proved successful. The business changed ownership several times over the next few years and the showing of films and plays ceased around the time talkies emerged with the building then becoming unused for many years. A local company, Ryans, used the building to store vehicles for a while before it being demolished in 1976.\n",
    "\n",
    "Meilyr Powel, RCAHMW, November 2020\n",
    "\n",
    "Source:\n",
    "\n",
    "'Entertaining South Wales - C', overthefootlights.co.uk, pp.3-4"
   ]
  },
  {
   "cell_type": "code",
   "execution_count": 47,
   "id": "98397cd9",
   "metadata": {},
   "outputs": [
    {
     "name": "stdout",
     "output_type": "stream",
     "text": [
      "<p>From &#39;Entertaining South Wales&#39;:</p>\n",
      "\n",
      "<p>&#39;The independent Plaza Cinema opened in North Road on March 12th 1928 with 1,500 seats. The opening film was Norma Talmadge in the (silent) version of &ldquo;Camille&rdquo;. The film was accompanied by a large in-house orchestra - a standard feature of many larger cinemas, though this was something that would mostly disappear due to manpower shortages during the Great War. Over the course of its more than fifty-year existence it was taken over by the Cardiff Cinema Circuit and then the Jackson Withers Circuit, and ultimately bought by the Rank Organisation. The cinema closed on October 17th 1981 with a horror double-bill of &ldquo;Alien&rdquo; and &ldquo;The Fog&rdquo;. The building remained unused for several years before it was finally demolished and replaced with Meridian Court, a sheltered housing development.&#39;</p>\n",
      "\n",
      "<p>&nbsp;</p>\n",
      "\n",
      "<p>Meilyr Powel, RCAHMW, November 2020</p>\n",
      "\n",
      "<p>Source:</p>\n",
      "\n",
      "<p><a href=\"http://www.overthefootlights.co.uk/Entertaining%20South%20Wales%20C.pdf\">&#39;Entertaining South Wales - C&#39;, overthefootlights.co.uk, p.32</a></p>\n",
      "\n",
      "None\n"
     ]
    }
   ],
   "source": [
    "for b in a[0]['data'].values():\n",
    "    print(b)"
   ]
  },
  {
   "cell_type": "code",
   "execution_count": 92,
   "id": "09e6465b",
   "metadata": {},
   "outputs": [
    {
     "name": "stdout",
     "output_type": "stream",
     "text": [
      "{'graph_id': '60120f3c-9ff2-11ea-a530-000d3a86d704', 'legacyid': '416697', 'resourceinstanceid': '1bbac7f4-6d70-4a6c-b0dc-e851e8720e9f'}\n",
      "60120f3c\\-9ff2\\-11ea\\-a530\\-000d3a86d704\n",
      "'60120f3c\\-9ff2\\-11ea\\-a530\\-000d3a86d704':\\s+[\"']([\\W\\w]+?)[\"'],\n"
     ]
    },
    {
     "ename": "error",
     "evalue": "bad character range e-9 at position 19",
     "output_type": "error",
     "traceback": [
      "\u001b[0;31m---------------------------------------------------------------------------\u001b[0m",
      "\u001b[0;31merror\u001b[0m                                     Traceback (most recent call last)",
      "\u001b[0;32m<ipython-input-92-25b2acfcf692>\u001b[0m in \u001b[0;36m<module>\u001b[0;34m\u001b[0m\n\u001b[1;32m      7\u001b[0m     \u001b[0mcurrRegExp\u001b[0m \u001b[0;34m=\u001b[0m \u001b[0;34m\"\\'\"\u001b[0m \u001b[0;34m+\u001b[0m \u001b[0mkey\u001b[0m \u001b[0;34m+\u001b[0m \u001b[0mreExp\u001b[0m\u001b[0;34m\u001b[0m\u001b[0;34m\u001b[0m\u001b[0m\n\u001b[1;32m      8\u001b[0m     \u001b[0mprint\u001b[0m\u001b[0;34m(\u001b[0m\u001b[0mcurrRegExp\u001b[0m\u001b[0;34m)\u001b[0m\u001b[0;34m\u001b[0m\u001b[0;34m\u001b[0m\u001b[0m\n\u001b[0;32m----> 9\u001b[0;31m     \u001b[0mx\u001b[0m \u001b[0;34m=\u001b[0m \u001b[0mre\u001b[0m\u001b[0;34m.\u001b[0m\u001b[0mfindall\u001b[0m\u001b[0;34m(\u001b[0m\u001b[0mstr\u001b[0m\u001b[0;34m(\u001b[0m\u001b[0mtdata\u001b[0m\u001b[0;34m.\u001b[0m\u001b[0mtiles\u001b[0m\u001b[0;34m[\u001b[0m\u001b[0mi\u001b[0m\u001b[0;34m]\u001b[0m\u001b[0;34m)\u001b[0m\u001b[0;34m,\u001b[0m \u001b[0ma\u001b[0m\u001b[0;34m)\u001b[0m\u001b[0;34m\u001b[0m\u001b[0;34m\u001b[0m\u001b[0m\n\u001b[0m\u001b[1;32m     10\u001b[0m     \u001b[0mdf\u001b[0m\u001b[0;34m.\u001b[0m\u001b[0mappend\u001b[0m\u001b[0;34m(\u001b[0m\u001b[0mx\u001b[0m\u001b[0;34m)\u001b[0m\u001b[0;34m\u001b[0m\u001b[0;34m\u001b[0m\u001b[0m\n",
      "\u001b[0;32m~/opt/anaconda3/lib/python3.8/re.py\u001b[0m in \u001b[0;36mfindall\u001b[0;34m(pattern, string, flags)\u001b[0m\n\u001b[1;32m    239\u001b[0m \u001b[0;34m\u001b[0m\u001b[0m\n\u001b[1;32m    240\u001b[0m     Empty matches are included in the result.\"\"\"\n\u001b[0;32m--> 241\u001b[0;31m     \u001b[0;32mreturn\u001b[0m \u001b[0m_compile\u001b[0m\u001b[0;34m(\u001b[0m\u001b[0mpattern\u001b[0m\u001b[0;34m,\u001b[0m \u001b[0mflags\u001b[0m\u001b[0;34m)\u001b[0m\u001b[0;34m.\u001b[0m\u001b[0mfindall\u001b[0m\u001b[0;34m(\u001b[0m\u001b[0mstring\u001b[0m\u001b[0;34m)\u001b[0m\u001b[0;34m\u001b[0m\u001b[0;34m\u001b[0m\u001b[0m\n\u001b[0m\u001b[1;32m    242\u001b[0m \u001b[0;34m\u001b[0m\u001b[0m\n\u001b[1;32m    243\u001b[0m \u001b[0;32mdef\u001b[0m \u001b[0mfinditer\u001b[0m\u001b[0;34m(\u001b[0m\u001b[0mpattern\u001b[0m\u001b[0;34m,\u001b[0m \u001b[0mstring\u001b[0m\u001b[0;34m,\u001b[0m \u001b[0mflags\u001b[0m\u001b[0;34m=\u001b[0m\u001b[0;36m0\u001b[0m\u001b[0;34m)\u001b[0m\u001b[0;34m:\u001b[0m\u001b[0;34m\u001b[0m\u001b[0;34m\u001b[0m\u001b[0m\n",
      "\u001b[0;32m~/opt/anaconda3/lib/python3.8/re.py\u001b[0m in \u001b[0;36m_compile\u001b[0;34m(pattern, flags)\u001b[0m\n\u001b[1;32m    302\u001b[0m     \u001b[0;32mif\u001b[0m \u001b[0;32mnot\u001b[0m \u001b[0msre_compile\u001b[0m\u001b[0;34m.\u001b[0m\u001b[0misstring\u001b[0m\u001b[0;34m(\u001b[0m\u001b[0mpattern\u001b[0m\u001b[0;34m)\u001b[0m\u001b[0;34m:\u001b[0m\u001b[0;34m\u001b[0m\u001b[0;34m\u001b[0m\u001b[0m\n\u001b[1;32m    303\u001b[0m         \u001b[0;32mraise\u001b[0m \u001b[0mTypeError\u001b[0m\u001b[0;34m(\u001b[0m\u001b[0;34m\"first argument must be string or compiled pattern\"\u001b[0m\u001b[0;34m)\u001b[0m\u001b[0;34m\u001b[0m\u001b[0;34m\u001b[0m\u001b[0m\n\u001b[0;32m--> 304\u001b[0;31m     \u001b[0mp\u001b[0m \u001b[0;34m=\u001b[0m \u001b[0msre_compile\u001b[0m\u001b[0;34m.\u001b[0m\u001b[0mcompile\u001b[0m\u001b[0;34m(\u001b[0m\u001b[0mpattern\u001b[0m\u001b[0;34m,\u001b[0m \u001b[0mflags\u001b[0m\u001b[0;34m)\u001b[0m\u001b[0;34m\u001b[0m\u001b[0;34m\u001b[0m\u001b[0m\n\u001b[0m\u001b[1;32m    305\u001b[0m     \u001b[0;32mif\u001b[0m \u001b[0;32mnot\u001b[0m \u001b[0;34m(\u001b[0m\u001b[0mflags\u001b[0m \u001b[0;34m&\u001b[0m \u001b[0mDEBUG\u001b[0m\u001b[0;34m)\u001b[0m\u001b[0;34m:\u001b[0m\u001b[0;34m\u001b[0m\u001b[0;34m\u001b[0m\u001b[0m\n\u001b[1;32m    306\u001b[0m         \u001b[0;32mif\u001b[0m \u001b[0mlen\u001b[0m\u001b[0;34m(\u001b[0m\u001b[0m_cache\u001b[0m\u001b[0;34m)\u001b[0m \u001b[0;34m>=\u001b[0m \u001b[0m_MAXCACHE\u001b[0m\u001b[0;34m:\u001b[0m\u001b[0;34m\u001b[0m\u001b[0;34m\u001b[0m\u001b[0m\n",
      "\u001b[0;32m~/opt/anaconda3/lib/python3.8/sre_compile.py\u001b[0m in \u001b[0;36mcompile\u001b[0;34m(p, flags)\u001b[0m\n\u001b[1;32m    762\u001b[0m     \u001b[0;32mif\u001b[0m \u001b[0misstring\u001b[0m\u001b[0;34m(\u001b[0m\u001b[0mp\u001b[0m\u001b[0;34m)\u001b[0m\u001b[0;34m:\u001b[0m\u001b[0;34m\u001b[0m\u001b[0;34m\u001b[0m\u001b[0m\n\u001b[1;32m    763\u001b[0m         \u001b[0mpattern\u001b[0m \u001b[0;34m=\u001b[0m \u001b[0mp\u001b[0m\u001b[0;34m\u001b[0m\u001b[0;34m\u001b[0m\u001b[0m\n\u001b[0;32m--> 764\u001b[0;31m         \u001b[0mp\u001b[0m \u001b[0;34m=\u001b[0m \u001b[0msre_parse\u001b[0m\u001b[0;34m.\u001b[0m\u001b[0mparse\u001b[0m\u001b[0;34m(\u001b[0m\u001b[0mp\u001b[0m\u001b[0;34m,\u001b[0m \u001b[0mflags\u001b[0m\u001b[0;34m)\u001b[0m\u001b[0;34m\u001b[0m\u001b[0;34m\u001b[0m\u001b[0m\n\u001b[0m\u001b[1;32m    765\u001b[0m     \u001b[0;32melse\u001b[0m\u001b[0;34m:\u001b[0m\u001b[0;34m\u001b[0m\u001b[0;34m\u001b[0m\u001b[0m\n\u001b[1;32m    766\u001b[0m         \u001b[0mpattern\u001b[0m \u001b[0;34m=\u001b[0m \u001b[0;32mNone\u001b[0m\u001b[0;34m\u001b[0m\u001b[0;34m\u001b[0m\u001b[0m\n",
      "\u001b[0;32m~/opt/anaconda3/lib/python3.8/sre_parse.py\u001b[0m in \u001b[0;36mparse\u001b[0;34m(str, flags, state)\u001b[0m\n\u001b[1;32m    946\u001b[0m \u001b[0;34m\u001b[0m\u001b[0m\n\u001b[1;32m    947\u001b[0m     \u001b[0;32mtry\u001b[0m\u001b[0;34m:\u001b[0m\u001b[0;34m\u001b[0m\u001b[0;34m\u001b[0m\u001b[0m\n\u001b[0;32m--> 948\u001b[0;31m         \u001b[0mp\u001b[0m \u001b[0;34m=\u001b[0m \u001b[0m_parse_sub\u001b[0m\u001b[0;34m(\u001b[0m\u001b[0msource\u001b[0m\u001b[0;34m,\u001b[0m \u001b[0mstate\u001b[0m\u001b[0;34m,\u001b[0m \u001b[0mflags\u001b[0m \u001b[0;34m&\u001b[0m \u001b[0mSRE_FLAG_VERBOSE\u001b[0m\u001b[0;34m,\u001b[0m \u001b[0;36m0\u001b[0m\u001b[0;34m)\u001b[0m\u001b[0;34m\u001b[0m\u001b[0;34m\u001b[0m\u001b[0m\n\u001b[0m\u001b[1;32m    949\u001b[0m     \u001b[0;32mexcept\u001b[0m \u001b[0mVerbose\u001b[0m\u001b[0;34m:\u001b[0m\u001b[0;34m\u001b[0m\u001b[0;34m\u001b[0m\u001b[0m\n\u001b[1;32m    950\u001b[0m         \u001b[0;31m# the VERBOSE flag was switched on inside the pattern.  to be\u001b[0m\u001b[0;34m\u001b[0m\u001b[0;34m\u001b[0m\u001b[0;34m\u001b[0m\u001b[0m\n",
      "\u001b[0;32m~/opt/anaconda3/lib/python3.8/sre_parse.py\u001b[0m in \u001b[0;36m_parse_sub\u001b[0;34m(source, state, verbose, nested)\u001b[0m\n\u001b[1;32m    441\u001b[0m     \u001b[0mstart\u001b[0m \u001b[0;34m=\u001b[0m \u001b[0msource\u001b[0m\u001b[0;34m.\u001b[0m\u001b[0mtell\u001b[0m\u001b[0;34m(\u001b[0m\u001b[0;34m)\u001b[0m\u001b[0;34m\u001b[0m\u001b[0;34m\u001b[0m\u001b[0m\n\u001b[1;32m    442\u001b[0m     \u001b[0;32mwhile\u001b[0m \u001b[0;32mTrue\u001b[0m\u001b[0;34m:\u001b[0m\u001b[0;34m\u001b[0m\u001b[0;34m\u001b[0m\u001b[0m\n\u001b[0;32m--> 443\u001b[0;31m         itemsappend(_parse(source, state, verbose, nested + 1,\n\u001b[0m\u001b[1;32m    444\u001b[0m                            not nested and not items))\n\u001b[1;32m    445\u001b[0m         \u001b[0;32mif\u001b[0m \u001b[0;32mnot\u001b[0m \u001b[0msourcematch\u001b[0m\u001b[0;34m(\u001b[0m\u001b[0;34m\"|\"\u001b[0m\u001b[0;34m)\u001b[0m\u001b[0;34m:\u001b[0m\u001b[0;34m\u001b[0m\u001b[0;34m\u001b[0m\u001b[0m\n",
      "\u001b[0;32m~/opt/anaconda3/lib/python3.8/sre_parse.py\u001b[0m in \u001b[0;36m_parse\u001b[0;34m(source, state, verbose, nested, first)\u001b[0m\n\u001b[1;32m    596\u001b[0m                     \u001b[0;32mif\u001b[0m \u001b[0mhi\u001b[0m \u001b[0;34m<\u001b[0m \u001b[0mlo\u001b[0m\u001b[0;34m:\u001b[0m\u001b[0;34m\u001b[0m\u001b[0;34m\u001b[0m\u001b[0m\n\u001b[1;32m    597\u001b[0m                         \u001b[0mmsg\u001b[0m \u001b[0;34m=\u001b[0m \u001b[0;34m\"bad character range %s-%s\"\u001b[0m \u001b[0;34m%\u001b[0m \u001b[0;34m(\u001b[0m\u001b[0mthis\u001b[0m\u001b[0;34m,\u001b[0m \u001b[0mthat\u001b[0m\u001b[0;34m)\u001b[0m\u001b[0;34m\u001b[0m\u001b[0;34m\u001b[0m\u001b[0m\n\u001b[0;32m--> 598\u001b[0;31m                         \u001b[0;32mraise\u001b[0m \u001b[0msource\u001b[0m\u001b[0;34m.\u001b[0m\u001b[0merror\u001b[0m\u001b[0;34m(\u001b[0m\u001b[0mmsg\u001b[0m\u001b[0;34m,\u001b[0m \u001b[0mlen\u001b[0m\u001b[0;34m(\u001b[0m\u001b[0mthis\u001b[0m\u001b[0;34m)\u001b[0m \u001b[0;34m+\u001b[0m \u001b[0;36m1\u001b[0m \u001b[0;34m+\u001b[0m \u001b[0mlen\u001b[0m\u001b[0;34m(\u001b[0m\u001b[0mthat\u001b[0m\u001b[0;34m)\u001b[0m\u001b[0;34m)\u001b[0m\u001b[0;34m\u001b[0m\u001b[0;34m\u001b[0m\u001b[0m\n\u001b[0m\u001b[1;32m    599\u001b[0m                     \u001b[0msetappend\u001b[0m\u001b[0;34m(\u001b[0m\u001b[0;34m(\u001b[0m\u001b[0mRANGE\u001b[0m\u001b[0;34m,\u001b[0m \u001b[0;34m(\u001b[0m\u001b[0mlo\u001b[0m\u001b[0;34m,\u001b[0m \u001b[0mhi\u001b[0m\u001b[0;34m)\u001b[0m\u001b[0;34m)\u001b[0m\u001b[0;34m)\u001b[0m\u001b[0;34m\u001b[0m\u001b[0;34m\u001b[0m\u001b[0m\n\u001b[1;32m    600\u001b[0m                 \u001b[0;32melse\u001b[0m\u001b[0;34m:\u001b[0m\u001b[0;34m\u001b[0m\u001b[0;34m\u001b[0m\u001b[0m\n",
      "\u001b[0;31merror\u001b[0m: bad character range e-9 at position 19"
     ]
    }
   ],
   "source": [
    "df = []\n",
    "reExp = \"':\\s+[\\\"\\']([\\W\\w]+?)[\\\"\\'],\"\n",
    "for i in range(0, 15):\n",
    "    key = str(tdata.resourceinstance[i]['graph_id']).replace('-', '\\-')\n",
    "    print(tdata.resourceinstance[i])\n",
    "    print(key)\n",
    "    currRegExp = \"\\'\" + key + reExp\n",
    "    print(currRegExp)\n",
    "    x = re.findall(str(tdata.tiles[i]), a)\n",
    "    df.append(x)"
   ]
  },
  {
   "cell_type": "code",
   "execution_count": 97,
   "id": "3e1bc569",
   "metadata": {},
   "outputs": [],
   "source": [
    "df = []"
   ]
  },
  {
   "cell_type": "code",
   "execution_count": 99,
   "id": "c929fb3d",
   "metadata": {},
   "outputs": [],
   "source": [
    "df.append(\"<p>The Caerphilly Palace opened in 1904 initially as a skating rink. The building was sold in 1910 to George H. Pitt who converted the Palace into Pitt&#39;s Picture Palace with seating for 1,500 people. The conversion work was carried out by Mr&nbsp;W. Branch of Abersychan with electric installations by Messr Crossley of Cardiff.</p>\\\\n\\\\n<p>The Palace used to run variety turns in between films and proved successful. The business changed ownership several times over the next few years and the showing of films and plays ceased around the time talkies emerged with&nbsp;the building then becoming&nbsp;unused for many years. A local company, Ryans, used the building to store vehicles for a while before it being demolished in 1976.</p>\\\\n\\\\n<p>&nbsp;</p>\\\\n\\\\n<p>Meilyr Powel, RCAHMW, November 2020</p>\\\\n\\\\n<p>Source:</p>\\\\n\\\\n<p><a href=\\\"http://www.overthefootlights.co.uk/Entertaining%20South%20Wales%20C.pdf\\\">&#39;Entertaining South Wales - C&#39;, overthefootlights.co.uk, pp.3-4</a></p>\\\\n\")"
   ]
  },
  {
   "cell_type": "code",
   "execution_count": 101,
   "id": "60ddc621",
   "metadata": {},
   "outputs": [],
   "source": [
    "df.append(\"<p>From &#39;Entertaining South Wales&#39;:</p>\\\\n\\\\n<p>&#39;The independent Plaza Cinema opened in North Road on March 12th 1928 with 1,500 seats. The opening film was Norma Talmadge in the (silent) version of &ldquo;Camille&rdquo;. The film was accompanied by a large in-house orchestra - a standard feature of many larger cinemas, though this was something that would mostly disappear due to manpower shortages during the Great War. Over the course of its more than fifty-year existence it was taken over by the Cardiff Cinema Circuit and then the Jackson Withers Circuit, and ultimately bought by the Rank Organisation. The cinema closed on October 17th 1981 with a horror double-bill of &ldquo;Alien&rdquo; and &ldquo;The Fog&rdquo;. The building remained unused for several years before it was finally demolished and replaced with Meridian Court, a sheltered housing development.&#39;</p>\\\\n\\\\n<p>&nbsp;</p>\\\\n\\\\n<p>Meilyr Powel, RCAHMW, November 2020</p>\\\\n\\\\n<p>Source:</p>\\\\n\\\\n<p><a href=\\\"http://www.overthefootlights.co.uk/Entertaining%20South%20Wales%20C.pdf\\\">&#39;Entertaining South Wales - C&#39;, overthefootlights.co.uk, p.32</a></p>\\\\n\")"
   ]
  },
  {
   "cell_type": "code",
   "execution_count": 103,
   "id": "7ed8baf8",
   "metadata": {},
   "outputs": [],
   "source": [
    "df.append(\"Usk Castle is a substantial masonry castle dating from around 1138 and now generally ruinous.   It is first recorded in the possession of Richard de Clare in 1262, but probably held by the de Clare family from the conquest of South Wales. It subsequently passed through severeal hands in the fourteenth century and for a time was controlled by Edmund Mortimer, Earl of the Marches. After the death of his nephew Richard, the Duke of York, it passed to Edward VI, subsequently staying in the hands of the crown until the death of Henry VII. It then passed to the Earls of Pembroke.<br>\\n<br>\\nThe castle stands on a spur overlooking the Usk and consists of a rectangular area surrounded by curtain walls with towers at intervals and a large gatehouse on the east side. To the south-east is an outer bailey with walls on its south-east side, a corner tower on the south, and a gatehouse at the north end of the south-east wall.<br>\\n<br>\\nThe gatehouse is square in plan, a three storey structure with a doorway reached by stone steps on the east side and round headed windows on the south side. Internally there is a fireplace on the north-west side, and a number of doorways at different levels. <br>\\nThe north tower is D-shaped with a large square-headed doorway with a square mullioned window above on the inside wall, and external doorways in the north and south walls, that to the south leading to a small platform. On the first floor is a fireplace. <br>\\nThe banqueting hall is 14th century in date, being altered around 1500. It stands against the curtain wall on the north side. Along its south side is a buttressed wall with two windows and a doorway, with a third window above. The west wall has a further, large window and there is a fireplace in the north wall at first floor level. The Garrison Tower is circular and located midway along the south-west curtain wall. It stands to its full height with a crenallated parapet, and there are doors into it on either side of the curtain wall. At a level corresponding to the top of the curtain wall is a small passageway leading to a garderobe on the north side and a spiral staircase on the south side, and there are small slit windows on four levels.<br>\\n<br>\\nThe Round Tower in the south corner, stands to the same height as the curtain wall, with a doorway surviving on the north side.<br>\\nCurtain walls survive to various heights. On the north-east side there is a large gateway with a pointed arch, to the west of which is a low grass bank.  Above this are three supports in the wall for the first floor of the building that was there. There is also a tapering fireplace in the middle. To the north of the gateway is another fireplace and grass covered low remains of rooms, and to the north of this is a small projection with a rounded niche. The north side has St Georges chapel, an area of garden made into an open air chapel. At the west end a small tower projects to the outside of the curtain wall, internally having a fireplace and the remains of a spiral staircase.  The south-west curtain wall retains its wall walk, and there are three openings, one of which has a pillar and appears more recent. The south-east wall has a small 'room' inside the wall at an upper level.<br>\\nThe Dovecot tower is at the south end of the outer bailey wall; it is round in plan and stands to its full height. The internal north-west wall has niches for use as dove boxes.<br>\\n(Source SAM description)<br>\\n<br>\\nS Fielding, RCAHMW, 20 June 2005<br>\\n\")"
   ]
  },
  {
   "cell_type": "code",
   "execution_count": 105,
   "id": "b3adcdd2",
   "metadata": {},
   "outputs": [],
   "source": [
    "df.append(\"Gwndwn Baptist Chapel was built in 1910, in an unclassified architecural style, with a gable entry plan and flat-headed windows. This chapel was greatly altered in a late twentieth century conversion for residential use.<br>\\n<br>\\nRCAHMW, May 2011. Built 1910. Unclassified architecural style, has been greatly altered. Status (1998): in other use ; residential  Converted to a residence; part or whole rebuilding. (OJ 23/08/96).'\")"
   ]
  },
  {
   "cell_type": "code",
   "execution_count": 108,
   "id": "6bae87c2",
   "metadata": {},
   "outputs": [],
   "source": [
    "df.append(\"<p>The church of St Meilig retains some 13th-14th century fabric in the tower, but was largely rebuilt by W.J. and A.H. Worthington of London in 1853-55 at the cost of &pound;943 using mixed local stones, with Bath stone dressings.</p>\\n\\n<p>The nave has a south porch, the chancel has a vestry on the north side, and a west tower. The porch is in early Decorated style.&nbsp;</p>\\n\\n<p>The tower is of 3 stages, the top stage rebuilt in the 19th century. Two phases of early slit windows, all now blocked, and a crenellated parapet.&nbsp;</p>\\n\\n<p>The nave of 4 bays has an impressive open roof on orch-braced collar beam trusses springing from wall corbels. &nbsp;The chancel has an open trussed rafter roof with scissor braces and a deep oak cornice pierced with trefoils. The floor is paved with tiles.</p>\\n\\n<p>The limestone pulpit is octagonal, approached by 6 steps with carved oak handrail on twisted iron supports. The 19th century font is an octagonal bowl carved with ballflowers, fleurons and chequer panels, all raised on four clustered columns. The earlier, 13th century font is a simple round bowl with a horizontal flat central cordon, now bound with iron, on a tapered base. The organ of 1880, was restored by Henry James, London. At the west end is an important 11th century cross slab said originally to have stood at Croes feilig and set up in the churchyard in the 12th century (see NPRN 96531).</p>\\n\\n<p>There is an east window in memorial to Henry Beavan, the family who brought the church restoration to fruition. On the south side, a window with Christ with children, dedicated to William Elmslie, &dagger; c.1853 in China; Christ walking on waters, commemorating Captain R.Collinson&#39;s survival of the arctic expedition of the ship Enterprise. On the north side a window in memorial to Octavia Ramsey of Maesllwch Castle, &dagger;1850.</p>\\n\\n<p>There are various wall monuments, including many from the previous church, reset after the rebuilding. In chancel, limestone Gothic aedicule, c.1870 to Hugh Beavan of Brynrhydd House, &dagger;1837; white marble sarcophagus relief on black ground, by I.E.Thomas of London, to John Pugh of Porthgoley, &dagger;1824; draped casket over white marble tablet set against veined marble, also by I.E.Thomas, to Ann Pugh of Porthgoley, &dagger;1846; Gothic surround to marble tablet to John Pugh of Gare (Gaer), &dagger;1788;&nbsp; white marble on grey, to Ann Gunter and William of Abergavenny &dagger;1805 and 1808 (descendants of Sir Peter Gunter of Tregunter). There is also a Great War tablet. Against the west wall, a canvas Royal Arms of George III.</p>\\n\\n<p>The dedication to Meilig indicates an early origin. Meilig, abbott and confessor, was the son of Caw of Pictland and brother to the monk Gildas. He was born on Clydeside c. 650 and is mentioned in the C10 Culhwch and Olwen story, and in the Book of Llan Daf, [Liber Llandavensis], compiled c.1120-40.</p>\\n\\n<p>Source: Cadw Listing description.</p>\\n\\n<p>RCAHMW, 2021.</p>\\n\")"
   ]
  },
  {
   "cell_type": "code",
   "execution_count": 110,
   "id": "21e57777",
   "metadata": {},
   "outputs": [],
   "source": [
    "df.append(\"<p>This record comprises a documentary reference to a shipping casualty which has been assigned to the maritime named location OFF THE SMALLS pending more information which may allow a more precise location for the loss to be assigned.</p>\\\\n\\\\n<p>&nbsp;</p>\\\\n\\\\n<p>Event and Historical Information:</p>\\\\n\\\\n<p>The EMILY ELIZA was a 144 net ton wooden brigantine. At time of loss on 7 September 1898, the vessel was on voyage from Portsmouth to Manchester with a cargo of whitening when she struck a rock near the Smalls and became wrecked. The crew were picked up by the steamship FOREST, from Almeria.</p>\\\\n\\\\n<p>&nbsp;</p>\\\\n\\\\n<p>Sources include:</p>\\\\n\\\\n<p><a href=\\\"https://archive.org/stream/HECCR1890/1898#page/n34/mode/1up\\\">Lloyd&#39;s Register Casualty Returns, 1 July - 30 September 1898, p.10 (h)</a><br />\\\\n<a href=\\\"https://newspapers.library.wales/view/3740967/3740975/199/Emily%20Eliza\\\">South Wales Daily News, 10 September 1898, p.8</a></p>\\\\n\\\\n<p>&nbsp;</p>\\\\n\\\\n<p>Maritime Research Assistant, RCAHMW, September 2020.</p>\\\\n\\\\n<p>This record was created in 2020 with&nbsp;funding from Lloyd&#39;s Register Foundation as part of the project &lsquo;Making the Link: Lloyd&#39;s Register and the National Monuments Record of Wales&rsquo;. Visit <a href=\\\"https://hec.lrfoundation.org.uk/archive-library/digital-resources\\\" target=\\\"_blank\\\">Lloyd&rsquo;s Register Foundation Heritage and Education Centre</a> for more resources.</p>\\\\n\")"
   ]
  },
  {
   "cell_type": "code",
   "execution_count": 112,
   "id": "f8f3295e",
   "metadata": {},
   "outputs": [],
   "source": [
    "df.append(\"<p>The wreck is reported to lie upside down and broken amidships. The most prominent feature is the boiler which stands 3m proud of the seabed. A brass plate and two brass portholes have been recovered and reported to the Receiver of Wreck.<br />\\\\n<br />\\\\nEvent and Historical Information:<br />\\\\nThe COUNT D&#39;ASPREMOUNT was an iron hulled steamship built by Coulson, Cooke &amp; Co, Newcastle Upon Tyne, in 1874. Technical and configuration specifications are given as 452gt, 274nt; 162ft 5in long x 23ft 2in breadth x 14ft 1in depth; 1 deck, 4 bulkheads, quarterdeck 87ft; screw propulsion powered by a single steam boiler linked to a compound engine producing 65hp and made by Christie, Gutch &amp; Co, Newcastle. The ship was originally registered at Newcastle (39 in 1874). It had been sold to foreigners in 1875 and renamed OTHELLO. On 16 April 1892, the ship&#39;s registry was transferred with an ownership change (Thomas Harries of Swansea, Shipbroker) to Swansea. On 1 January 1898, the vessel was sold to the Anglo-American Agency Co, 33 Mount Stuart Square, Cardiff (Isaac Cracker becoming the designated managing owner). On 9 December 1903, the steamship was on passage from Dublin to Newport in ballast when it was caught in a south southwesterly gale force 8 gale. It ran onto Horse Rock, Ramsey Sound, in the heavy weather. The steamship later refloated on the floodtide and drifted northwards to sink between Horse Rock and the St Justinian lifeboat slipway. The ship&#39;s Swansea registry was subsequently closed on 6 January 1904.</p>\\\\n\\\\n<p>&nbsp;</p>\\\\n\\\\n<p>Sources include:</p>\\\\n\\\\n<p>Board of Trade Wreck Return 1903, Appendix C, Table 1, p.132 (636)<br />\\\\nGoddard, T, 1983, Pembrokeshire Shipwrecks, p.70<br />\\\\nLarn and Larn Shipwreck Database 2002<br />\\\\n<a href=\\\"https://archive.org/stream/HECCR1890/1903#page/n45/mode/1up\\\">Lloyd&#39;s Register Casualty Returns, 1 October - 31 December 1903, p.7 (g)</a><br />\\\\nLloyd&#39;s Register of British and Foreign Shipping 1 July 1092 - 30 June 1903, number 1375 in C<br />\\\\nPort of Swansea Shipping Register 1876-97, West Glamorgan Archive Service D/D PRO/RBS/S 1/7, 5 in 1892<br />\\\\nReceiver of Wreck Droits Database 2007, RCIM6/2/5<br />\\\\nUK Hydrographic Office Wrecks and Obstructions Database. ? Crown Copyright and database rights. Reproduced by permission of the Controller of Her Majesty&#39;s Stationery Office and the UK Hydrographic Office (<a href=\\\"https://www.admiralty.co.uk/ukho/About-Us\\\">www.ukho.gov.uk</a>)</p>\\\\n\\\\n<p><br />\\\\n<br />\\\\nMaritime Officer, RCAHMW, July 2009.</p>\\\\n\\\\n<p>This record was enhanced in 2020 with&nbsp;funding from Lloyd&#39;s Register Foundation as part of the project &lsquo;Making the Link: Lloyd&#39;s Register and the National Monuments Record of Wales&rsquo;. Visit <a href=\\\"https://hec.lrfoundation.org.uk/archive-library/digital-resources\\\" target=\\\"_blank\\\">Lloyd&rsquo;s Register Foundation Heritage and Education Centre</a> for more resources.</p>\\\\n\")"
   ]
  },
  {
   "cell_type": "code",
   "execution_count": 114,
   "id": "ba050c62",
   "metadata": {},
   "outputs": [],
   "source": [
    "df.append(\"<p>Event and Historical Information:</p>\\\\n\\\\n<p>The POLTALLOCH was a steel four-masted bark of 2,138 net tons and measuring 86.7 x 12.8 x 7.4m. The vessel had four masts, rigged with royal sails above double top and topgallant sails, and was built in 1893 at Belfast by Workman, Clark &amp; Co. Ltd. At time of loss, the POLTALLOCH was owned by Eschen &amp; Minor of the US and was on voyage from Caleta Buena in Chile to Leith via Queenstown with a cargo of nitrate soda. On 2 January 1916 the vessel ran aground on St. Patrick&#39;s Causeway, 13 miles north west of Barmouth. The captain and five of the crew of twenty-five landed in their boat at Harlech the following morning. A Liverpool Salvage Association cable stated on 5 January that the POLTALLOCH had a very heavy port list, and the cargo was melting. Due to such a heavy list, tugs did not attempt to tow the vessel, and by 10 January the ship had turned over on her broadside and became a total loss. Five Germans were among the crew of the POLTALLOCH who were subsequently interned. The cargo and total loss of the ship amounted to over &pound;90,000.</p>\\\\n\\\\n<p>&nbsp;</p>\\\\n\\\\n<p>Sources include:</p>\\\\n\\\\n<p><a href=\\\"https://newspapers.library.wales/view/4011825/4011832/17/Poltalloch\\\">The Barmouth and County Advertiser, 13 January 1916, p.7</a><br />\\\\n<a href=\\\"https://archive.org/stream/HECCR1890/1916#page/n12/mode/1up\\\">Lloyd&#39;s Register Casualty Returns, 1 January - 31 March 1916, p.13 (g)</a><br />\\\\n<a href=\\\"https://www.wrecksite.eu/wreck.aspx?202858\\\">SV Poltalloch, Wreck Site EU</a><br />\\\\n<a href=\\\"https://newspapers.library.wales/view/4026660/4026663/23/Poltalloch\\\">Yr Udgorn, 12 January 1916, p.3</a></p>\\\\n\\\\n<p>&nbsp;</p>\\\\n\\\\n<p>Maritime Research Assistant, RCAHMW, September 2020.</p>\\\\n\\\\n<p>This record was created in 2020 with&nbsp;funding from Lloyd&#39;s Register Foundation as part of the project &lsquo;Making the Link: Lloyd&#39;s Register and the National Monuments Record of Wales&rsquo;. Visit <a href=\\\"https://hec.lrfoundation.org.uk/archive-library/digital-resources\\\" target=\\\"_blank\\\">Lloyd&rsquo;s Register Foundation Heritage and Education Centre</a> for more resources.</p>\\\\n\")"
   ]
  },
  {
   "cell_type": "code",
   "execution_count": 116,
   "id": "48e7b250",
   "metadata": {},
   "outputs": [],
   "source": [
    "df.append(\"<p>Clwyd Theatr Cymru, previously called Theatr Cymru is a leading centre for productions. It was opened in 1976 by Clwyd County Council, built to the designs of R. W. Harvey, County Architect. It offers four venues - The Anthony Hopkins Theatre, The Emlyn Williams Theatre, a cinema and a multi-purpose function room. A bookshop, art gallery, cafe and bar are also on site.<br />\\nL. Osborne, 26th Jan 2011.</p>\\n\")"
   ]
  },
  {
   "cell_type": "code",
   "execution_count": 118,
   "id": "953d139e",
   "metadata": {},
   "outputs": [],
   "source": [
    "df.append(\"Ainon Baptist Chapel was built in 1911 and rebuilt in 1926. The present chapel is built in the Arts and Crafts style with a half-hipped box plan and round headed leaded windows. In 1995 this chapel was listed as a Pentecostal Chapel and in 2009 as Trealaw Christian Centre.<br>\\n<br>\\nRCAHMW, May 2012\")"
   ]
  },
  {
   "cell_type": "code",
   "execution_count": 120,
   "id": "32ea0d19",
   "metadata": {},
   "outputs": [],
   "source": [
    "df.append(\"The Welsh Baptist cause in Llynfaes began around 1831 and the chapel was completed in 1833. The present Belan baptist Chapel is a basic hipped-box structure built in the Vernacular style with flat-headed windows. The chapel was enlarged in 1850 by the addition of a house to the rear and again in 1900 when the present porch was added. <br>\\n<br>\\nRCAHMW, February 2010\")"
   ]
  },
  {
   "cell_type": "code",
   "execution_count": 122,
   "id": "72331d6a",
   "metadata": {},
   "outputs": [],
   "source": [
    "df.append(\"Bethania Baptist Chapel was built in 1890 and rebuilt in 1912 by architect William Beddoe Rees. The later chapel is built in the Simple Gothic style of the gable-entry type with two storeys, a basement and perpendicular windows with tracery glazing.  Bethania is now Grade 2 Listed  but has been converted for use as a Community Centre. <br>\\n<br>\\nRCAHMW, June 2010\")"
   ]
  },
  {
   "cell_type": "code",
   "execution_count": 125,
   "id": "f4455193",
   "metadata": {},
   "outputs": [],
   "source": [
    "df.append(\"<p>The Neptune Engineering Works, Newport was established in the early 20th century and soon after became Braithwaite &amp; Co, Neptune Works as a subsidiary of Braithwaite &amp; Co Engineers Limited (U.K.), which had been established in 1913 for undertaking fabrication of Structural Steel Works. Braithwaite &amp; Co Engineers Ltd became part of the Rowecord Group in the 1960&#39;s. In 2018 the Associated British Ports (ABP) acquired the Neptune Works in an effort to develop its port facilities across the country, with&nbsp;Newport Dock being the biggest general trading port in South Wales, handling predominantly timber, steel and animal feeds.<br />\\\\n&nbsp;</p>\\\\n\\\\n<p>Updated by Meilyr Powel, RCAHMW, October 2020.</p>\\\\n\\\\n<p>Sources:</p>\\\\n\\\\n<p>Braithwaite and Co Engineers Ltd, West Bromwich, Ref No: BS-B, Sandwell Community History and Archives Service.<br />\\\\n<a href=\\\"http://www.commercialnewsmedia.com/archives/80171\\\">&#39;ABP acquires Neptune Works, Newport in largest industrial property deal in South Wales this year&#39;, commercialnewsmedia.com, 10 September 2018</a></p>\\\\n\\\\n<p>&nbsp;</p>\\\\n\")"
   ]
  },
  {
   "cell_type": "code",
   "execution_count": 127,
   "id": "915cfd2f",
   "metadata": {},
   "outputs": [],
   "source": [
    "df.append(\"<p>The wreck lies 50m for shore and is covered in kelp. The riveted plates of the aft and centre sections of the hull have been flattened to the level of the seabed. Boulders have built up around the bow and this protection has allowed it to retains some height and coherence. The forward hold is open and samples of manganese ore can still be found. In the centre of the wreck and towards the aft, the boiler is the most identifiable feature. The propeller shaft is some 16m long. At the stern, the sternpost, a pair of bits, the propeller shaft&#39;s thrust bearings, and a single 4-bladed iron propeller are also identifiable.<br />\\\\n<br />\\\\nEvent and Historical Information:<br />\\\\nThe GANDA was a iron-hulled C W Dodgun &amp; Co of North Shields in 1875. Technical and configuration specifications are given as 474gt 309nt; 171ft length x 25ft 1in breadth x 14ft 6in depth; quarterdeck 85ft; screw propulsion powered a single steam boiler linked to a compound engine producing 74hp; machinery by W. &amp; J. Almond, North Shields. The vessel had three changes of name during its service life - ex-CATHCART, ex VILLE D&#39;ANVERS and ex CATHCART. At time of loss on 5 August 1904, the vessel was owned by T Nolson of Ghent and registered at that port. The GANDA was under the command of master C Schmidt and had been loading manganese ore at Rhiw. The vessel broke from its moorings at night and the rope became tangled around the ship&#39;s propeller, so that the vessel had no option but to drift ashore. On the following day, the ship was refloated and taken to deeper moorings off St Tudwel&#39;s Island. The vessel was then found to be leaking badly and so it was returned to the pier where it grounded and eventually split open its hull.</p>\\\\n\\\\n<p>&nbsp;</p>\\\\n\\\\n<p>Sources include:</p>\\\\n\\\\n<p>Board of Trade Wreck Return 1904, Appendix C, Table 1, p.118 (608)<br />\\\\nLarn and Larn Shipwreck Database 2002<br />\\\\n<a href=\\\"https://archive.org/stream/HECCR1890/1904#page/n30/mode/1up\\\">Lloyd&#39;s Register Casualty Returns, 1 July - 30 September 1904, p.8 (h)</a><br />\\\\nLloyd&#39;s Register of British and Foreign Shipping, 1 July 1903 - 30 June 1904, number 71 in G</p>\\\\n\\\\n<p><br />\\\\n<br />\\\\nMaritime Officer, RCAHMW, November 2009.</p>\\\\n\\\\n<p>This record was enhanced in 2020 with&nbsp;funding from Lloyd&#39;s Register Foundation as part of the project &lsquo;Making the Link: Lloyd&#39;s Register and the National Monuments Record of Wales&rsquo;. Visit <a href=\\\"https://hec.lrfoundation.org.uk/archive-library/digital-resources\\\" target=\\\"_blank\\\">Lloyd&rsquo;s Register Foundation Heritage and Education Centre</a> for more resources.</p>\\\\n\")"
   ]
  },
  {
   "cell_type": "code",
   "execution_count": 129,
   "id": "e5aac866",
   "metadata": {},
   "outputs": [],
   "source": [
    "df.append(\"<p>Event and Historical Information:</p>\\\\n\\\\n<p>The BLUSH ROSE was a 645 gross ton steamship built in 1913 by van Vliet of Hardinxveld for Richard Hughes, Liverpool. At time of loss on 2 August 1945 the vessel was en route from Dublin to Preston in ballast and sank after a collision in dense fog with SS GLAUCUS 20 miles off Holyhead. The BLUSH ROSE&#39;s crew of 15 were all rescued by the GLAUCUS and taken to Holyhead.</p>\\\\n\\\\n<p>&nbsp;</p>\\\\n\\\\n<p>Sources include:</p>\\\\n\\\\n<p><a href=\\\"https://archive.org/stream/HECCR1890/1945#page/n23/mode/1up\\\">Lloyd&#39;s Register Casualty Returns, 1 July - 30 September 1945, p.8 (f)</a><br />\\\\n<a href=\\\"https://wrecksite.eu/wreck.aspx?297798\\\">SS Blush Rose, Wreck Site EU</a></p>\\\\n\\\\n<p>&nbsp;</p>\\\\n\\\\n<p>Maritime Research Assistant, RCAHMW, September 2020.</p>\\\\n\\\\n<p>This record was created in 2020 with&nbsp;funding from Lloyd&#39;s Register Foundation as part of the project &lsquo;Making the Link: Lloyd&#39;s Register and the National Monuments Record of Wales&rsquo;. Visit <a href=\\\"https://hec.lrfoundation.org.uk/archive-library/digital-resources\\\" target=\\\"_blank\\\">Lloyd&rsquo;s Register Foundation Heritage and Education Centre</a> for more resources.</p>\\\\n\")"
   ]
  },
  {
   "cell_type": "code",
   "execution_count": 131,
   "id": "84756e4e",
   "metadata": {},
   "outputs": [],
   "source": [
    "df.append(\"<p>Glyn hir was developed out of marginal land by the De Buisson family at the end of the eighteenth century- early nineteenth century. The original concept, a bit like Hafod, was to enjoy the beauty of natural features like the river and waterfalls. Today a fine dovecote remains, with a canal, walled orchard and kitchen garden, ice house and woodland garden with picturesque walks preserving some bridge sites over the River Loughor. C.S.Briggs, 07.07.05</p>\\n\")"
   ]
  },
  {
   "cell_type": "code",
   "execution_count": 132,
   "id": "24af6bbc",
   "metadata": {},
   "outputs": [
    {
     "data": {
      "text/plain": [
       "['<p>The Caerphilly Palace opened in 1904 initially as a skating rink. The building was sold in 1910 to George H. Pitt who converted the Palace into Pitt&#39;s Picture Palace with seating for 1,500 people. The conversion work was carried out by Mr&nbsp;W. Branch of Abersychan with electric installations by Messr Crossley of Cardiff.</p>\\\\n\\\\n<p>The Palace used to run variety turns in between films and proved successful. The business changed ownership several times over the next few years and the showing of films and plays ceased around the time talkies emerged with&nbsp;the building then becoming&nbsp;unused for many years. A local company, Ryans, used the building to store vehicles for a while before it being demolished in 1976.</p>\\\\n\\\\n<p>&nbsp;</p>\\\\n\\\\n<p>Meilyr Powel, RCAHMW, November 2020</p>\\\\n\\\\n<p>Source:</p>\\\\n\\\\n<p><a href=\"http://www.overthefootlights.co.uk/Entertaining%20South%20Wales%20C.pdf\">&#39;Entertaining South Wales - C&#39;, overthefootlights.co.uk, pp.3-4</a></p>\\\\n',\n",
       " '<p>From &#39;Entertaining South Wales&#39;:</p>\\\\n\\\\n<p>&#39;The independent Plaza Cinema opened in North Road on March 12th 1928 with 1,500 seats. The opening film was Norma Talmadge in the (silent) version of &ldquo;Camille&rdquo;. The film was accompanied by a large in-house orchestra - a standard feature of many larger cinemas, though this was something that would mostly disappear due to manpower shortages during the Great War. Over the course of its more than fifty-year existence it was taken over by the Cardiff Cinema Circuit and then the Jackson Withers Circuit, and ultimately bought by the Rank Organisation. The cinema closed on October 17th 1981 with a horror double-bill of &ldquo;Alien&rdquo; and &ldquo;The Fog&rdquo;. The building remained unused for several years before it was finally demolished and replaced with Meridian Court, a sheltered housing development.&#39;</p>\\\\n\\\\n<p>&nbsp;</p>\\\\n\\\\n<p>Meilyr Powel, RCAHMW, November 2020</p>\\\\n\\\\n<p>Source:</p>\\\\n\\\\n<p><a href=\"http://www.overthefootlights.co.uk/Entertaining%20South%20Wales%20C.pdf\">&#39;Entertaining South Wales - C&#39;, overthefootlights.co.uk, p.32</a></p>\\\\n',\n",
       " \"Usk Castle is a substantial masonry castle dating from around 1138 and now generally ruinous.   It is first recorded in the possession of Richard de Clare in 1262, but probably held by the de Clare family from the conquest of South Wales. It subsequently passed through severeal hands in the fourteenth century and for a time was controlled by Edmund Mortimer, Earl of the Marches. After the death of his nephew Richard, the Duke of York, it passed to Edward VI, subsequently staying in the hands of the crown until the death of Henry VII. It then passed to the Earls of Pembroke.<br>\\n<br>\\nThe castle stands on a spur overlooking the Usk and consists of a rectangular area surrounded by curtain walls with towers at intervals and a large gatehouse on the east side. To the south-east is an outer bailey with walls on its south-east side, a corner tower on the south, and a gatehouse at the north end of the south-east wall.<br>\\n<br>\\nThe gatehouse is square in plan, a three storey structure with a doorway reached by stone steps on the east side and round headed windows on the south side. Internally there is a fireplace on the north-west side, and a number of doorways at different levels. <br>\\nThe north tower is D-shaped with a large square-headed doorway with a square mullioned window above on the inside wall, and external doorways in the north and south walls, that to the south leading to a small platform. On the first floor is a fireplace. <br>\\nThe banqueting hall is 14th century in date, being altered around 1500. It stands against the curtain wall on the north side. Along its south side is a buttressed wall with two windows and a doorway, with a third window above. The west wall has a further, large window and there is a fireplace in the north wall at first floor level. The Garrison Tower is circular and located midway along the south-west curtain wall. It stands to its full height with a crenallated parapet, and there are doors into it on either side of the curtain wall. At a level corresponding to the top of the curtain wall is a small passageway leading to a garderobe on the north side and a spiral staircase on the south side, and there are small slit windows on four levels.<br>\\n<br>\\nThe Round Tower in the south corner, stands to the same height as the curtain wall, with a doorway surviving on the north side.<br>\\nCurtain walls survive to various heights. On the north-east side there is a large gateway with a pointed arch, to the west of which is a low grass bank.  Above this are three supports in the wall for the first floor of the building that was there. There is also a tapering fireplace in the middle. To the north of the gateway is another fireplace and grass covered low remains of rooms, and to the north of this is a small projection with a rounded niche. The north side has St Georges chapel, an area of garden made into an open air chapel. At the west end a small tower projects to the outside of the curtain wall, internally having a fireplace and the remains of a spiral staircase.  The south-west curtain wall retains its wall walk, and there are three openings, one of which has a pillar and appears more recent. The south-east wall has a small 'room' inside the wall at an upper level.<br>\\nThe Dovecot tower is at the south end of the outer bailey wall; it is round in plan and stands to its full height. The internal north-west wall has niches for use as dove boxes.<br>\\n(Source SAM description)<br>\\n<br>\\nS Fielding, RCAHMW, 20 June 2005<br>\\n\",\n",
       " \"Gwndwn Baptist Chapel was built in 1910, in an unclassified architecural style, with a gable entry plan and flat-headed windows. This chapel was greatly altered in a late twentieth century conversion for residential use.<br>\\n<br>\\nRCAHMW, May 2011. Built 1910. Unclassified architecural style, has been greatly altered. Status (1998): in other use ; residential  Converted to a residence; part or whole rebuilding. (OJ 23/08/96).'\",\n",
       " '<p>The church of St Meilig retains some 13th-14th century fabric in the tower, but was largely rebuilt by W.J. and A.H. Worthington of London in 1853-55 at the cost of &pound;943 using mixed local stones, with Bath stone dressings.</p>\\n\\n<p>The nave has a south porch, the chancel has a vestry on the north side, and a west tower. The porch is in early Decorated style.&nbsp;</p>\\n\\n<p>The tower is of 3 stages, the top stage rebuilt in the 19th century. Two phases of early slit windows, all now blocked, and a crenellated parapet.&nbsp;</p>\\n\\n<p>The nave of 4 bays has an impressive open roof on orch-braced collar beam trusses springing from wall corbels. &nbsp;The chancel has an open trussed rafter roof with scissor braces and a deep oak cornice pierced with trefoils. The floor is paved with tiles.</p>\\n\\n<p>The limestone pulpit is octagonal, approached by 6 steps with carved oak handrail on twisted iron supports. The 19th century font is an octagonal bowl carved with ballflowers, fleurons and chequer panels, all raised on four clustered columns. The earlier, 13th century font is a simple round bowl with a horizontal flat central cordon, now bound with iron, on a tapered base. The organ of 1880, was restored by Henry James, London. At the west end is an important 11th century cross slab said originally to have stood at Croes feilig and set up in the churchyard in the 12th century (see NPRN 96531).</p>\\n\\n<p>There is an east window in memorial to Henry Beavan, the family who brought the church restoration to fruition. On the south side, a window with Christ with children, dedicated to William Elmslie, &dagger; c.1853 in China; Christ walking on waters, commemorating Captain R.Collinson&#39;s survival of the arctic expedition of the ship Enterprise. On the north side a window in memorial to Octavia Ramsey of Maesllwch Castle, &dagger;1850.</p>\\n\\n<p>There are various wall monuments, including many from the previous church, reset after the rebuilding. In chancel, limestone Gothic aedicule, c.1870 to Hugh Beavan of Brynrhydd House, &dagger;1837; white marble sarcophagus relief on black ground, by I.E.Thomas of London, to John Pugh of Porthgoley, &dagger;1824; draped casket over white marble tablet set against veined marble, also by I.E.Thomas, to Ann Pugh of Porthgoley, &dagger;1846; Gothic surround to marble tablet to John Pugh of Gare (Gaer), &dagger;1788;&nbsp; white marble on grey, to Ann Gunter and William of Abergavenny &dagger;1805 and 1808 (descendants of Sir Peter Gunter of Tregunter). There is also a Great War tablet. Against the west wall, a canvas Royal Arms of George III.</p>\\n\\n<p>The dedication to Meilig indicates an early origin. Meilig, abbott and confessor, was the son of Caw of Pictland and brother to the monk Gildas. He was born on Clydeside c. 650 and is mentioned in the C10 Culhwch and Olwen story, and in the Book of Llan Daf, [Liber Llandavensis], compiled c.1120-40.</p>\\n\\n<p>Source: Cadw Listing description.</p>\\n\\n<p>RCAHMW, 2021.</p>\\n',\n",
       " '<p>This record comprises a documentary reference to a shipping casualty which has been assigned to the maritime named location OFF THE SMALLS pending more information which may allow a more precise location for the loss to be assigned.</p>\\\\n\\\\n<p>&nbsp;</p>\\\\n\\\\n<p>Event and Historical Information:</p>\\\\n\\\\n<p>The EMILY ELIZA was a 144 net ton wooden brigantine. At time of loss on 7 September 1898, the vessel was on voyage from Portsmouth to Manchester with a cargo of whitening when she struck a rock near the Smalls and became wrecked. The crew were picked up by the steamship FOREST, from Almeria.</p>\\\\n\\\\n<p>&nbsp;</p>\\\\n\\\\n<p>Sources include:</p>\\\\n\\\\n<p><a href=\"https://archive.org/stream/HECCR1890/1898#page/n34/mode/1up\">Lloyd&#39;s Register Casualty Returns, 1 July - 30 September 1898, p.10 (h)</a><br />\\\\n<a href=\"https://newspapers.library.wales/view/3740967/3740975/199/Emily%20Eliza\">South Wales Daily News, 10 September 1898, p.8</a></p>\\\\n\\\\n<p>&nbsp;</p>\\\\n\\\\n<p>Maritime Research Assistant, RCAHMW, September 2020.</p>\\\\n\\\\n<p>This record was created in 2020 with&nbsp;funding from Lloyd&#39;s Register Foundation as part of the project &lsquo;Making the Link: Lloyd&#39;s Register and the National Monuments Record of Wales&rsquo;. Visit <a href=\"https://hec.lrfoundation.org.uk/archive-library/digital-resources\" target=\"_blank\">Lloyd&rsquo;s Register Foundation Heritage and Education Centre</a> for more resources.</p>\\\\n',\n",
       " '<p>The wreck is reported to lie upside down and broken amidships. The most prominent feature is the boiler which stands 3m proud of the seabed. A brass plate and two brass portholes have been recovered and reported to the Receiver of Wreck.<br />\\\\n<br />\\\\nEvent and Historical Information:<br />\\\\nThe COUNT D&#39;ASPREMOUNT was an iron hulled steamship built by Coulson, Cooke &amp; Co, Newcastle Upon Tyne, in 1874. Technical and configuration specifications are given as 452gt, 274nt; 162ft 5in long x 23ft 2in breadth x 14ft 1in depth; 1 deck, 4 bulkheads, quarterdeck 87ft; screw propulsion powered by a single steam boiler linked to a compound engine producing 65hp and made by Christie, Gutch &amp; Co, Newcastle. The ship was originally registered at Newcastle (39 in 1874). It had been sold to foreigners in 1875 and renamed OTHELLO. On 16 April 1892, the ship&#39;s registry was transferred with an ownership change (Thomas Harries of Swansea, Shipbroker) to Swansea. On 1 January 1898, the vessel was sold to the Anglo-American Agency Co, 33 Mount Stuart Square, Cardiff (Isaac Cracker becoming the designated managing owner). On 9 December 1903, the steamship was on passage from Dublin to Newport in ballast when it was caught in a south southwesterly gale force 8 gale. It ran onto Horse Rock, Ramsey Sound, in the heavy weather. The steamship later refloated on the floodtide and drifted northwards to sink between Horse Rock and the St Justinian lifeboat slipway. The ship&#39;s Swansea registry was subsequently closed on 6 January 1904.</p>\\\\n\\\\n<p>&nbsp;</p>\\\\n\\\\n<p>Sources include:</p>\\\\n\\\\n<p>Board of Trade Wreck Return 1903, Appendix C, Table 1, p.132 (636)<br />\\\\nGoddard, T, 1983, Pembrokeshire Shipwrecks, p.70<br />\\\\nLarn and Larn Shipwreck Database 2002<br />\\\\n<a href=\"https://archive.org/stream/HECCR1890/1903#page/n45/mode/1up\">Lloyd&#39;s Register Casualty Returns, 1 October - 31 December 1903, p.7 (g)</a><br />\\\\nLloyd&#39;s Register of British and Foreign Shipping 1 July 1092 - 30 June 1903, number 1375 in C<br />\\\\nPort of Swansea Shipping Register 1876-97, West Glamorgan Archive Service D/D PRO/RBS/S 1/7, 5 in 1892<br />\\\\nReceiver of Wreck Droits Database 2007, RCIM6/2/5<br />\\\\nUK Hydrographic Office Wrecks and Obstructions Database. ? Crown Copyright and database rights. Reproduced by permission of the Controller of Her Majesty&#39;s Stationery Office and the UK Hydrographic Office (<a href=\"https://www.admiralty.co.uk/ukho/About-Us\">www.ukho.gov.uk</a>)</p>\\\\n\\\\n<p><br />\\\\n<br />\\\\nMaritime Officer, RCAHMW, July 2009.</p>\\\\n\\\\n<p>This record was enhanced in 2020 with&nbsp;funding from Lloyd&#39;s Register Foundation as part of the project &lsquo;Making the Link: Lloyd&#39;s Register and the National Monuments Record of Wales&rsquo;. Visit <a href=\"https://hec.lrfoundation.org.uk/archive-library/digital-resources\" target=\"_blank\">Lloyd&rsquo;s Register Foundation Heritage and Education Centre</a> for more resources.</p>\\\\n',\n",
       " '<p>Event and Historical Information:</p>\\\\n\\\\n<p>The POLTALLOCH was a steel four-masted bark of 2,138 net tons and measuring 86.7 x 12.8 x 7.4m. The vessel had four masts, rigged with royal sails above double top and topgallant sails, and was built in 1893 at Belfast by Workman, Clark &amp; Co. Ltd. At time of loss, the POLTALLOCH was owned by Eschen &amp; Minor of the US and was on voyage from Caleta Buena in Chile to Leith via Queenstown with a cargo of nitrate soda. On 2 January 1916 the vessel ran aground on St. Patrick&#39;s Causeway, 13 miles north west of Barmouth. The captain and five of the crew of twenty-five landed in their boat at Harlech the following morning. A Liverpool Salvage Association cable stated on 5 January that the POLTALLOCH had a very heavy port list, and the cargo was melting. Due to such a heavy list, tugs did not attempt to tow the vessel, and by 10 January the ship had turned over on her broadside and became a total loss. Five Germans were among the crew of the POLTALLOCH who were subsequently interned. The cargo and total loss of the ship amounted to over &pound;90,000.</p>\\\\n\\\\n<p>&nbsp;</p>\\\\n\\\\n<p>Sources include:</p>\\\\n\\\\n<p><a href=\"https://newspapers.library.wales/view/4011825/4011832/17/Poltalloch\">The Barmouth and County Advertiser, 13 January 1916, p.7</a><br />\\\\n<a href=\"https://archive.org/stream/HECCR1890/1916#page/n12/mode/1up\">Lloyd&#39;s Register Casualty Returns, 1 January - 31 March 1916, p.13 (g)</a><br />\\\\n<a href=\"https://www.wrecksite.eu/wreck.aspx?202858\">SV Poltalloch, Wreck Site EU</a><br />\\\\n<a href=\"https://newspapers.library.wales/view/4026660/4026663/23/Poltalloch\">Yr Udgorn, 12 January 1916, p.3</a></p>\\\\n\\\\n<p>&nbsp;</p>\\\\n\\\\n<p>Maritime Research Assistant, RCAHMW, September 2020.</p>\\\\n\\\\n<p>This record was created in 2020 with&nbsp;funding from Lloyd&#39;s Register Foundation as part of the project &lsquo;Making the Link: Lloyd&#39;s Register and the National Monuments Record of Wales&rsquo;. Visit <a href=\"https://hec.lrfoundation.org.uk/archive-library/digital-resources\" target=\"_blank\">Lloyd&rsquo;s Register Foundation Heritage and Education Centre</a> for more resources.</p>\\\\n',\n",
       " '<p>Clwyd Theatr Cymru, previously called Theatr Cymru is a leading centre for productions. It was opened in 1976 by Clwyd County Council, built to the designs of R. W. Harvey, County Architect. It offers four venues - The Anthony Hopkins Theatre, The Emlyn Williams Theatre, a cinema and a multi-purpose function room. A bookshop, art gallery, cafe and bar are also on site.<br />\\nL. Osborne, 26th Jan 2011.</p>\\n',\n",
       " 'Ainon Baptist Chapel was built in 1911 and rebuilt in 1926. The present chapel is built in the Arts and Crafts style with a half-hipped box plan and round headed leaded windows. In 1995 this chapel was listed as a Pentecostal Chapel and in 2009 as Trealaw Christian Centre.<br>\\n<br>\\nRCAHMW, May 2012',\n",
       " 'The Welsh Baptist cause in Llynfaes began around 1831 and the chapel was completed in 1833. The present Belan baptist Chapel is a basic hipped-box structure built in the Vernacular style with flat-headed windows. The chapel was enlarged in 1850 by the addition of a house to the rear and again in 1900 when the present porch was added. <br>\\n<br>\\nRCAHMW, February 2010',\n",
       " 'Bethania Baptist Chapel was built in 1890 and rebuilt in 1912 by architect William Beddoe Rees. The later chapel is built in the Simple Gothic style of the gable-entry type with two storeys, a basement and perpendicular windows with tracery glazing.  Bethania is now Grade 2 Listed  but has been converted for use as a Community Centre. <br>\\n<br>\\nRCAHMW, June 2010',\n",
       " '<p>The Neptune Engineering Works, Newport was established in the early 20th century and soon after became Braithwaite &amp; Co, Neptune Works as a subsidiary of Braithwaite &amp; Co Engineers Limited (U.K.), which had been established in 1913 for undertaking fabrication of Structural Steel Works. Braithwaite &amp; Co Engineers Ltd became part of the Rowecord Group in the 1960&#39;s. In 2018 the Associated British Ports (ABP) acquired the Neptune Works in an effort to develop its port facilities across the country, with&nbsp;Newport Dock being the biggest general trading port in South Wales, handling predominantly timber, steel and animal feeds.<br />\\\\n&nbsp;</p>\\\\n\\\\n<p>Updated by Meilyr Powel, RCAHMW, October 2020.</p>\\\\n\\\\n<p>Sources:</p>\\\\n\\\\n<p>Braithwaite and Co Engineers Ltd, West Bromwich, Ref No: BS-B, Sandwell Community History and Archives Service.<br />\\\\n<a href=\"http://www.commercialnewsmedia.com/archives/80171\">&#39;ABP acquires Neptune Works, Newport in largest industrial property deal in South Wales this year&#39;, commercialnewsmedia.com, 10 September 2018</a></p>\\\\n\\\\n<p>&nbsp;</p>\\\\n',\n",
       " '<p>The wreck lies 50m for shore and is covered in kelp. The riveted plates of the aft and centre sections of the hull have been flattened to the level of the seabed. Boulders have built up around the bow and this protection has allowed it to retains some height and coherence. The forward hold is open and samples of manganese ore can still be found. In the centre of the wreck and towards the aft, the boiler is the most identifiable feature. The propeller shaft is some 16m long. At the stern, the sternpost, a pair of bits, the propeller shaft&#39;s thrust bearings, and a single 4-bladed iron propeller are also identifiable.<br />\\\\n<br />\\\\nEvent and Historical Information:<br />\\\\nThe GANDA was a iron-hulled C W Dodgun &amp; Co of North Shields in 1875. Technical and configuration specifications are given as 474gt 309nt; 171ft length x 25ft 1in breadth x 14ft 6in depth; quarterdeck 85ft; screw propulsion powered a single steam boiler linked to a compound engine producing 74hp; machinery by W. &amp; J. Almond, North Shields. The vessel had three changes of name during its service life - ex-CATHCART, ex VILLE D&#39;ANVERS and ex CATHCART. At time of loss on 5 August 1904, the vessel was owned by T Nolson of Ghent and registered at that port. The GANDA was under the command of master C Schmidt and had been loading manganese ore at Rhiw. The vessel broke from its moorings at night and the rope became tangled around the ship&#39;s propeller, so that the vessel had no option but to drift ashore. On the following day, the ship was refloated and taken to deeper moorings off St Tudwel&#39;s Island. The vessel was then found to be leaking badly and so it was returned to the pier where it grounded and eventually split open its hull.</p>\\\\n\\\\n<p>&nbsp;</p>\\\\n\\\\n<p>Sources include:</p>\\\\n\\\\n<p>Board of Trade Wreck Return 1904, Appendix C, Table 1, p.118 (608)<br />\\\\nLarn and Larn Shipwreck Database 2002<br />\\\\n<a href=\"https://archive.org/stream/HECCR1890/1904#page/n30/mode/1up\">Lloyd&#39;s Register Casualty Returns, 1 July - 30 September 1904, p.8 (h)</a><br />\\\\nLloyd&#39;s Register of British and Foreign Shipping, 1 July 1903 - 30 June 1904, number 71 in G</p>\\\\n\\\\n<p><br />\\\\n<br />\\\\nMaritime Officer, RCAHMW, November 2009.</p>\\\\n\\\\n<p>This record was enhanced in 2020 with&nbsp;funding from Lloyd&#39;s Register Foundation as part of the project &lsquo;Making the Link: Lloyd&#39;s Register and the National Monuments Record of Wales&rsquo;. Visit <a href=\"https://hec.lrfoundation.org.uk/archive-library/digital-resources\" target=\"_blank\">Lloyd&rsquo;s Register Foundation Heritage and Education Centre</a> for more resources.</p>\\\\n',\n",
       " '<p>Event and Historical Information:</p>\\\\n\\\\n<p>The BLUSH ROSE was a 645 gross ton steamship built in 1913 by van Vliet of Hardinxveld for Richard Hughes, Liverpool. At time of loss on 2 August 1945 the vessel was en route from Dublin to Preston in ballast and sank after a collision in dense fog with SS GLAUCUS 20 miles off Holyhead. The BLUSH ROSE&#39;s crew of 15 were all rescued by the GLAUCUS and taken to Holyhead.</p>\\\\n\\\\n<p>&nbsp;</p>\\\\n\\\\n<p>Sources include:</p>\\\\n\\\\n<p><a href=\"https://archive.org/stream/HECCR1890/1945#page/n23/mode/1up\">Lloyd&#39;s Register Casualty Returns, 1 July - 30 September 1945, p.8 (f)</a><br />\\\\n<a href=\"https://wrecksite.eu/wreck.aspx?297798\">SS Blush Rose, Wreck Site EU</a></p>\\\\n\\\\n<p>&nbsp;</p>\\\\n\\\\n<p>Maritime Research Assistant, RCAHMW, September 2020.</p>\\\\n\\\\n<p>This record was created in 2020 with&nbsp;funding from Lloyd&#39;s Register Foundation as part of the project &lsquo;Making the Link: Lloyd&#39;s Register and the National Monuments Record of Wales&rsquo;. Visit <a href=\"https://hec.lrfoundation.org.uk/archive-library/digital-resources\" target=\"_blank\">Lloyd&rsquo;s Register Foundation Heritage and Education Centre</a> for more resources.</p>\\\\n',\n",
       " '<p>Glyn hir was developed out of marginal land by the De Buisson family at the end of the eighteenth century- early nineteenth century. The original concept, a bit like Hafod, was to enjoy the beauty of natural features like the river and waterfalls. Today a fine dovecote remains, with a canal, walled orchard and kitchen garden, ice house and woodland garden with picturesque walks preserving some bridge sites over the River Loughor. C.S.Briggs, 07.07.05</p>\\n']"
      ]
     },
     "execution_count": 132,
     "metadata": {},
     "output_type": "execute_result"
    }
   ],
   "source": [
    "df"
   ]
  },
  {
   "cell_type": "code",
   "execution_count": 174,
   "id": "8e178013",
   "metadata": {},
   "outputs": [],
   "source": [
    "with open('15rows.pickle', 'wb') as f:\n",
    "    pkl.dump(data, f)"
   ]
  },
  {
   "cell_type": "code",
   "execution_count": 95,
   "id": "505923fa",
   "metadata": {},
   "outputs": [
    {
     "data": {
      "text/plain": [
       "{'graph_id': '60120f3c-9ff2-11ea-a530-000d3a86d704',\n",
       " 'legacyid': '416781',\n",
       " 'resourceinstanceid': '49f8510b-9833-4ffc-b184-03188d490728'}"
      ]
     },
     "execution_count": 95,
     "metadata": {},
     "output_type": "execute_result"
    }
   ],
   "source": [
    "tdata.resourceinstance[1]"
   ]
  },
  {
   "cell_type": "code",
   "execution_count": 203,
   "id": "90e787f1",
   "metadata": {},
   "outputs": [],
   "source": [
    "def clean_text(data):\n",
    "    data = BeautifulSoup(data, \"lxml\").text #removing html tags\n",
    "\n",
    "    # general\n",
    "    data = re.sub(r\"n\\'t\", \" not\", data)\n",
    "    data = re.sub(r\"\\'re\", \" are\", data)\n",
    "    data = re.sub(r\"\\'s\", \"s\", data) #not is because it has no abbreviations like that. it has llyods's type\n",
    "    data = re.sub(r\"\\'d\", \" would\", data)\n",
    "    data = re.sub(r\"\\'ll\", \" will\", data)\n",
    "    data = re.sub(r\"\\'ve\", \" have\", data)\n",
    "    \n",
    "    data = data.replace('\\\\r', ' ')\n",
    "    data = data.replace('\\\\n', ' ')\n",
    "    data = data.replace('\\n', ' ')\n",
    "    data = data.replace('\\\\\"', ' ')\n",
    "#     data = re.sub('[^A-Za-z0-9]+', ' ', data)\n",
    "    data = ' '.join(e for e in data.split() if e.lower() not in stops)\n",
    "\n",
    "    return data"
   ]
  },
  {
   "cell_type": "code",
   "execution_count": 204,
   "id": "b5475ac9",
   "metadata": {},
   "outputs": [],
   "source": [
    "data = []\n",
    "for d in df:\n",
    "    data.append(clean_text(d))"
   ]
  },
  {
   "cell_type": "code",
   "execution_count": 209,
   "id": "1a1cf2a6",
   "metadata": {},
   "outputs": [
    {
     "data": {
      "text/plain": [
       "[\"Caerphilly Palace opened 1904 initially skating rink. building sold 1910 George H. Pitt converted Palace Pitts Picture Palace seating 1,500 people. conversion work carried Mr W. Branch Abersychan electric installations Messr Crossley Cardiff. Palace used run variety turns films proved successful. business changed ownership several times next years showing films plays ceased around time talkies emerged building becoming unused many years. local company, Ryans, used building store vehicles demolished 1976. Meilyr Powel, RCAHMW, November 2020 Source: 'Entertaining South Wales - C', overthefootlights.co.uk, pp.3-4\",\n",
       " \"'Entertaining South Wales': 'The independent Plaza Cinema opened North Road March 12th 1928 1,500 seats. opening film Norma Talmadge (silent) version “Camille”. film accompanied large in-house orchestra - standard feature many larger cinemas, though something would mostly disappear due manpower shortages Great War. course fifty-year existence taken Cardiff Cinema Circuit Jackson Withers Circuit, ultimately bought Rank Organisation. cinema closed October 17th 1981 horror double-bill “Alien” “The Fog”. building remained unused several years finally demolished replaced Meridian Court, sheltered housing development.' Meilyr Powel, RCAHMW, November 2020 Source: 'Entertaining South Wales - C', overthefootlights.co.uk, p.32\",\n",
       " \"Usk Castle substantial masonry castle dating around 1138 generally ruinous. first recorded possession Richard de Clare 1262, probably held de Clare family conquest South Wales. subsequently passed severeal hands fourteenth century time controlled Edmund Mortimer, Earl Marches. death nephew Richard, Duke York, passed Edward VI, subsequently staying hands crown death Henry VII. passed Earls Pembroke. castle stands spur overlooking Usk consists rectangular area surrounded curtain walls towers intervals large gatehouse east side. south-east outer bailey walls south-east side, corner tower south, gatehouse north end south-east wall. gatehouse square plan, three storey structure doorway reached stone steps east side round headed windows south side. Internally fireplace north-west side, number doorways different levels. north tower D-shaped large square-headed doorway square mullioned window inside wall, external doorways north south walls, south leading small platform. first floor fireplace. banqueting hall 14th century date, altered around 1500. stands curtain wall north side. Along south side buttressed wall two windows doorway, third window above. west wall further, large window fireplace north wall first floor level. Garrison Tower circular located midway along south-west curtain wall. stands full height crenallated parapet, doors either side curtain wall. level corresponding top curtain wall small passageway leading garderobe north side spiral staircase south side, small slit windows four levels. Round Tower south corner, stands height curtain wall, doorway surviving north side. Curtain walls survive various heights. north-east side large gateway pointed arch, west low grass bank. three supports wall first floor building there. also tapering fireplace middle. north gateway another fireplace grass covered low remains rooms, north small projection rounded niche. north side St Georges chapel, area garden made open air chapel. west end small tower projects outside curtain wall, internally fireplace remains spiral staircase. south-west curtain wall retains wall walk, three openings, one pillar appears recent. south-east wall small 'room' inside wall upper level. Dovecot tower south end outer bailey wall; round plan stands full height. internal north-west wall niches use dove boxes. (Source SAM description) Fielding, RCAHMW, 20 June 2005\",\n",
       " \"Gwndwn Baptist Chapel built 1910, unclassified architecural style, gable entry plan flat-headed windows. chapel greatly altered late twentieth century conversion residential use. RCAHMW, May 2011. Built 1910. Unclassified architecural style, greatly altered. Status (1998): use ; residential Converted residence; part whole rebuilding. (OJ 23/08/96).'\",\n",
       " 'church St Meilig retains 13th-14th century fabric tower, largely rebuilt W.J. A.H. Worthington London 1853-55 cost £943 using mixed local stones, Bath stone dressings. nave south porch, chancel vestry north side, west tower. porch early Decorated style. tower 3 stages, top stage rebuilt 19th century. Two phases early slit windows, blocked, crenellated parapet. nave 4 bays impressive open roof orch-braced collar beam trusses springing wall corbels. chancel open trussed rafter roof scissor braces deep oak cornice pierced trefoils. floor paved tiles. limestone pulpit octagonal, approached 6 steps carved oak handrail twisted iron supports. 19th century font octagonal bowl carved ballflowers, fleurons chequer panels, raised four clustered columns. earlier, 13th century font simple round bowl horizontal flat central cordon, bound iron, tapered base. organ 1880, restored Henry James, London. west end important 11th century cross slab said originally stood Croes feilig set churchyard 12th century (see NPRN 96531). east window memorial Henry Beavan, family brought church restoration fruition. south side, window Christ children, dedicated William Elmslie, † c.1853 China; Christ walking waters, commemorating Captain R.Collinsons survival arctic expedition ship Enterprise. north side window memorial Octavia Ramsey Maesllwch Castle, †1850. various wall monuments, including many previous church, reset rebuilding. chancel, limestone Gothic aedicule, c.1870 Hugh Beavan Brynrhydd House, †1837; white marble sarcophagus relief black ground, I.E.Thomas London, John Pugh Porthgoley, †1824; draped casket white marble tablet set veined marble, also I.E.Thomas, Ann Pugh Porthgoley, †1846; Gothic surround marble tablet John Pugh Gare (Gaer), †1788; white marble grey, Ann Gunter William Abergavenny †1805 1808 (descendants Sir Peter Gunter Tregunter). also Great War tablet. west wall, canvas Royal Arms George III. dedication Meilig indicates early origin. Meilig, abbott confessor, son Caw Pictland brother monk Gildas. born Clydeside c. 650 mentioned C10 Culhwch Olwen story, Book Llan Daf, [Liber Llandavensis], compiled c.1120-40. Source: Cadw Listing description. RCAHMW, 2021.',\n",
       " 'record comprises documentary reference shipping casualty assigned maritime named location SMALLS pending information may allow precise location loss assigned. Event Historical Information: EMILY ELIZA 144 net ton wooden brigantine. time loss 7 September 1898, vessel voyage Portsmouth Manchester cargo whitening struck rock near Smalls became wrecked. crew picked steamship FOREST, Almeria. Sources include: Lloyds Register Casualty Returns, 1 July - 30 September 1898, p.10 (h) South Wales Daily News, 10 September 1898, p.8 Maritime Research Assistant, RCAHMW, September 2020. record created 2020 funding Lloyds Register Foundation part project ‘Making Link: Lloyds Register National Monuments Record Wales’. Visit Lloyd’s Register Foundation Heritage Education Centre resources.',\n",
       " \"wreck reported lie upside broken amidships. prominent feature boiler stands 3m proud seabed. brass plate two brass portholes recovered reported Receiver Wreck. Event Historical Information: COUNT D'ASPREMOUNT iron hulled steamship built Coulson, Cooke & Co, Newcastle Upon Tyne, 1874. Technical configuration specifications given 452gt, 274nt; 162ft 5in long x 23ft 2in breadth x 14ft 1in depth; 1 deck, 4 bulkheads, quarterdeck 87ft; screw propulsion powered single steam boiler linked compound engine producing 65hp made Christie, Gutch & Co, Newcastle. ship originally registered Newcastle (39 1874). sold foreigners 1875 renamed OTHELLO. 16 April 1892, ships registry transferred ownership change (Thomas Harries Swansea, Shipbroker) Swansea. 1 January 1898, vessel sold Anglo-American Agency Co, 33 Mount Stuart Square, Cardiff (Isaac Cracker becoming designated managing owner). 9 December 1903, steamship passage Dublin Newport ballast caught south southwesterly gale force 8 gale. ran onto Horse Rock, Ramsey Sound, heavy weather. steamship later refloated floodtide drifted northwards sink Horse Rock St Justinian lifeboat slipway. ships Swansea registry subsequently closed 6 January 1904. Sources include: Board Trade Wreck Return 1903, Appendix C, Table 1, p.132 (636) Goddard, T, 1983, Pembrokeshire Shipwrecks, p.70 Larn Larn Shipwreck Database 2002 Lloyds Register Casualty Returns, 1 October - 31 December 1903, p.7 (g) Lloyds Register British Foreign Shipping 1 July 1092 - 30 June 1903, number 1375 C Port Swansea Shipping Register 1876-97, West Glamorgan Archive Service D/D PRO/RBS/S 1/7, 5 1892 Receiver Wreck Droits Database 2007, RCIM6/2/5 UK Hydrographic Office Wrecks Obstructions Database. ? Crown Copyright database rights. Reproduced permission Controller Majestys Stationery Office UK Hydrographic Office (www.ukho.gov.uk) Maritime Officer, RCAHMW, July 2009. record enhanced 2020 funding Lloyds Register Foundation part project ‘Making Link: Lloyds Register National Monuments Record Wales’. Visit Lloyd’s Register Foundation Heritage Education Centre resources.\",\n",
       " 'Event Historical Information: POLTALLOCH steel four-masted bark 2,138 net tons measuring 86.7 x 12.8 x 7.4m. vessel four masts, rigged royal sails double top topgallant sails, built 1893 Belfast Workman, Clark & Co. Ltd. time loss, POLTALLOCH owned Eschen & Minor US voyage Caleta Buena Chile Leith via Queenstown cargo nitrate soda. 2 January 1916 vessel ran aground St. Patricks Causeway, 13 miles north west Barmouth. captain five crew twenty-five landed boat Harlech following morning. Liverpool Salvage Association cable stated 5 January POLTALLOCH heavy port list, cargo melting. Due heavy list, tugs attempt tow vessel, 10 January ship turned broadside became total loss. Five Germans among crew POLTALLOCH subsequently interned. cargo total loss ship amounted £90,000. Sources include: Barmouth County Advertiser, 13 January 1916, p.7 Lloyds Register Casualty Returns, 1 January - 31 March 1916, p.13 (g) SV Poltalloch, Wreck Site EU Yr Udgorn, 12 January 1916, p.3 Maritime Research Assistant, RCAHMW, September 2020. record created 2020 funding Lloyds Register Foundation part project ‘Making Link: Lloyds Register National Monuments Record Wales’. Visit Lloyd’s Register Foundation Heritage Education Centre resources.',\n",
       " 'Clwyd Theatr Cymru, previously called Theatr Cymru leading centre productions. opened 1976 Clwyd County Council, built designs R. W. Harvey, County Architect. offers four venues - Anthony Hopkins Theatre, Emlyn Williams Theatre, cinema multi-purpose function room. bookshop, art gallery, cafe bar also site. L. Osborne, 26th Jan 2011.',\n",
       " 'Ainon Baptist Chapel built 1911 rebuilt 1926. present chapel built Arts Crafts style half-hipped box plan round headed leaded windows. 1995 chapel listed Pentecostal Chapel 2009 Trealaw Christian Centre. RCAHMW, May 2012',\n",
       " 'Welsh Baptist cause Llynfaes began around 1831 chapel completed 1833. present Belan baptist Chapel basic hipped-box structure built Vernacular style flat-headed windows. chapel enlarged 1850 addition house rear 1900 present porch added. RCAHMW, February 2010',\n",
       " 'Bethania Baptist Chapel built 1890 rebuilt 1912 architect William Beddoe Rees. later chapel built Simple Gothic style gable-entry type two storeys, basement perpendicular windows tracery glazing. Bethania Grade 2 Listed converted use Community Centre. RCAHMW, June 2010',\n",
       " \"Neptune Engineering Works, Newport established early 20th century soon became Braithwaite & Co, Neptune Works subsidiary Braithwaite & Co Engineers Limited (U.K.), established 1913 undertaking fabrication Structural Steel Works. Braithwaite & Co Engineers Ltd became part Rowecord Group 1960s. 2018 Associated British Ports (ABP) acquired Neptune Works effort develop port facilities across country, Newport Dock biggest general trading port South Wales, handling predominantly timber, steel animal feeds. Updated Meilyr Powel, RCAHMW, October 2020. Sources: Braithwaite Co Engineers Ltd, West Bromwich, Ref No: BS-B, Sandwell Community History Archives Service. 'ABP acquires Neptune Works, Newport largest industrial property deal South Wales year', commercialnewsmedia.com, 10 September 2018\",\n",
       " \"wreck lies 50m shore covered kelp. riveted plates aft centre sections hull flattened level seabed. Boulders built around bow protection allowed retains height coherence. forward hold open samples manganese ore still found. centre wreck towards aft, boiler identifiable feature. propeller shaft 16m long. stern, sternpost, pair bits, propeller shafts thrust bearings, single 4-bladed iron propeller also identifiable. Event Historical Information: GANDA iron-hulled C W Dodgun & Co North Shields 1875. Technical configuration specifications given 474gt 309nt; 171ft length x 25ft 1in breadth x 14ft 6in depth; quarterdeck 85ft; screw propulsion powered single steam boiler linked compound engine producing 74hp; machinery W. & J. Almond, North Shields. vessel three changes name service life - ex-CATHCART, ex VILLE D'ANVERS ex CATHCART. time loss 5 August 1904, vessel owned Nolson Ghent registered port. GANDA command master C Schmidt loading manganese ore Rhiw. vessel broke moorings night rope became tangled around ships propeller, vessel option drift ashore. following day, ship refloated taken deeper moorings St Tudwels Island. vessel found leaking badly returned pier grounded eventually split open hull. Sources include: Board Trade Wreck Return 1904, Appendix C, Table 1, p.118 (608) Larn Larn Shipwreck Database 2002 Lloyds Register Casualty Returns, 1 July - 30 September 1904, p.8 (h) Lloyds Register British Foreign Shipping, 1 July 1903 - 30 June 1904, number 71 G Maritime Officer, RCAHMW, November 2009. record enhanced 2020 funding Lloyds Register Foundation part project ‘Making Link: Lloyds Register National Monuments Record Wales’. Visit Lloyd’s Register Foundation Heritage Education Centre resources.\",\n",
       " 'Event Historical Information: BLUSH ROSE 645 gross ton steamship built 1913 van Vliet Hardinxveld Richard Hughes, Liverpool. time loss 2 August 1945 vessel en route Dublin Preston ballast sank collision dense fog SS GLAUCUS 20 miles Holyhead. BLUSH ROSEs crew 15 rescued GLAUCUS taken Holyhead. Sources include: Lloyds Register Casualty Returns, 1 July - 30 September 1945, p.8 (f) SS Blush Rose, Wreck Site EU Maritime Research Assistant, RCAHMW, September 2020. record created 2020 funding Lloyds Register Foundation part project ‘Making Link: Lloyds Register National Monuments Record Wales’. Visit Lloyd’s Register Foundation Heritage Education Centre resources.',\n",
       " 'Glyn hir developed marginal land De Buisson family end eighteenth century- early nineteenth century. original concept, bit like Hafod, enjoy beauty natural features like river waterfalls. Today fine dovecote remains, canal, walled orchard kitchen garden, ice house woodland garden picturesque walks preserving bridge sites River Loughor. C.S.Briggs, 07.07.05']"
      ]
     },
     "execution_count": 209,
     "metadata": {},
     "output_type": "execute_result"
    }
   ],
   "source": [
    "data"
   ]
  },
  {
   "cell_type": "code",
   "execution_count": 211,
   "id": "5365d9f8",
   "metadata": {},
   "outputs": [],
   "source": [
    "from wordcloud import WordCloud, STOPWORDS\n",
    "import matplotlib.pyplot as plt"
   ]
  },
  {
   "cell_type": "code",
   "execution_count": 213,
   "id": "06cc3457",
   "metadata": {},
   "outputs": [
    {
     "data": {
      "image/png": "[encoded data removed]",
      "text/plain": [
       "<Figure size 576x576 with 1 Axes>"
      ]
     },
     "metadata": {
      "needs_background": "light"
     },
     "output_type": "display_data"
    }
   ],
   "source": [
    "sent = (' ').join(data)\n",
    "wordcloud = WordCloud(min_font_size = 10).generate(sent)\n",
    "  \n",
    "# plot the WordCloud image                      \n",
    "plt.figure(figsize = (8, 8), facecolor = None)\n",
    "plt.imshow(wordcloud)\n",
    "plt.axis(\"off\")\n",
    "plt.tight_layout(pad = 0)\n",
    "\n",
    "plt.show()"
   ]
  },
  {
   "cell_type": "code",
   "execution_count": 158,
   "id": "e19bb80f",
   "metadata": {},
   "outputs": [
    {
     "data": {
      "text/plain": [
       "\"Usk Castle is a substantial masonry castle dating from around 1138 and now generally ruinous.   It is first recorded in the possession of Richard de Clare in 1262, but probably held by the de Clare family from the conquest of South Wales. It subsequently passed through severeal hands in the fourteenth century and for a time was controlled by Edmund Mortimer, Earl of the Marches. After the death of his nephew Richard, the Duke of York, it passed to Edward VI, subsequently staying in the hands of the crown until the death of Henry VII. It then passed to the Earls of Pembroke.<br/>\\n<br/>\\nThe castle stands on a spur overlooking the Usk and consists of a rectangular area surrounded by curtain walls with towers at intervals and a large gatehouse on the east side. To the south-east is an outer bailey with walls on its south-east side, a corner tower on the south, and a gatehouse at the north end of the south-east wall.<br/>\\n<br/>\\nThe gatehouse is square in plan, a three storey structure with a doorway reached by stone steps on the east side and round headed windows on the south side. Internally there is a fireplace on the north-west side, and a number of doorways at different levels. <br/>\\nThe north tower is D-shaped with a large square-headed doorway with a square mullioned window above on the inside wall, and external doorways in the north and south walls, that to the south leading to a small platform. On the first floor is a fireplace. <br/>\\nThe banqueting hall is 14th century in date, being altered around 1500. It stands against the curtain wall on the north side. Along its south side is a buttressed wall with two windows and a doorway, with a third window above. The west wall has a further, large window and there is a fireplace in the north wall at first floor level. The Garrison Tower is circular and located midway along the south-west curtain wall. It stands to its full height with a crenallated parapet, and there are doors into it on either side of the curtain wall. At a level corresponding to the top of the curtain wall is a small passageway leading to a garderobe on the north side and a spiral staircase on the south side, and there are small slit windows on four levels.<br/>\\n<br/>\\nThe Round Tower in the south corner, stands to the same height as the curtain wall, with a doorway surviving on the north side.<br/>\\nCurtain walls survive to various heights. On the north-east side there is a large gateway with a pointed arch, to the west of which is a low grass bank.  Above this are three supports in the wall for the first floor of the building that was there. There is also a tapering fireplace in the middle. To the north of the gateway is another fireplace and grass covered low remains of rooms, and to the north of this is a small projection with a rounded niche. The north side has St Georges chapel, an area of garden made into an open air chapel. At the west end a small tower projects to the outside of the curtain wall, internally having a fireplace and the remains of a spiral staircase.  The south-west curtain wall retains its wall walk, and there are three openings, one of which has a pillar and appears more recent. The south-east wall has a small 'room' inside the wall at an upper level.<br/>\\nThe Dovecot tower is at the south end of the outer bailey wall; it is round in plan and stands to its full height. The internal north-west wall has niches for use as dove boxes.<br/>\\n(Source SAM description)<br/>\\n<br/>\\nS Fielding, RCAHMW, 20 June 2005<br/>\\n\""
      ]
     },
     "execution_count": 158,
     "metadata": {},
     "output_type": "execute_result"
    }
   ],
   "source": [
    "str(soup)"
   ]
  }
 ],
 "metadata": {
  "kernelspec": {
   "display_name": "Python 3.9.10 64-bit",
   "language": "python",
   "name": "python3"
  },
  "language_info": {
   "codemirror_mode": {
    "name": "ipython",
    "version": 3
   },
   "file_extension": ".py",
   "mimetype": "text/x-python",
   "name": "python",
   "nbconvert_exporter": "python",
   "pygments_lexer": "ipython3",
   "version": "3.9.10"
  },
  "vscode": {
   "interpreter": {
    "hash": "b0fa6594d8f4cbf19f97940f81e996739fb7646882a419484c72d19e05852a7e"
   }
  }
 },
 "nbformat": 4,
 "nbformat_minor": 5
}
