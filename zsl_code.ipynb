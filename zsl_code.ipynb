{
 "cells": [
  {
   "cell_type": "code",
   "execution_count": 1,
   "metadata": {},
   "outputs": [
    {
     "name": "stderr",
     "output_type": "stream",
     "text": [
      "/opt/homebrew/lib/python3.9/site-packages/tqdm/auto.py:22: TqdmWarning: IProgress not found. Please update jupyter and ipywidgets. See https://ipywidgets.readthedocs.io/en/stable/user_install.html\n",
      "  from .autonotebook import tqdm as notebook_tqdm\n"
     ]
    }
   ],
   "source": [
    "import pickle\n",
    "\n",
    "from transformers import AutoTokenizer, AutoModel\n",
    "from torch.nn import functional as F"
   ]
  },
  {
   "cell_type": "code",
   "execution_count": 2,
   "metadata": {},
   "outputs": [
    {
     "name": "stderr",
     "output_type": "stream",
     "text": [
      "Some weights of the model checkpoint at deepset/sentence_bert were not used when initializing BertModel: ['classifier.weight', 'classifier.bias']\n",
      "- This IS expected if you are initializing BertModel from the checkpoint of a model trained on another task or with another architecture (e.g. initializing a BertForSequenceClassification model from a BertForPreTraining model).\n",
      "- This IS NOT expected if you are initializing BertModel from the checkpoint of a model that you expect to be exactly identical (initializing a BertForSequenceClassification model from a BertForSequenceClassification model).\n"
     ]
    },
    {
     "name": "stdout",
     "output_type": "stream",
     "text": [
      "label: politics \t similarity: 0.21561527252197266\n",
      "label: business \t similarity: 0.0045240651816129684\n",
      "label: art & culture \t similarity: -0.027396898716688156\n"
     ]
    },
    {
     "name": "stderr",
     "output_type": "stream",
     "text": [
      "/opt/homebrew/lib/python3.9/site-packages/transformers/tokenization_utils_base.py:2301: FutureWarning: The `pad_to_max_length` argument is deprecated and will be removed in a future version, use `padding=True` or `padding='longest'` to pad to the longest sequence in the batch, or use `padding='max_length'` to pad to a max length. In this case, you can give a specific length with `max_length` (e.g. `max_length=45`) or leave max_length to None to pad to the maximal input size of the model (e.g. 512 for Bert).\n",
      "  warnings.warn(\n"
     ]
    }
   ],
   "source": [
    "# load the sentence-bert model from the HuggingFace model hub\n",
    "\n",
    "#https://github.com/UKPLab/sentence-transformers\n",
    "\n",
    "tokenizer = AutoTokenizer.from_pretrained('deepset/sentence_bert')\n",
    "model = AutoModel.from_pretrained('deepset/sentence_bert')\n",
    "\n",
    "sentence = 'Who are you voting for in 2020?'\n",
    "labels = ['business', 'art & culture', 'politics']\n",
    "\n",
    "# run inputs through model and mean-pool over the sequence\n",
    "# dimension to get sequence-level representations\n",
    "inputs = tokenizer.batch_encode_plus([sentence] + labels,\n",
    "                                     return_tensors='pt',\n",
    "                                     pad_to_max_length=True)\n",
    "input_ids = inputs['input_ids']\n",
    "attention_mask = inputs['attention_mask']\n",
    "output = model(input_ids, attention_mask=attention_mask)[0]\n",
    "sentence_rep = output[:1].mean(dim=1)\n",
    "label_reps = output[1:].mean(dim=1)\n",
    "\n",
    "# now find the labels with the highest cosine similarities to\n",
    "# the sentence\n",
    "similarities = F.cosine_similarity(sentence_rep, label_reps)\n",
    "closest = similarities.argsort(descending=True)\n",
    "for ind in closest:\n",
    "    print(f'label: {labels[ind]} \\t similarity: {similarities[ind]}')"
   ]
  },
  {
   "cell_type": "code",
   "execution_count": null,
   "metadata": {},
   "outputs": [],
   "source": [
    "data = []\n",
    "with open('/Users/shrikritisingh/Downloads/15rows.pickle', 'rb') as f:\n",
    "    data = pickle.load(f)"
   ]
  },
  {
   "cell_type": "code",
   "execution_count": 18,
   "metadata": {},
   "outputs": [
    {
     "name": "stdout",
     "output_type": "stream",
     "text": [
      "label: ship \t similarity: 0.1775013506412506\n",
      "label: art & culture \t similarity: 0.10545937716960907\n",
      "label: house \t similarity: 0.04309738799929619\n"
     ]
    }
   ],
   "source": [
    "sentence = data[5]\n",
    "labels = ['house', 'art & culture', 'ship']\n",
    "\n",
    "# run inputs through model and mean-pool over the sequence\n",
    "# dimension to get sequence-level representations\n",
    "inputs = tokenizer.batch_encode_plus([sentence] + labels,\n",
    "                                     return_tensors='pt',\n",
    "                                     pad_to_max_length=True)\n",
    "input_ids = inputs['input_ids']\n",
    "attention_mask = inputs['attention_mask']\n",
    "output = model(input_ids, attention_mask=attention_mask)[0]\n",
    "sentence_rep = output[:1].mean(dim=1)\n",
    "label_reps = output[1:].mean(dim=1)\n",
    "\n",
    "# now find the labels with the highest cosine similarities to\n",
    "# the sentence\n",
    "similarities = F.cosine_similarity(sentence_rep, label_reps)\n",
    "closest = similarities.argsort(descending=True)\n",
    "for ind in closest:\n",
    "    print(f'label: {labels[ind]} \\t similarity: {similarities[ind]}')"
   ]
  },
  {
   "cell_type": "code",
   "execution_count": 19,
   "metadata": {},
   "outputs": [
    {
     "data": {
      "text/plain": [
       "[\"The Caerphilly Palace opened in 1904 initially as a skating rink. The building was sold in 1910 to George H. Pitt who converted the Palace into Pitt's Picture Palace with seating for 1,500 people. The conversion work was carried out by Mr\\xa0W. Branch of Abersychan with electric installations by Messr Crossley of Cardiff.\\\\n\\\\nThe Palace used to run variety turns in between films and proved successful. The business changed ownership several times over the next few years and the showing of films and plays ceased around the time talkies emerged with\\xa0the building then becoming\\xa0unused for many years. A local company, Ryans, used the building to store vehicles for a while before it being demolished in 1976.\\\\n\\\\n\\xa0\\\\n\\\\nMeilyr Powel, RCAHMW, November 2020\\\\n\\\\nSource:\\\\n\\\\n'Entertaining South Wales - C', overthefootlights.co.uk, pp.3-4\\\\n\",\n",
       " \"From 'Entertaining South Wales':\\\\n\\\\n'The independent Plaza Cinema opened in North Road on March 12th 1928 with 1,500 seats. The opening film was Norma Talmadge in the (silent) version of “Camille”. The film was accompanied by a large in-house orchestra - a standard feature of many larger cinemas, though this was something that would mostly disappear due to manpower shortages during the Great War. Over the course of its more than fifty-year existence it was taken over by the Cardiff Cinema Circuit and then the Jackson Withers Circuit, and ultimately bought by the Rank Organisation. The cinema closed on October 17th 1981 with a horror double-bill of “Alien” and “The Fog”. The building remained unused for several years before it was finally demolished and replaced with Meridian Court, a sheltered housing development.'\\\\n\\\\n\\xa0\\\\n\\\\nMeilyr Powel, RCAHMW, November 2020\\\\n\\\\nSource:\\\\n\\\\n'Entertaining South Wales - C', overthefootlights.co.uk, p.32\\\\n\",\n",
       " \"Usk Castle is a substantial masonry castle dating from around 1138 and now generally ruinous.   It is first recorded in the possession of Richard de Clare in 1262, but probably held by the de Clare family from the conquest of South Wales. It subsequently passed through severeal hands in the fourteenth century and for a time was controlled by Edmund Mortimer, Earl of the Marches. After the death of his nephew Richard, the Duke of York, it passed to Edward VI, subsequently staying in the hands of the crown until the death of Henry VII. It then passed to the Earls of Pembroke.\\n\\nThe castle stands on a spur overlooking the Usk and consists of a rectangular area surrounded by curtain walls with towers at intervals and a large gatehouse on the east side. To the south-east is an outer bailey with walls on its south-east side, a corner tower on the south, and a gatehouse at the north end of the south-east wall.\\n\\nThe gatehouse is square in plan, a three storey structure with a doorway reached by stone steps on the east side and round headed windows on the south side. Internally there is a fireplace on the north-west side, and a number of doorways at different levels. \\nThe north tower is D-shaped with a large square-headed doorway with a square mullioned window above on the inside wall, and external doorways in the north and south walls, that to the south leading to a small platform. On the first floor is a fireplace. \\nThe banqueting hall is 14th century in date, being altered around 1500. It stands against the curtain wall on the north side. Along its south side is a buttressed wall with two windows and a doorway, with a third window above. The west wall has a further, large window and there is a fireplace in the north wall at first floor level. The Garrison Tower is circular and located midway along the south-west curtain wall. It stands to its full height with a crenallated parapet, and there are doors into it on either side of the curtain wall. At a level corresponding to the top of the curtain wall is a small passageway leading to a garderobe on the north side and a spiral staircase on the south side, and there are small slit windows on four levels.\\n\\nThe Round Tower in the south corner, stands to the same height as the curtain wall, with a doorway surviving on the north side.\\nCurtain walls survive to various heights. On the north-east side there is a large gateway with a pointed arch, to the west of which is a low grass bank.  Above this are three supports in the wall for the first floor of the building that was there. There is also a tapering fireplace in the middle. To the north of the gateway is another fireplace and grass covered low remains of rooms, and to the north of this is a small projection with a rounded niche. The north side has St Georges chapel, an area of garden made into an open air chapel. At the west end a small tower projects to the outside of the curtain wall, internally having a fireplace and the remains of a spiral staircase.  The south-west curtain wall retains its wall walk, and there are three openings, one of which has a pillar and appears more recent. The south-east wall has a small 'room' inside the wall at an upper level.\\nThe Dovecot tower is at the south end of the outer bailey wall; it is round in plan and stands to its full height. The internal north-west wall has niches for use as dove boxes.\\n(Source SAM description)\\n\\nS Fielding, RCAHMW, 20 June 2005\\n\",\n",
       " \"Gwndwn Baptist Chapel was built in 1910, in an unclassified architecural style, with a gable entry plan and flat-headed windows. This chapel was greatly altered in a late twentieth century conversion for residential use.\\n\\nRCAHMW, May 2011. Built 1910. Unclassified architecural style, has been greatly altered. Status (1998): in other use ; residential  Converted to a residence; part or whole rebuilding. (OJ 23/08/96).'\",\n",
       " \"The church of St Meilig retains some 13th-14th century fabric in the tower, but was largely rebuilt by W.J. and A.H. Worthington of London in 1853-55 at the cost of £943 using mixed local stones, with Bath stone dressings.\\nThe nave has a south porch, the chancel has a vestry on the north side, and a west tower. The porch is in early Decorated style.\\xa0\\nThe tower is of 3 stages, the top stage rebuilt in the 19th century. Two phases of early slit windows, all now blocked, and a crenellated parapet.\\xa0\\nThe nave of 4 bays has an impressive open roof on orch-braced collar beam trusses springing from wall corbels. \\xa0The chancel has an open trussed rafter roof with scissor braces and a deep oak cornice pierced with trefoils. The floor is paved with tiles.\\nThe limestone pulpit is octagonal, approached by 6 steps with carved oak handrail on twisted iron supports. The 19th century font is an octagonal bowl carved with ballflowers, fleurons and chequer panels, all raised on four clustered columns. The earlier, 13th century font is a simple round bowl with a horizontal flat central cordon, now bound with iron, on a tapered base. The organ of 1880, was restored by Henry James, London. At the west end is an important 11th century cross slab said originally to have stood at Croes feilig and set up in the churchyard in the 12th century (see NPRN 96531).\\nThere is an east window in memorial to Henry Beavan, the family who brought the church restoration to fruition. On the south side, a window with Christ with children, dedicated to William Elmslie, † c.1853 in China; Christ walking on waters, commemorating Captain R.Collinson's survival of the arctic expedition of the ship Enterprise. On the north side a window in memorial to Octavia Ramsey of Maesllwch Castle, †1850.\\nThere are various wall monuments, including many from the previous church, reset after the rebuilding. In chancel, limestone Gothic aedicule, c.1870 to Hugh Beavan of Brynrhydd House, †1837; white marble sarcophagus relief on black ground, by I.E.Thomas of London, to John Pugh of Porthgoley, †1824; draped casket over white marble tablet set against veined marble, also by I.E.Thomas, to Ann Pugh of Porthgoley, †1846; Gothic surround to marble tablet to John Pugh of Gare (Gaer), †1788;\\xa0 white marble on grey, to Ann Gunter and William of Abergavenny †1805 and 1808 (descendants of Sir Peter Gunter of Tregunter). There is also a Great War tablet. Against the west wall, a canvas Royal Arms of George III.\\nThe dedication to Meilig indicates an early origin. Meilig, abbott and confessor, was the son of Caw of Pictland and brother to the monk Gildas. He was born on Clydeside c. 650 and is mentioned in the C10 Culhwch and Olwen story, and in the Book of Llan Daf, [Liber Llandavensis], compiled c.1120-40.\\nSource: Cadw Listing description.\\nRCAHMW, 2021.\\n\",\n",
       " \"This record comprises a documentary reference to a shipping casualty which has been assigned to the maritime named location OFF THE SMALLS pending more information which may allow a more precise location for the loss to be assigned.\\\\n\\\\n\\xa0\\\\n\\\\nEvent and Historical Information:\\\\n\\\\nThe EMILY ELIZA was a 144 net ton wooden brigantine. At time of loss on 7 September 1898, the vessel was on voyage from Portsmouth to Manchester with a cargo of whitening when she struck a rock near the Smalls and became wrecked. The crew were picked up by the steamship FOREST, from Almeria.\\\\n\\\\n\\xa0\\\\n\\\\nSources include:\\\\n\\\\nLloyd's Register Casualty Returns, 1 July - 30 September 1898, p.10 (h)\\\\nSouth Wales Daily News, 10 September 1898, p.8\\\\n\\\\n\\xa0\\\\n\\\\nMaritime Research Assistant, RCAHMW, September 2020.\\\\n\\\\nThis record was created in 2020 with\\xa0funding from Lloyd's Register Foundation as part of the project ‘Making the Link: Lloyd's Register and the National Monuments Record of Wales’. Visit Lloyd’s Register Foundation Heritage and Education Centre for more resources.\\\\n\",\n",
       " \"The wreck is reported to lie upside down and broken amidships. The most prominent feature is the boiler which stands 3m proud of the seabed. A brass plate and two brass portholes have been recovered and reported to the Receiver of Wreck.\\\\n\\\\nEvent and Historical Information:\\\\nThe COUNT D'ASPREMOUNT was an iron hulled steamship built by Coulson, Cooke & Co, Newcastle Upon Tyne, in 1874. Technical and configuration specifications are given as 452gt, 274nt; 162ft 5in long x 23ft 2in breadth x 14ft 1in depth; 1 deck, 4 bulkheads, quarterdeck 87ft; screw propulsion powered by a single steam boiler linked to a compound engine producing 65hp and made by Christie, Gutch & Co, Newcastle. The ship was originally registered at Newcastle (39 in 1874). It had been sold to foreigners in 1875 and renamed OTHELLO. On 16 April 1892, the ship's registry was transferred with an ownership change (Thomas Harries of Swansea, Shipbroker) to Swansea. On 1 January 1898, the vessel was sold to the Anglo-American Agency Co, 33 Mount Stuart Square, Cardiff (Isaac Cracker becoming the designated managing owner). On 9 December 1903, the steamship was on passage from Dublin to Newport in ballast when it was caught in a south southwesterly gale force 8 gale. It ran onto Horse Rock, Ramsey Sound, in the heavy weather. The steamship later refloated on the floodtide and drifted northwards to sink between Horse Rock and the St Justinian lifeboat slipway. The ship's Swansea registry was subsequently closed on 6 January 1904.\\\\n\\\\n\\xa0\\\\n\\\\nSources include:\\\\n\\\\nBoard of Trade Wreck Return 1903, Appendix C, Table 1, p.132 (636)\\\\nGoddard, T, 1983, Pembrokeshire Shipwrecks, p.70\\\\nLarn and Larn Shipwreck Database 2002\\\\nLloyd's Register Casualty Returns, 1 October - 31 December 1903, p.7 (g)\\\\nLloyd's Register of British and Foreign Shipping 1 July 1092 - 30 June 1903, number 1375 in C\\\\nPort of Swansea Shipping Register 1876-97, West Glamorgan Archive Service D/D PRO/RBS/S 1/7, 5 in 1892\\\\nReceiver of Wreck Droits Database 2007, RCIM6/2/5\\\\nUK Hydrographic Office Wrecks and Obstructions Database. ? Crown Copyright and database rights. Reproduced by permission of the Controller of Her Majesty's Stationery Office and the UK Hydrographic Office (www.ukho.gov.uk)\\\\n\\\\n\\\\n\\\\nMaritime Officer, RCAHMW, July 2009.\\\\n\\\\nThis record was enhanced in 2020 with\\xa0funding from Lloyd's Register Foundation as part of the project ‘Making the Link: Lloyd's Register and the National Monuments Record of Wales’. Visit Lloyd’s Register Foundation Heritage and Education Centre for more resources.\\\\n\",\n",
       " \"Event and Historical Information:\\\\n\\\\nThe POLTALLOCH was a steel four-masted bark of 2,138 net tons and measuring 86.7 x 12.8 x 7.4m. The vessel had four masts, rigged with royal sails above double top and topgallant sails, and was built in 1893 at Belfast by Workman, Clark & Co. Ltd. At time of loss, the POLTALLOCH was owned by Eschen & Minor of the US and was on voyage from Caleta Buena in Chile to Leith via Queenstown with a cargo of nitrate soda. On 2 January 1916 the vessel ran aground on St. Patrick's Causeway, 13 miles north west of Barmouth. The captain and five of the crew of twenty-five landed in their boat at Harlech the following morning. A Liverpool Salvage Association cable stated on 5 January that the POLTALLOCH had a very heavy port list, and the cargo was melting. Due to such a heavy list, tugs did not attempt to tow the vessel, and by 10 January the ship had turned over on her broadside and became a total loss. Five Germans were among the crew of the POLTALLOCH who were subsequently interned. The cargo and total loss of the ship amounted to over £90,000.\\\\n\\\\n\\xa0\\\\n\\\\nSources include:\\\\n\\\\nThe Barmouth and County Advertiser, 13 January 1916, p.7\\\\nLloyd's Register Casualty Returns, 1 January - 31 March 1916, p.13 (g)\\\\nSV Poltalloch, Wreck Site EU\\\\nYr Udgorn, 12 January 1916, p.3\\\\n\\\\n\\xa0\\\\n\\\\nMaritime Research Assistant, RCAHMW, September 2020.\\\\n\\\\nThis record was created in 2020 with\\xa0funding from Lloyd's Register Foundation as part of the project ‘Making the Link: Lloyd's Register and the National Monuments Record of Wales’. Visit Lloyd’s Register Foundation Heritage and Education Centre for more resources.\\\\n\",\n",
       " 'Clwyd Theatr Cymru, previously called Theatr Cymru is a leading centre for productions. It was opened in 1976 by Clwyd County Council, built to the designs of R. W. Harvey, County Architect. It offers four venues - The Anthony Hopkins Theatre, The Emlyn Williams Theatre, a cinema and a multi-purpose function room. A bookshop, art gallery, cafe and bar are also on site.\\nL. Osborne, 26th Jan 2011.\\n',\n",
       " 'Ainon Baptist Chapel was built in 1911 and rebuilt in 1926. The present chapel is built in the Arts and Crafts style with a half-hipped box plan and round headed leaded windows. In 1995 this chapel was listed as a Pentecostal Chapel and in 2009 as Trealaw Christian Centre.\\n\\nRCAHMW, May 2012',\n",
       " 'The Welsh Baptist cause in Llynfaes began around 1831 and the chapel was completed in 1833. The present Belan baptist Chapel is a basic hipped-box structure built in the Vernacular style with flat-headed windows. The chapel was enlarged in 1850 by the addition of a house to the rear and again in 1900 when the present porch was added. \\n\\nRCAHMW, February 2010',\n",
       " 'Bethania Baptist Chapel was built in 1890 and rebuilt in 1912 by architect William Beddoe Rees. The later chapel is built in the Simple Gothic style of the gable-entry type with two storeys, a basement and perpendicular windows with tracery glazing.  Bethania is now Grade 2 Listed  but has been converted for use as a Community Centre. \\n\\nRCAHMW, June 2010',\n",
       " \"The Neptune Engineering Works, Newport was established in the early 20th century and soon after became Braithwaite & Co, Neptune Works as a subsidiary of Braithwaite & Co Engineers Limited (U.K.), which had been established in 1913 for undertaking fabrication of Structural Steel Works. Braithwaite & Co Engineers Ltd became part of the Rowecord Group in the 1960's. In 2018 the Associated British Ports (ABP) acquired the Neptune Works in an effort to develop its port facilities across the country, with\\xa0Newport Dock being the biggest general trading port in South Wales, handling predominantly timber, steel and animal feeds.\\\\n\\xa0\\\\n\\\\nUpdated by Meilyr Powel, RCAHMW, October 2020.\\\\n\\\\nSources:\\\\n\\\\nBraithwaite and Co Engineers Ltd, West Bromwich, Ref No: BS-B, Sandwell Community History and Archives Service.\\\\n'ABP acquires Neptune Works, Newport in largest industrial property deal in South Wales this year', commercialnewsmedia.com, 10 September 2018\\\\n\\\\n\\xa0\\\\n\",\n",
       " \"The wreck lies 50m for shore and is covered in kelp. The riveted plates of the aft and centre sections of the hull have been flattened to the level of the seabed. Boulders have built up around the bow and this protection has allowed it to retains some height and coherence. The forward hold is open and samples of manganese ore can still be found. In the centre of the wreck and towards the aft, the boiler is the most identifiable feature. The propeller shaft is some 16m long. At the stern, the sternpost, a pair of bits, the propeller shaft's thrust bearings, and a single 4-bladed iron propeller are also identifiable.\\\\n\\\\nEvent and Historical Information:\\\\nThe GANDA was a iron-hulled C W Dodgun & Co of North Shields in 1875. Technical and configuration specifications are given as 474gt 309nt; 171ft length x 25ft 1in breadth x 14ft 6in depth; quarterdeck 85ft; screw propulsion powered a single steam boiler linked to a compound engine producing 74hp; machinery by W. & J. Almond, North Shields. The vessel had three changes of name during its service life - ex-CATHCART, ex VILLE D'ANVERS and ex CATHCART. At time of loss on 5 August 1904, the vessel was owned by T Nolson of Ghent and registered at that port. The GANDA was under the command of master C Schmidt and had been loading manganese ore at Rhiw. The vessel broke from its moorings at night and the rope became tangled around the ship's propeller, so that the vessel had no option but to drift ashore. On the following day, the ship was refloated and taken to deeper moorings off St Tudwel's Island. The vessel was then found to be leaking badly and so it was returned to the pier where it grounded and eventually split open its hull.\\\\n\\\\n\\xa0\\\\n\\\\nSources include:\\\\n\\\\nBoard of Trade Wreck Return 1904, Appendix C, Table 1, p.118 (608)\\\\nLarn and Larn Shipwreck Database 2002\\\\nLloyd's Register Casualty Returns, 1 July - 30 September 1904, p.8 (h)\\\\nLloyd's Register of British and Foreign Shipping, 1 July 1903 - 30 June 1904, number 71 in G\\\\n\\\\n\\\\n\\\\nMaritime Officer, RCAHMW, November 2009.\\\\n\\\\nThis record was enhanced in 2020 with\\xa0funding from Lloyd's Register Foundation as part of the project ‘Making the Link: Lloyd's Register and the National Monuments Record of Wales’. Visit Lloyd’s Register Foundation Heritage and Education Centre for more resources.\\\\n\",\n",
       " \"Event and Historical Information:\\\\n\\\\nThe BLUSH ROSE was a 645 gross ton steamship built in 1913 by van Vliet of Hardinxveld for Richard Hughes, Liverpool. At time of loss on 2 August 1945 the vessel was en route from Dublin to Preston in ballast and sank after a collision in dense fog with SS GLAUCUS 20 miles off Holyhead. The BLUSH ROSE's crew of 15 were all rescued by the GLAUCUS and taken to Holyhead.\\\\n\\\\n\\xa0\\\\n\\\\nSources include:\\\\n\\\\nLloyd's Register Casualty Returns, 1 July - 30 September 1945, p.8 (f)\\\\nSS Blush Rose, Wreck Site EU\\\\n\\\\n\\xa0\\\\n\\\\nMaritime Research Assistant, RCAHMW, September 2020.\\\\n\\\\nThis record was created in 2020 with\\xa0funding from Lloyd's Register Foundation as part of the project ‘Making the Link: Lloyd's Register and the National Monuments Record of Wales’. Visit Lloyd’s Register Foundation Heritage and Education Centre for more resources.\\\\n\",\n",
       " 'Glyn hir was developed out of marginal land by the De Buisson family at the end of the eighteenth century- early nineteenth century. The original concept, a bit like Hafod, was to enjoy the beauty of natural features like the river and waterfalls. Today a fine dovecote remains, with a canal, walled orchard and kitchen garden, ice house and woodland garden with picturesque walks preserving some bridge sites over the River Loughor. C.S.Briggs, 07.07.05\\n']"
      ]
     },
     "execution_count": 19,
     "metadata": {},
     "output_type": "execute_result"
    }
   ],
   "source": [
    "data"
   ]
  },
  {
   "cell_type": "code",
   "execution_count": null,
   "metadata": {},
   "outputs": [],
   "source": []
  }
 ],
 "metadata": {
  "interpreter": {
   "hash": "b0fa6594d8f4cbf19f97940f81e996739fb7646882a419484c72d19e05852a7e"
  },
  "kernelspec": {
   "display_name": "Python 3.9.10 64-bit",
   "name": "python3"
  },
  "language_info": {
   "codemirror_mode": {
    "name": "ipython",
    "version": 3
   },
   "file_extension": ".py",
   "mimetype": "text/x-python",
   "name": "python",
   "nbconvert_exporter": "python",
   "pygments_lexer": "ipython3",
   "version": "3.9.10"
  },
  "orig_nbformat": 4
 },
 "nbformat": 4,
 "nbformat_minor": 2
}
