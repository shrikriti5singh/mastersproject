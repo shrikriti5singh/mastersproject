{
 "cells": [
  {
   "cell_type": "code",
   "execution_count": 2,
   "metadata": {},
   "outputs": [
    {
     "name": "stderr",
     "output_type": "stream",
     "text": [
      "/opt/homebrew/lib/python3.9/site-packages/tqdm/auto.py:22: TqdmWarning: IProgress not found. Please update jupyter and ipywidgets. See https://ipywidgets.readthedocs.io/en/stable/user_install.html\n",
      "  from .autonotebook import tqdm as notebook_tqdm\n"
     ]
    }
   ],
   "source": [
    "import pickle\n",
    "\n",
    "from transformers import AutoTokenizer, AutoModel\n",
    "from torch.nn import functional as F"
   ]
  },
  {
   "cell_type": "code",
   "execution_count": 3,
   "metadata": {},
   "outputs": [
    {
     "name": "stderr",
     "output_type": "stream",
     "text": [
      "Some weights of the model checkpoint at deepset/sentence_bert were not used when initializing BertModel: ['classifier.weight', 'classifier.bias']\n",
      "- This IS expected if you are initializing BertModel from the checkpoint of a model trained on another task or with another architecture (e.g. initializing a BertForSequenceClassification model from a BertForPreTraining model).\n",
      "- This IS NOT expected if you are initializing BertModel from the checkpoint of a model that you expect to be exactly identical (initializing a BertForSequenceClassification model from a BertForSequenceClassification model).\n"
     ]
    },
    {
     "name": "stdout",
     "output_type": "stream",
     "text": [
      "label: politics \t similarity: 0.21561527252197266\n",
      "label: business \t similarity: 0.0045240651816129684\n",
      "label: art & culture \t similarity: -0.027396898716688156\n"
     ]
    },
    {
     "name": "stderr",
     "output_type": "stream",
     "text": [
      "/opt/homebrew/lib/python3.9/site-packages/transformers/tokenization_utils_base.py:2301: FutureWarning: The `pad_to_max_length` argument is deprecated and will be removed in a future version, use `padding=True` or `padding='longest'` to pad to the longest sequence in the batch, or use `padding='max_length'` to pad to a max length. In this case, you can give a specific length with `max_length` (e.g. `max_length=45`) or leave max_length to None to pad to the maximal input size of the model (e.g. 512 for Bert).\n",
      "  warnings.warn(\n"
     ]
    }
   ],
   "source": [
    "# load the sentence-bert model from the HuggingFace model hub\n",
    "\n",
    "#https://github.com/UKPLab/sentence-transformers\n",
    "\n",
    "tokenizer = AutoTokenizer.from_pretrained('deepset/sentence_bert')\n",
    "model = AutoModel.from_pretrained('deepset/sentence_bert')\n",
    "\n",
    "sentence = 'Who are you voting for in 2020?'\n",
    "labels = ['business', 'art & culture', 'politics']\n",
    "\n",
    "# run inputs through model and mean-pool over the sequence\n",
    "# dimension to get sequence-level representations\n",
    "inputs = tokenizer.batch_encode_plus([sentence] + labels,\n",
    "                                     return_tensors='pt',\n",
    "                                     pad_to_max_length=True)\n",
    "input_ids = inputs['input_ids']\n",
    "attention_mask = inputs['attention_mask']\n",
    "output = model(input_ids, attention_mask=attention_mask)[0]\n",
    "sentence_rep = output[:1].mean(dim=1)\n",
    "label_reps = output[1:].mean(dim=1)\n",
    "\n",
    "# now find the labels with the highest cosine similarities to\n",
    "# the sentence\n",
    "similarities = F.cosine_similarity(sentence_rep, label_reps)\n",
    "closest = similarities.argsort(descending=True)\n",
    "for ind in closest:\n",
    "    print(f'label: {labels[ind]} \\t similarity: {similarities[ind]}')"
   ]
  },
  {
   "cell_type": "code",
   "execution_count": 4,
   "metadata": {},
   "outputs": [],
   "source": [
    "data = []\n",
    "# with open('/Users/shrikritisingh/Downloads/15rows.pickle', 'rb') as f:\n",
    "with open('thesaurus.pickle', 'rb') as f:\n",
    "    thesaurus = pickle.load(f)"
   ]
  },
  {
   "cell_type": "code",
   "execution_count": 5,
   "metadata": {},
   "outputs": [],
   "source": [
    "with open('preprocessedData.pickle', 'rb') as f:\n",
    "    data = pickle.load(f)"
   ]
  },
  {
   "cell_type": "code",
   "execution_count": 26,
   "metadata": {},
   "outputs": [
    {
     "data": {
      "text/plain": [
       "'Event and Historical Information:The POLTALLOCH was a steel four-masted bark of 2,138 net tons and measuring 86.7 x 12.8 x 7.4m. The vessel had four masts, rigged with royal sails above double top and topgallant sails, and was built in 1893 at Belfast by Workman, Clark &amp Co. Ltd. At time of loss, the POLTALLOCH was owned by Eschen &amp Minor of the US and was on voyage from Caleta Buena in Chile to Leith via Queenstown with a cargo of nitrate soda. On 2 January 1916 the vessel ran aground on St. Patricks Causeway, 13 miles north west of Barmouth. The captain and five of the crew of twenty-five landed in their boat at Harlech the following morning. A Liverpool Salvage Association cable stated on 5 January that the POLTALLOCH had a very heavy port list, and the cargo was melting. Due to such a heavy list, tugs did not attempt to tow the vessel, and by 10 January the ship had turned over on her broadside and became a total loss. Five Germans were among the crew of the POLTALLOCH who were subsequently interned. The cargo and total loss of the ship amounted to over &pound90,000.Sources include:The Barmouth and County Advertiser, 13 January 1916, p.7<br />Lloyds Register Casualty Returns, 1 January - 31 March 1916, p.13 (g)<br />SV Poltalloch, Wreck Site EU<br />Yr Udgorn, 12 January 1916, p.3Maritime Research Assistant, RCAHMW, September 2020.This record was created in 2020 withfunding from Lloyds Register Foundation as part of the project &lsquoMaking the Link: Lloyds Register and the National Monuments Record of Wales&rsquo. Visit Lloyd&rsquos Register Foundation Heritage and Education Centre for more resources.'"
      ]
     },
     "execution_count": 26,
     "metadata": {},
     "output_type": "execute_result"
    }
   ],
   "source": [
    "data.text[7]"
   ]
  },
  {
   "cell_type": "code",
   "execution_count": 6,
   "metadata": {},
   "outputs": [
    {
     "name": "stdout",
     "output_type": "stream",
     "text": [
      "label: harbour service craft \t similarity: 0.22816035151481628\n",
      "label: trawler \t similarity: 0.21835929155349731\n",
      "label: barge \t similarity: 0.2153700292110443\n",
      "label: schooner \t similarity: 0.21411468088626862\n",
      "label: customs boat \t similarity: 0.195928692817688\n",
      "label: ship of the line \t similarity: 0.19422584772109985\n",
      "label: tanker \t similarity: 0.185998797416687\n",
      "label: rescue vessel \t similarity: 0.18187850713729858\n",
      "label: dredger \t similarity: 0.17204241454601288\n",
      "label: submarine \t similarity: 0.16963952779769897\n",
      "label: sailing vessel by rig \t similarity: 0.1694379597902298\n",
      "label: steam tug \t similarity: 0.16848576068878174\n",
      "label: tug \t similarity: 0.16735532879829407\n",
      "label: sailing vessel by form type \t similarity: 0.1625986397266388\n",
      "label: barque \t similarity: 0.16130493581295013\n",
      "label: ketch \t similarity: 0.15837404131889343\n",
      "label: sloop \t similarity: 0.15647214651107788\n",
      "label: factory ship \t similarity: 0.15111039578914642\n",
      "label: motor trawler \t similarity: 0.14955158531665802\n",
      "label: fishing vessel \t similarity: 0.14849713444709778\n",
      "label: service vessel \t similarity: 0.146895632147789\n",
      "label: yacht \t similarity: 0.13564670085906982\n",
      "label: naval support vessel \t similarity: 0.13289698958396912\n",
      "label: trinity house vessel \t similarity: 0.1321089118719101\n",
      "label: warship \t similarity: 0.12327991425991058\n",
      "label: drifter \t similarity: 0.11832185089588165\n",
      "label: steam drifter \t similarity: 0.10760105401277542\n",
      "label: patrol vessel \t similarity: 0.09900717437267303\n",
      "label: brig \t similarity: 0.09566187113523483\n",
      "label: square rigged vessel \t similarity: 0.08883919566869736\n",
      "label: cargo vessel \t similarity: 0.0828402191400528\n",
      "label: recreational vessel \t similarity: 0.08077450096607208\n",
      "label: maritime craft \t similarity: 0.07882767915725708\n",
      "label: transport vessel \t similarity: 0.07733995467424393\n",
      "label: smack \t similarity: 0.07113412767648697\n",
      "label: yawl \t similarity: 0.06530806422233582\n",
      "label: passenger vessel \t similarity: 0.0650172159075737\n",
      "label: escort vessel \t similarity: 0.06109078228473663\n",
      "label: motor vessel \t similarity: 0.05347152054309845\n",
      "label: wherry \t similarity: 0.03747934848070145\n",
      "label: motor drifter \t similarity: 0.022098826244473457\n",
      "label: high speed launch \t similarity: 0.018707115203142166\n",
      "label: lighter \t similarity: 0.009730091318488121\n",
      "label: lugger \t similarity: 0.007606102153658867\n",
      "label: landing craft \t similarity: 0.002875581616535783\n",
      "label: craft \t similarity: -0.001600027084350586\n",
      "label: pinnace \t similarity: -0.0026339739561080933\n",
      "label: launch \t similarity: -0.019993558526039124\n",
      "label: east indiaman \t similarity: -0.04931236431002617\n"
     ]
    }
   ],
   "source": [
    "sentence = data.text[7]\n",
    "labels = ['fishing vessel', 'harbour service craft', 'high speed launch',\n",
    "       'ketch', 'landing craft', 'launch', 'lighter', 'lugger',\n",
    "       'maritime craft', 'motor drifter', 'motor trawler', 'motor vessel',\n",
    "       'naval support vessel', 'recreational vessel', 'barge', 'barque',\n",
    "       'brig', 'cargo vessel', 'craft', 'customs boat', 'dredger',\n",
    "       'drifter', 'east indiaman', 'escort vessel',\n",
    "       'sailing vessel by form type', 'passenger vessel', 'patrol vessel',\n",
    "       'pinnace', 'yacht', 'yawl', 'sailing vessel by rig', 'schooner',\n",
    "       'service vessel', 'ship of the line', 'sloop', 'smack',\n",
    "       'square rigged vessel', 'steam drifter', 'steam tug', 'submarine',\n",
    "       'tanker', 'transport vessel', 'trawler', 'trinity house vessel',\n",
    "       'tug', 'warship', 'wherry', 'factory ship', 'rescue vessel']\n",
    "\n",
    "# run inputs through model and mean-pool over the sequence\n",
    "# dimension to get sequence-level representations\n",
    "inputs = tokenizer.batch_encode_plus([sentence] + labels,\n",
    "                                     return_tensors='pt',\n",
    "                                     pad_to_max_length=True)\n",
    "input_ids = inputs['input_ids']\n",
    "attention_mask = inputs['attention_mask']\n",
    "output = model(input_ids, attention_mask=attention_mask)[0]\n",
    "sentence_rep = output[:1].mean(dim=1)\n",
    "label_reps = output[1:].mean(dim=1)\n",
    "\n",
    "# now find the labels with the highest cosine similarities to\n",
    "# the sentence\n",
    "similarities = F.cosine_similarity(sentence_rep, label_reps)\n",
    "closest = similarities.argsort(descending=True)\n",
    "for ind in closest:\n",
    "    print(f'label: {labels[ind]} \\t similarity: {similarities[ind]}')"
   ]
  },
  {
   "cell_type": "code",
   "execution_count": 19,
   "metadata": {},
   "outputs": [],
   "source": [
    "data['res'] = data['text'].isin(labels)"
   ]
  },
  {
   "cell_type": "code",
   "execution_count": 21,
   "metadata": {},
   "outputs": [
    {
     "data": {
      "text/html": [
       "<div>\n",
       "<style scoped>\n",
       "    .dataframe tbody tr th:only-of-type {\n",
       "        vertical-align: middle;\n",
       "    }\n",
       "\n",
       "    .dataframe tbody tr th {\n",
       "        vertical-align: top;\n",
       "    }\n",
       "\n",
       "    .dataframe thead th {\n",
       "        text-align: right;\n",
       "    }\n",
       "</style>\n",
       "<table border=\"1\" class=\"dataframe\">\n",
       "  <thead>\n",
       "    <tr style=\"text-align: right;\">\n",
       "      <th></th>\n",
       "      <th>text</th>\n",
       "      <th>res</th>\n",
       "    </tr>\n",
       "  </thead>\n",
       "  <tbody>\n",
       "  </tbody>\n",
       "</table>\n",
       "</div>"
      ],
      "text/plain": [
       "Empty DataFrame\n",
       "Columns: [text, res]\n",
       "Index: []"
      ]
     },
     "execution_count": 21,
     "metadata": {},
     "output_type": "execute_result"
    }
   ],
   "source": [
    "data[data.res==True]"
   ]
  },
  {
   "cell_type": "code",
   "execution_count": 35,
   "metadata": {},
   "outputs": [
    {
     "data": {
      "text/plain": [
       "maritime craft                 43\n",
       "sailing vessel by form type    27\n",
       "warship                        16\n",
       "barge                           9\n",
       "fishing vessel                  8\n",
       "service vessel                  7\n",
       "dredger                         6\n",
       "ship of the line                6\n",
       "naval support vessel            6\n",
       "cargo vessel                    6\n",
       "yacht                           6\n",
       "trawler                         5\n",
       "square rigged vessel            5\n",
       "sailing vessel by rig           4\n",
       "passenger vessel                3\n",
       "drifter                         3\n",
       "schooner                        3\n",
       "east indiaman                   3\n",
       "transport vessel                2\n",
       "harbour service craft           2\n",
       "tug                             2\n",
       "launch                          2\n",
       "rescue vessel                   2\n",
       "craft                           2\n",
       "brig                            2\n",
       "ketch                           2\n",
       "landing craft                   2\n",
       "escort vessel                   1\n",
       "steam tug                       1\n",
       "factory ship                    1\n",
       "wherry                          1\n",
       "high speed launch               1\n",
       "lugger                          1\n",
       "trinity house vessel            1\n",
       "motor drifter                   1\n",
       "tanker                          1\n",
       "submarine                       1\n",
       "motor trawler                   1\n",
       "steam drifter                   1\n",
       "customs boat                    1\n",
       "smack                           1\n",
       "sloop                           1\n",
       "motor vessel                    1\n",
       "recreational vessel             1\n",
       "barque                          1\n",
       "yawl                            1\n",
       "lighter                         1\n",
       "patrol vessel                   1\n",
       "pinnace                         1\n",
       "Name: BROAD_TERM, dtype: int64"
      ]
     },
     "execution_count": 35,
     "metadata": {},
     "output_type": "execute_result"
    }
   ],
   "source": [
    "thesaurus.BROAD_TERM.value_counts()"
   ]
  },
  {
   "cell_type": "code",
   "execution_count": 36,
   "metadata": {},
   "outputs": [
    {
     "data": {
      "text/plain": [
       "billyboy                     2\n",
       "steam yacht                  2\n",
       "motor yacht                  2\n",
       "boat                         2\n",
       "requisitioned steam yacht    2\n",
       "                            ..\n",
       "concrete barge               1\n",
       "dumb barge                   1\n",
       "dumb concrete barge          1\n",
       "dumb hopper barge            1\n",
       "kuff                         1\n",
       "Name: TERM, Length: 199, dtype: int64"
      ]
     },
     "execution_count": 36,
     "metadata": {},
     "output_type": "execute_result"
    }
   ],
   "source": [
    "thesaurus.TERM.value_counts()"
   ]
  },
  {
   "cell_type": "code",
   "execution_count": 7,
   "metadata": {},
   "outputs": [],
   "source": [
    "df = thesaurus[thesaurus.groupby('TERM')['TERM'].transform('size') > 1]"
   ]
  },
  {
   "cell_type": "code",
   "execution_count": 8,
   "metadata": {},
   "outputs": [],
   "source": [
    "df = df.rename({'TERM': 'NARROW_TERM'}, axis=1)"
   ]
  },
  {
   "cell_type": "code",
   "execution_count": 9,
   "metadata": {},
   "outputs": [
    {
     "data": {
      "text/html": [
       "<div>\n",
       "<style scoped>\n",
       "    .dataframe tbody tr th:only-of-type {\n",
       "        vertical-align: middle;\n",
       "    }\n",
       "\n",
       "    .dataframe tbody tr th {\n",
       "        vertical-align: top;\n",
       "    }\n",
       "\n",
       "    .dataframe thead th {\n",
       "        text-align: right;\n",
       "    }\n",
       "</style>\n",
       "<table border=\"1\" class=\"dataframe\">\n",
       "  <thead>\n",
       "    <tr style=\"text-align: right;\">\n",
       "      <th></th>\n",
       "      <th>NARROW_TERM</th>\n",
       "      <th>BROAD_TERM</th>\n",
       "      <th>Match Getty</th>\n",
       "      <th>Target Concept</th>\n",
       "      <th>Getty BT</th>\n",
       "    </tr>\n",
       "  </thead>\n",
       "  <tbody>\n",
       "    <tr>\n",
       "      <th>71</th>\n",
       "      <td>billyboy</td>\n",
       "      <td>barge</td>\n",
       "      <td>broad match</td>\n",
       "      <td>sailing vessels by rig type</td>\n",
       "      <td>sailing vessels</td>\n",
       "    </tr>\n",
       "    <tr>\n",
       "      <th>195</th>\n",
       "      <td>billyboy</td>\n",
       "      <td>sailing vessel by form type</td>\n",
       "      <td>related match</td>\n",
       "      <td>coasters</td>\n",
       "      <td>watercraft by location or context</td>\n",
       "    </tr>\n",
       "    <tr>\n",
       "      <th>22</th>\n",
       "      <td>boat</td>\n",
       "      <td>maritime craft</td>\n",
       "      <td>exact match</td>\n",
       "      <td>boats</td>\n",
       "      <td>watercraft by general type</td>\n",
       "    </tr>\n",
       "    <tr>\n",
       "      <th>197</th>\n",
       "      <td>boat</td>\n",
       "      <td>sailing vessel by form type</td>\n",
       "      <td>exact match</td>\n",
       "      <td>boats</td>\n",
       "      <td>watercraft by general type</td>\n",
       "    </tr>\n",
       "    <tr>\n",
       "      <th>116</th>\n",
       "      <td>hospital ship</td>\n",
       "      <td>naval support vessel</td>\n",
       "      <td>exact match</td>\n",
       "      <td>hospital ships naval auxiliary ships naval shi...</td>\n",
       "      <td>naval auxiliary ships</td>\n",
       "    </tr>\n",
       "    <tr>\n",
       "      <th>120</th>\n",
       "      <td>hospital ship</td>\n",
       "      <td>passenger vessel</td>\n",
       "      <td>exact match</td>\n",
       "      <td>hospital ships naval auxiliary ships naval shi...</td>\n",
       "      <td>naval auxiliary ships</td>\n",
       "    </tr>\n",
       "    <tr>\n",
       "      <th>125</th>\n",
       "      <td>motor yacht</td>\n",
       "      <td>yacht</td>\n",
       "      <td>broad match</td>\n",
       "      <td>yachts</td>\n",
       "      <td>competition and recreation craft</td>\n",
       "    </tr>\n",
       "    <tr>\n",
       "      <th>190</th>\n",
       "      <td>motor yacht</td>\n",
       "      <td>yacht</td>\n",
       "      <td>broad match</td>\n",
       "      <td>yachts</td>\n",
       "      <td>competition and recreation craft</td>\n",
       "    </tr>\n",
       "    <tr>\n",
       "      <th>124</th>\n",
       "      <td>requisitioned steam yacht</td>\n",
       "      <td>yacht</td>\n",
       "      <td>broad match</td>\n",
       "      <td>yachts</td>\n",
       "      <td>competition and recreation craft</td>\n",
       "    </tr>\n",
       "    <tr>\n",
       "      <th>126</th>\n",
       "      <td>requisitioned steam yacht</td>\n",
       "      <td>yacht</td>\n",
       "      <td>broad match</td>\n",
       "      <td>yachts</td>\n",
       "      <td>competition and recreation craft</td>\n",
       "    </tr>\n",
       "    <tr>\n",
       "      <th>127</th>\n",
       "      <td>steam yacht</td>\n",
       "      <td>yacht</td>\n",
       "      <td>broad match</td>\n",
       "      <td>yachts</td>\n",
       "      <td>competition and recreation craft</td>\n",
       "    </tr>\n",
       "    <tr>\n",
       "      <th>191</th>\n",
       "      <td>steam yacht</td>\n",
       "      <td>yacht</td>\n",
       "      <td>broad match</td>\n",
       "      <td>yachts</td>\n",
       "      <td>competition and recreation craft</td>\n",
       "    </tr>\n",
       "    <tr>\n",
       "      <th>70</th>\n",
       "      <td>yacht</td>\n",
       "      <td>recreational vessel</td>\n",
       "      <td>exact match</td>\n",
       "      <td>yachts</td>\n",
       "      <td>competition and recreation craft</td>\n",
       "    </tr>\n",
       "    <tr>\n",
       "      <th>115</th>\n",
       "      <td>yacht</td>\n",
       "      <td>sailing vessel by form type</td>\n",
       "      <td>exact match</td>\n",
       "      <td>yachts</td>\n",
       "      <td>competition and recreation craft</td>\n",
       "    </tr>\n",
       "  </tbody>\n",
       "</table>\n",
       "</div>"
      ],
      "text/plain": [
       "                   NARROW_TERM                   BROAD_TERM    Match Getty  \\\n",
       "71                    billyboy                        barge    broad match   \n",
       "195                   billyboy  sailing vessel by form type  related match   \n",
       "22                        boat               maritime craft    exact match   \n",
       "197                       boat  sailing vessel by form type    exact match   \n",
       "116              hospital ship         naval support vessel    exact match   \n",
       "120              hospital ship             passenger vessel    exact match   \n",
       "125                motor yacht                        yacht    broad match   \n",
       "190                motor yacht                        yacht    broad match   \n",
       "124  requisitioned steam yacht                        yacht    broad match   \n",
       "126  requisitioned steam yacht                        yacht    broad match   \n",
       "127                steam yacht                        yacht    broad match   \n",
       "191                steam yacht                        yacht    broad match   \n",
       "70                       yacht          recreational vessel    exact match   \n",
       "115                      yacht  sailing vessel by form type    exact match   \n",
       "\n",
       "                                        Target Concept  \\\n",
       "71                         sailing vessels by rig type   \n",
       "195                                           coasters   \n",
       "22                                               boats   \n",
       "197                                              boats   \n",
       "116  hospital ships naval auxiliary ships naval shi...   \n",
       "120  hospital ships naval auxiliary ships naval shi...   \n",
       "125                                             yachts   \n",
       "190                                             yachts   \n",
       "124                                             yachts   \n",
       "126                                             yachts   \n",
       "127                                             yachts   \n",
       "191                                             yachts   \n",
       "70                                              yachts   \n",
       "115                                             yachts   \n",
       "\n",
       "                              Getty BT  \n",
       "71                     sailing vessels  \n",
       "195  watercraft by location or context  \n",
       "22          watercraft by general type  \n",
       "197         watercraft by general type  \n",
       "116              naval auxiliary ships  \n",
       "120              naval auxiliary ships  \n",
       "125   competition and recreation craft  \n",
       "190   competition and recreation craft  \n",
       "124   competition and recreation craft  \n",
       "126   competition and recreation craft  \n",
       "127   competition and recreation craft  \n",
       "191   competition and recreation craft  \n",
       "70    competition and recreation craft  \n",
       "115   competition and recreation craft  "
      ]
     },
     "execution_count": 9,
     "metadata": {},
     "output_type": "execute_result"
    }
   ],
   "source": [
    "df.sort_values(by=['NARROW_TERM'])"
   ]
  },
  {
   "cell_type": "code",
   "execution_count": 10,
   "metadata": {},
   "outputs": [
    {
     "name": "stderr",
     "output_type": "stream",
     "text": [
      "/opt/homebrew/lib/python3.9/site-packages/transformers/tokenization_utils_base.py:2301: FutureWarning: The `pad_to_max_length` argument is deprecated and will be removed in a future version, use `padding=True` or `padding='longest'` to pad to the longest sequence in the batch, or use `padding='max_length'` to pad to a max length. In this case, you can give a specific length with `max_length` (e.g. `max_length=45`) or leave max_length to None to pad to the maximal input size of the model (e.g. 512 for Bert).\n",
      "  warnings.warn(\n"
     ]
    },
    {
     "name": "stdout",
     "output_type": "stream",
     "text": [
      "label: warship \t similarity: 0.12327991425991058\n",
      "label: sailing \t similarity: 0.10645808279514313\n",
      "label: maritime \t similarity: 0.06913551688194275\n",
      "label: others \t similarity: -0.1429973542690277\n"
     ]
    }
   ],
   "source": [
    "sentence = data.text[7]\n",
    "labels = ['maritime', 'sailing', 'warship', 'others']\n",
    "\n",
    "# run inputs through model and mean-pool over the sequence\n",
    "# dimension to get sequence-level representations\n",
    "inputs = tokenizer.batch_encode_plus([sentence] + labels,\n",
    "                                     return_tensors='pt',\n",
    "                                     pad_to_max_length=True)\n",
    "input_ids = inputs['input_ids']\n",
    "attention_mask = inputs['attention_mask']\n",
    "output = model(input_ids, attention_mask=attention_mask)[0]\n",
    "sentence_rep = output[:1].mean(dim=1)\n",
    "label_reps = output[1:].mean(dim=1)\n",
    "\n",
    "# now find the labels with the highest cosine similarities to\n",
    "# the sentence\n",
    "similarities = F.cosine_similarity(sentence_rep, label_reps)\n",
    "closest = similarities.argsort(descending=True)\n",
    "for ind in closest:\n",
    "    print(f'label: {labels[ind]} \\t similarity: {similarities[ind]}')"
   ]
  },
  {
   "cell_type": "code",
   "execution_count": 52,
   "metadata": {},
   "outputs": [
    {
     "data": {
      "text/plain": [
       "1639"
      ]
     },
     "execution_count": 52,
     "metadata": {},
     "output_type": "execute_result"
    }
   ],
   "source": [
    "len(sentence)"
   ]
  },
  {
   "cell_type": "code",
   "execution_count": 61,
   "metadata": {},
   "outputs": [
    {
     "name": "stdout",
     "output_type": "stream",
     "text": [
      "The Caerphilly Palace opened in 1904 initially as a skating rink. The building was sold in 1910 to George H. Pitt who converted the Palace into Pitts Picture Palace with seating for 1,500 people. The conversion work was carried out by MrW. Branch of Abersychan with electric installations by Messr Crossley of Cardiff.The Palace used to run variety turns in between films and proved successful. The business changed ownership several times over the next few years and the showing of films and plays ceased around the time talkies emerged withthe building then becomingunused for many years. A local company, Ryans, used the building to store vehicles for a while before it being demolished in 1976.Meilyr Powel, RCAHMW, November 2020Source:Entertaining South Wales - C, overthefootlights.co.uk, pp.3-4\n"
     ]
    },
    {
     "name": "stderr",
     "output_type": "stream",
     "text": [
      "/opt/homebrew/lib/python3.9/site-packages/transformers/tokenization_utils_base.py:2301: FutureWarning: The `pad_to_max_length` argument is deprecated and will be removed in a future version, use `padding=True` or `padding='longest'` to pad to the longest sequence in the batch, or use `padding='max_length'` to pad to a max length. In this case, you can give a specific length with `max_length` (e.g. `max_length=45`) or leave max_length to None to pad to the maximal input size of the model (e.g. 512 for Bert).\n",
      "  warnings.warn(\n"
     ]
    },
    {
     "name": "stdout",
     "output_type": "stream",
     "text": [
      "label: warship \t similarity: 0.06033662334084511\n",
      "label: maritime \t similarity: 0.022682547569274902\n",
      "label: sailing \t similarity: 0.0035895584151148796\n",
      "label: others \t similarity: -0.008146878331899643\n",
      "None\n",
      "From Entertaining South Wales:The independent Plaza Cinema opened in North Road on March 12th 1928 with 1,500 seats. The opening film was Norma Talmadge in the (silent) version of &ldquoCamille&rdquo. The film was accompanied by a large in-house orchestra - a standard feature of many larger cinemas, though this was something that would mostly disappear due to manpower shortages during the Great War. Over the course of its more than fifty-year existence it was taken over by the Cardiff Cinema Circuit and then the Jackson Withers Circuit, and ultimately bought by the Rank Organisation. The cinema closed on October 17th 1981 with a horror double-bill of &ldquoAlien&rdquo and &ldquoThe Fog&rdquo. The building remained unused for several years before it was finally demolished and replaced with Meridian Court, a sheltered housing development.Meilyr Powel, RCAHMW, November 2020Source:Entertaining South Wales - C, overthefootlights.co.uk, p.32\n",
      "label: warship \t similarity: 0.06436970084905624\n",
      "label: sailing \t similarity: 0.06091150641441345\n",
      "label: maritime \t similarity: 0.0398661345243454\n",
      "label: others \t similarity: -0.019926298409700394\n",
      "None\n",
      "Usk Castle is a substantial masonry castle dating from around 1138 and now generally ruinous.   It is first recorded in the possession of Richard de Clare in 1262, but probably held by the de Clare family from the conquest of South Wales. It subsequently passed through severeal hands in the fourteenth century and for a time was controlled by Edmund Mortimer, Earl of the Marches. After the death of his nephew Richard, the Duke of York, it passed to Edward VI, subsequently staying in the hands of the crown until the death of Henry VII. It then passed to the Earls of Pembroke.The castle stands on a spur overlooking the Usk and consists of a rectangular area surrounded by curtain walls with towers at intervals and a large gatehouse on the east side. To the south-east is an outer bailey with walls on its south-east side, a corner tower on the south, and a gatehouse at the north end of the south-east wall.The gatehouse is square in plan, a three storey structure with a doorway reached by stone steps on the east side and round headed windows on the south side. Internally there is a fireplace on the north-west side, and a number of doorways at different levels. The north tower is D-shaped with a large square-headed doorway with a square mullioned window above on the inside wall, and external doorways in the north and south walls, that to the south leading to a small platform. On the first floor is a fireplace. The banqueting hall is 14th century in date, being altered around 1500. It stands against the curtain wall on the north side. Along its south side is a buttressed wall with two windows and a doorway, with a third window above. The west wall has a further, large window and there is a fireplace in the north wall at first floor level. The Garrison Tower is circular and located midway along the south-west curtain wall. It stands to its full height with a crenallated parapet, and there are doors into it on either side of the curtain wall. At a level corresponding to the top of the curtain wall is a small passageway leading to a garderobe on the north side and a spiral staircase on the south side, and there are small slit windows on four levels.The Round Tower in the south corner, stands to the same height as the curtain wall, with a doorway surviving on the north side.Curtain walls survive to various heights. On the north-east side there is a large gateway with a pointed arch, to the west of which is a low grass bank.  Above this are three supports in the wall for the first floor of the building that was there. There is also a tapering fireplace in the middle. To the north of the gateway is another fireplace and grass covered low remains of rooms, and to the north of this is a small projection with a rounded niche. The north side has St Georges chapel, an area of garden made into an open air chapel. At the west end a small tower projects to the outside of the curtain wall, internally having a fireplace and the remains of a spiral staircase.  The south-west curtain wall retains its wall walk, and there are three openings, one of which has a pillar and appears more recent. The south-east wall has a small 'room' inside the wall at an upper level.The Dovecot tower is at the south end of the outer bailey wall it is round in plan and stands to its full height. The internal north-west wall has niches for use as dove boxes.(Source SAM description)S Fielding, RCAHMW, 20 June 2005\n"
     ]
    },
    {
     "ename": "RuntimeError",
     "evalue": "The expanded size of the tensor (736) must match the existing size (512) at non-singleton dimension 1.  Target sizes: [5, 736].  Tensor sizes: [1, 512]",
     "output_type": "error",
     "traceback": [
      "\u001b[0;31m---------------------------------------------------------------------------\u001b[0m",
      "\u001b[0;31mRuntimeError\u001b[0m                              Traceback (most recent call last)",
      "\u001b[1;32m/Users/shrikritisingh/Documents/Github/mastersproject/zsl_code.ipynb Cell 16\u001b[0m in \u001b[0;36m<cell line: 3>\u001b[0;34m()\u001b[0m\n\u001b[1;32m      <a href='vscode-notebook-cell:/Users/shrikritisingh/Documents/Github/mastersproject/zsl_code.ipynb#ch0000015?line=3'>4</a>\u001b[0m \u001b[39mif\u001b[39;00m \u001b[39mlen\u001b[39m(sentence) \u001b[39m>\u001b[39m \u001b[39m1600\u001b[39m:\n\u001b[1;32m      <a href='vscode-notebook-cell:/Users/shrikritisingh/Documents/Github/mastersproject/zsl_code.ipynb#ch0000015?line=4'>5</a>\u001b[0m     \u001b[39mprint\u001b[39m(d)\n\u001b[0;32m----> <a href='vscode-notebook-cell:/Users/shrikritisingh/Documents/Github/mastersproject/zsl_code.ipynb#ch0000015?line=5'>6</a>\u001b[0m     \u001b[39mprint\u001b[39m(zsl(d))\n\u001b[1;32m      <a href='vscode-notebook-cell:/Users/shrikritisingh/Documents/Github/mastersproject/zsl_code.ipynb#ch0000015?line=6'>7</a>\u001b[0m     j\u001b[39m+\u001b[39m\u001b[39m=\u001b[39m\u001b[39m1\u001b[39m\n\u001b[1;32m      <a href='vscode-notebook-cell:/Users/shrikritisingh/Documents/Github/mastersproject/zsl_code.ipynb#ch0000015?line=7'>8</a>\u001b[0m i\u001b[39m+\u001b[39m\u001b[39m=\u001b[39m\u001b[39m1\u001b[39m\n",
      "\u001b[1;32m/Users/shrikritisingh/Documents/Github/mastersproject/zsl_code.ipynb Cell 16\u001b[0m in \u001b[0;36mzsl\u001b[0;34m(sentence)\u001b[0m\n\u001b[1;32m      <a href='vscode-notebook-cell:/Users/shrikritisingh/Documents/Github/mastersproject/zsl_code.ipynb#ch0000015?line=6'>7</a>\u001b[0m input_ids \u001b[39m=\u001b[39m inputs[\u001b[39m'\u001b[39m\u001b[39minput_ids\u001b[39m\u001b[39m'\u001b[39m]\n\u001b[1;32m      <a href='vscode-notebook-cell:/Users/shrikritisingh/Documents/Github/mastersproject/zsl_code.ipynb#ch0000015?line=7'>8</a>\u001b[0m attention_mask \u001b[39m=\u001b[39m inputs[\u001b[39m'\u001b[39m\u001b[39mattention_mask\u001b[39m\u001b[39m'\u001b[39m]\n\u001b[0;32m----> <a href='vscode-notebook-cell:/Users/shrikritisingh/Documents/Github/mastersproject/zsl_code.ipynb#ch0000015?line=8'>9</a>\u001b[0m output \u001b[39m=\u001b[39m model(input_ids, attention_mask\u001b[39m=\u001b[39;49mattention_mask)[\u001b[39m0\u001b[39m]\n\u001b[1;32m     <a href='vscode-notebook-cell:/Users/shrikritisingh/Documents/Github/mastersproject/zsl_code.ipynb#ch0000015?line=9'>10</a>\u001b[0m sentence_rep \u001b[39m=\u001b[39m output[:\u001b[39m1\u001b[39m]\u001b[39m.\u001b[39mmean(dim\u001b[39m=\u001b[39m\u001b[39m1\u001b[39m)\n\u001b[1;32m     <a href='vscode-notebook-cell:/Users/shrikritisingh/Documents/Github/mastersproject/zsl_code.ipynb#ch0000015?line=10'>11</a>\u001b[0m label_reps \u001b[39m=\u001b[39m output[\u001b[39m1\u001b[39m:]\u001b[39m.\u001b[39mmean(dim\u001b[39m=\u001b[39m\u001b[39m1\u001b[39m)\n",
      "File \u001b[0;32m/opt/homebrew/lib/python3.9/site-packages/torch/nn/modules/module.py:1130\u001b[0m, in \u001b[0;36mModule._call_impl\u001b[0;34m(self, *input, **kwargs)\u001b[0m\n\u001b[1;32m   1126\u001b[0m \u001b[39m# If we don't have any hooks, we want to skip the rest of the logic in\u001b[39;00m\n\u001b[1;32m   1127\u001b[0m \u001b[39m# this function, and just call forward.\u001b[39;00m\n\u001b[1;32m   1128\u001b[0m \u001b[39mif\u001b[39;00m \u001b[39mnot\u001b[39;00m (\u001b[39mself\u001b[39m\u001b[39m.\u001b[39m_backward_hooks \u001b[39mor\u001b[39;00m \u001b[39mself\u001b[39m\u001b[39m.\u001b[39m_forward_hooks \u001b[39mor\u001b[39;00m \u001b[39mself\u001b[39m\u001b[39m.\u001b[39m_forward_pre_hooks \u001b[39mor\u001b[39;00m _global_backward_hooks\n\u001b[1;32m   1129\u001b[0m         \u001b[39mor\u001b[39;00m _global_forward_hooks \u001b[39mor\u001b[39;00m _global_forward_pre_hooks):\n\u001b[0;32m-> 1130\u001b[0m     \u001b[39mreturn\u001b[39;00m forward_call(\u001b[39m*\u001b[39;49m\u001b[39minput\u001b[39;49m, \u001b[39m*\u001b[39;49m\u001b[39m*\u001b[39;49mkwargs)\n\u001b[1;32m   1131\u001b[0m \u001b[39m# Do not call functions when jit is used\u001b[39;00m\n\u001b[1;32m   1132\u001b[0m full_backward_hooks, non_full_backward_hooks \u001b[39m=\u001b[39m [], []\n",
      "File \u001b[0;32m/opt/homebrew/lib/python3.9/site-packages/transformers/models/bert/modeling_bert.py:984\u001b[0m, in \u001b[0;36mBertModel.forward\u001b[0;34m(self, input_ids, attention_mask, token_type_ids, position_ids, head_mask, inputs_embeds, encoder_hidden_states, encoder_attention_mask, past_key_values, use_cache, output_attentions, output_hidden_states, return_dict)\u001b[0m\n\u001b[1;32m    982\u001b[0m \u001b[39mif\u001b[39;00m \u001b[39mhasattr\u001b[39m(\u001b[39mself\u001b[39m\u001b[39m.\u001b[39membeddings, \u001b[39m\"\u001b[39m\u001b[39mtoken_type_ids\u001b[39m\u001b[39m\"\u001b[39m):\n\u001b[1;32m    983\u001b[0m     buffered_token_type_ids \u001b[39m=\u001b[39m \u001b[39mself\u001b[39m\u001b[39m.\u001b[39membeddings\u001b[39m.\u001b[39mtoken_type_ids[:, :seq_length]\n\u001b[0;32m--> 984\u001b[0m     buffered_token_type_ids_expanded \u001b[39m=\u001b[39m buffered_token_type_ids\u001b[39m.\u001b[39;49mexpand(batch_size, seq_length)\n\u001b[1;32m    985\u001b[0m     token_type_ids \u001b[39m=\u001b[39m buffered_token_type_ids_expanded\n\u001b[1;32m    986\u001b[0m \u001b[39melse\u001b[39;00m:\n",
      "\u001b[0;31mRuntimeError\u001b[0m: The expanded size of the tensor (736) must match the existing size (512) at non-singleton dimension 1.  Target sizes: [5, 736].  Tensor sizes: [1, 512]"
     ]
    }
   ],
   "source": [
    "i=0\n",
    "j=0\n",
    "for d in data.text:\n",
    "    if len(sentence) > 1600:\n",
    "        print(d)\n",
    "        print(zsl(d))\n",
    "        j+=1\n",
    "    i+=1\n",
    "    if j > 10:\n",
    "        break"
   ]
  },
  {
   "cell_type": "code",
   "execution_count": 62,
   "metadata": {},
   "outputs": [],
   "source": [
    "sentence=\"The church of St Meilig retains some 13th-14th century fabric in the tower, but was largely rebuilt by W.J. and A.H. Worthington of London in 1853-55 at the cost of &pound943 using mixed local stones, with Bath stone dressings.The nave has a south porch, the chancel has a vestry on the north side, and a west tower. The porch is in early Decorated style.The tower is of 3 stages, the top stage rebuilt in the 19th century. Two phases of early slit windows, all now blocked, and a crenellated parapet.The nave of 4 bays has an impressive open roof on orch-braced collar beam trusses springing from wall corbels. The chancel has an open trussed rafter roof with scissor braces and a deep oak cornice pierced with trefoils. The floor is paved with tiles.The limestone pulpit is octagonal, approached by 6 steps with carved oak handrail on twisted iron supports. The 19th century font is an octagonal bowl carved with ballflowers, fleurons and chequer panels, all raised on four clustered columns. The earlier, 13th century font is a simple round bowl with a horizontal flat central cordon, now bound with iron, on a tapered base. The organ of 1880, was restored by Henry James, London. At the west end is an important 11th century cross slab said originally to have stood at Croes feilig and set up in the churchyard in the 12th century (see NPRN 96531).There is an east window in memorial to Henry Beavan, the family who brought the church restoration to fruition. On the south side, a window with Christ with children, dedicated to William Elmslie, &dagger c.1853 in China Christ walking on waters, commemorating Captain R.Collinsons survival of the arctic expedition of the ship Enterprise. On the north side a window in memorial to Octavia Ramsey of Maesllwch Castle, &dagger1850.There are various wall monuments, including many from the previous church, reset after the rebuilding. In chancel, limestone Gothic aedicule, c.1870 to Hugh Beavan of Brynrhydd House, &dagger1837 white marble sarcophagus relief on black ground, by I.E.Thomas of London, to John Pugh of Porthgoley, &dagger1824 draped casket over white marble tablet set against veined marble, also by I.E.Thomas, to Ann Pugh of Porthgoley, &dagger1846 Gothic surround to marble tablet to John Pugh of Gare (Gaer), &dagger1788 white marble on grey, to Ann Gunter and William of Abergavenny &dagger1805 and 1808 (descendants of Sir Peter Gunter of Tregunter). There is also a Great War tablet. Against the west wall, a canvas Royal Arms of George III.The dedication to Meilig indicates an early origin. Meilig, abbott and confessor, was the son of Caw of Pictland and brother to the monk Gildas. He was born on Clydeside c. 650 and is mentioned in the C10 Culhwch and Olwen story, and in the Book of Llan Daf\""
   ]
  },
  {
   "cell_type": "code",
   "execution_count": 30,
   "metadata": {},
   "outputs": [],
   "source": [
    "def zsl(sentence):\n",
    "    labels = ['marine', 'sail', 'battleship', 'others']\n",
    "\n",
    "    inputs = tokenizer.batch_encode_plus([sentence] + labels,\n",
    "                                        return_tensors='pt',\n",
    "                                        pad_to_max_length=True)\n",
    "    input_ids = inputs['input_ids']\n",
    "    attention_mask = inputs['attention_mask']\n",
    "    output = model(input_ids, attention_mask=attention_mask)[0]\n",
    "    sentence_rep = output[:1].mean(dim=1)\n",
    "    label_reps = output[1:].mean(dim=1)\n",
    "\n",
    "    similarities = F.cosine_similarity(sentence_rep, label_reps)\n",
    "    closest = similarities.argsort(descending=True)\n",
    "    for ind in closest:\n",
    "        print(f'label: {labels[ind]} \\t similarity: {similarities[ind]}')"
   ]
  },
  {
   "cell_type": "code",
   "execution_count": 31,
   "metadata": {},
   "outputs": [
    {
     "name": "stdout",
     "output_type": "stream",
     "text": [
      "label: battleship \t similarity: 0.19067125022411346\n",
      "label: sail \t similarity: 0.11386388540267944\n",
      "label: marine \t similarity: 0.06501930952072144\n",
      "label: others \t similarity: 0.05681919679045677\n"
     ]
    }
   ],
   "source": [
    "sentence = \"The church was largely rebuilt in 1853-55 by W.J. and A.H. Worthington of London. The nave of 4 bays has an impressive open roof on orch-braced collar beam trusses. The chancel has an open trussed rafter roof with scissor braces and a deep oak cornice pierced with trefoils. The limestone pulpit is octagonal, approached by 6 steps with carved oak handrail.\"\n",
    "zsl(sentence)"
   ]
  },
  {
   "cell_type": "code",
   "execution_count": 21,
   "metadata": {},
   "outputs": [
    {
     "name": "stdout",
     "output_type": "stream",
     "text": [
      "Event and Historical Information:The POLTALLOCH was a steel four-masted bark of 2,138 net tons and measuring 86.7 x 12.8 x 7.4m. The vessel had four masts, rigged with royal sails above double top and topgallant sails, and was built in 1893 at Belfast by Workman, Clark &amp Co. Ltd. At time of loss, the POLTALLOCH was owned by Eschen &amp Minor of the US and was on voyage from Caleta Buena in Chile to Leith via Queenstown with a cargo of nitrate soda. On 2 January 1916 the vessel ran aground on St. Patricks Causeway, 13 miles north west of Barmouth. The captain and five of the crew of twenty-five landed in their boat at Harlech the following morning. A Liverpool Salvage Association cable stated on 5 January that the POLTALLOCH had a very heavy port list, and the cargo was melting. Due to such a heavy list, tugs did not attempt to tow the vessel, and by 10 January the ship had turned over on her broadside and became a total loss. Five Germans were among the crew of the POLTALLOCH who were subsequently interned. The cargo and total loss of the ship amounted to over &pound90,000.Sources include:The Barmouth and County Advertiser, 13 January 1916, p.7<br />Lloyds Register Casualty Returns, 1 January - 31 March 1916, p.13 (g)<br />SV Poltalloch, Wreck Site EU<br />Yr Udgorn, 12 January 1916, p.3Maritime Research Assistant, RCAHMW, September 2020.This record was created in 2020 withfunding from Lloyds Register Foundation as part of the project &lsquoMaking the Link: Lloyds Register and the National Monuments Record of Wales&rsquo. Visit Lloyd&rsquos Register Foundation Heritage and Education Centre for more resources.\n"
     ]
    },
    {
     "name": "stderr",
     "output_type": "stream",
     "text": [
      "/opt/homebrew/lib/python3.9/site-packages/transformers/tokenization_utils_base.py:2301: FutureWarning: The `pad_to_max_length` argument is deprecated and will be removed in a future version, use `padding=True` or `padding='longest'` to pad to the longest sequence in the batch, or use `padding='max_length'` to pad to a max length. In this case, you can give a specific length with `max_length` (e.g. `max_length=45`) or leave max_length to None to pad to the maximal input size of the model (e.g. 512 for Bert).\n",
      "  warnings.warn(\n"
     ]
    },
    {
     "name": "stdout",
     "output_type": "stream",
     "text": [
      "label: marine \t similarity: 0.09208926558494568\n",
      "label: sail \t similarity: -0.006853485479950905\n",
      "label: war \t similarity: -0.04180356115102768\n",
      "label: others \t similarity: -0.1429973542690277\n"
     ]
    }
   ],
   "source": [
    "sentence = data.text[7]\n",
    "print(sentence)\n",
    "zsl(sentence)"
   ]
  },
  {
   "cell_type": "code",
   "execution_count": null,
   "metadata": {},
   "outputs": [],
   "source": []
  }
 ],
 "metadata": {
  "interpreter": {
   "hash": "b0fa6594d8f4cbf19f97940f81e996739fb7646882a419484c72d19e05852a7e"
  },
  "kernelspec": {
   "display_name": "Python 3.9.10 64-bit",
   "name": "python3"
  },
  "language_info": {
   "codemirror_mode": {
    "name": "ipython",
    "version": 3
   },
   "file_extension": ".py",
   "mimetype": "text/x-python",
   "name": "python",
   "nbconvert_exporter": "python",
   "pygments_lexer": "ipython3",
   "version": "3.9.10"
  },
  "orig_nbformat": 4
 },
 "nbformat": 4,
 "nbformat_minor": 2
}
